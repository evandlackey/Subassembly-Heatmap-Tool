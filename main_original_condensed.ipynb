{
 "cells": [
  {
   "cell_type": "code",
   "execution_count": 1,
   "metadata": {},
   "outputs": [],
   "source": [
    "# Import Packages\n",
    "import pandas as pd\n",
    "import numpy as np\n",
    "import plotly.express as px\n",
    "import re\n",
    "import ipywidgets as widgets\n",
    "from IPython.display import display\n",
    "import json\n",
    "import plotly.graph_objects as go\n",
    "\n",
    "file_path = \"/Volumes/PKBACK# 001/NuLine/Python Projects - Original/PG10 Procurement Tool v2/PG10 - BOM 08.07.2024 - python copy 2.xlsm\"\n",
    "\n",
    "df_machined = pd.read_excel(file_path, sheet_name=\"Machined\")\n",
    "df_purchased = pd.read_excel(file_path, sheet_name=\"Purchased\")\n",
    "df_assys = pd.read_excel(file_path, sheet_name=\"Assemblies\")\n",
    "\n",
    "\n",
    "df_machined = df_machined[['Machined', 'Description', 'Cost', 'Total Qty',\n",
    "       'PO QTY', 'Need To Order?', 'QB Qty Rec', 'BP QTY REC', 'OUT TO PLATE',\n",
    "       'QTY TO PLATE', 'BACK FROM PLATE', 'QTY FROM PLATE', 'Mfg/Matl',\n",
    "       'Finish', 'Vendor',\n",
    "       'Order Date', 'Conf Date', 'PO #', 'Locations']]\n",
    "df_machined['Type'] = 'Machined'\n",
    "df_purchased = df_purchased[['Purchased', 'Description', 'Cost', 'PK QTY', 'BOM QTY', 'ORDER QTY',\n",
    "       'PO QTY', 'QB REC QTY', 'ACT REC QTY',\n",
    "       'Mfg/Matl', 'Vendor', 'Order Date',\n",
    "       'Conf Date', 'PO #', 'Locations']]\n",
    "df_purchased['Type'] = 'Purchased'\n",
    "\n",
    "df_assys = df_assys[['Assy', 'Description', 'Total Qty', 'Locations']]\n",
    "\n",
    "df_machined.rename(columns={'Machined': 'Part Number'}, inplace=True)\n",
    "df_purchased.rename(columns={'Purchased': 'Part Number'}, inplace=True)\n",
    "\n"
   ]
  },
  {
   "cell_type": "code",
   "execution_count": 2,
   "metadata": {},
   "outputs": [
    {
     "data": {
      "text/html": [
       "<div>\n",
       "<style scoped>\n",
       "    .dataframe tbody tr th:only-of-type {\n",
       "        vertical-align: middle;\n",
       "    }\n",
       "\n",
       "    .dataframe tbody tr th {\n",
       "        vertical-align: top;\n",
       "    }\n",
       "\n",
       "    .dataframe thead th {\n",
       "        text-align: right;\n",
       "    }\n",
       "</style>\n",
       "<table border=\"1\" class=\"dataframe\">\n",
       "  <thead>\n",
       "    <tr style=\"text-align: right;\">\n",
       "      <th></th>\n",
       "      <th>Part Number</th>\n",
       "      <th>Description</th>\n",
       "      <th>Cost</th>\n",
       "      <th>Total Qty</th>\n",
       "      <th>PO QTY</th>\n",
       "      <th>Need To Order?</th>\n",
       "      <th>QB Qty Rec</th>\n",
       "      <th>BP QTY REC</th>\n",
       "      <th>OUT TO PLATE</th>\n",
       "      <th>QTY TO PLATE</th>\n",
       "      <th>...</th>\n",
       "      <th>Order Date</th>\n",
       "      <th>Conf Date</th>\n",
       "      <th>PO #</th>\n",
       "      <th>Locations</th>\n",
       "      <th>Type</th>\n",
       "      <th>PK QTY</th>\n",
       "      <th>BOM QTY</th>\n",
       "      <th>ORDER QTY</th>\n",
       "      <th>QB REC QTY</th>\n",
       "      <th>ACT REC QTY</th>\n",
       "    </tr>\n",
       "  </thead>\n",
       "  <tbody>\n",
       "    <tr>\n",
       "      <th>0</th>\n",
       "      <td>Component Spacer.A</td>\n",
       "      <td>Metal Rectangle</td>\n",
       "      <td>0.000</td>\n",
       "      <td>30.0</td>\n",
       "      <td>400.0</td>\n",
       "      <td></td>\n",
       "      <td>400.0</td>\n",
       "      <td>400.0</td>\n",
       "      <td>NaT</td>\n",
       "      <td>400.0</td>\n",
       "      <td>...</td>\n",
       "      <td>2024-07-10</td>\n",
       "      <td>2024-08-09</td>\n",
       "      <td>55593</td>\n",
       "      <td>, 18x1.3.7.2, 4x4.1.7.3, 4x4.1.8.4, 4x6.10.15,</td>\n",
       "      <td>Machined</td>\n",
       "      <td>NaN</td>\n",
       "      <td>NaN</td>\n",
       "      <td>NaN</td>\n",
       "      <td>NaN</td>\n",
       "      <td>NaN</td>\n",
       "    </tr>\n",
       "    <tr>\n",
       "      <th>1</th>\n",
       "      <td>PG10.1.1.1.1.A</td>\n",
       "      <td>M8 Leveling Foot Plate</td>\n",
       "      <td>36.650</td>\n",
       "      <td>38.0</td>\n",
       "      <td>40.0</td>\n",
       "      <td></td>\n",
       "      <td>40.0</td>\n",
       "      <td>40.0</td>\n",
       "      <td>NaT</td>\n",
       "      <td>40.0</td>\n",
       "      <td>...</td>\n",
       "      <td>2024-06-10</td>\n",
       "      <td>2024-07-17</td>\n",
       "      <td>55545</td>\n",
       "      <td>, 38x1.1.1.1,</td>\n",
       "      <td>Machined</td>\n",
       "      <td>NaN</td>\n",
       "      <td>NaN</td>\n",
       "      <td>NaN</td>\n",
       "      <td>NaN</td>\n",
       "      <td>NaN</td>\n",
       "    </tr>\n",
       "    <tr>\n",
       "      <th>2</th>\n",
       "      <td>PG10.1.1.1.A</td>\n",
       "      <td>MODIFIED BRX 90X90 -I- 3410mm</td>\n",
       "      <td>0.000</td>\n",
       "      <td>2.0</td>\n",
       "      <td>2.0</td>\n",
       "      <td></td>\n",
       "      <td>2.0</td>\n",
       "      <td>2.0</td>\n",
       "      <td>NaT</td>\n",
       "      <td>2.0</td>\n",
       "      <td>...</td>\n",
       "      <td>NaT</td>\n",
       "      <td>NaT</td>\n",
       "      <td>NaN</td>\n",
       "      <td>, 2x1.1.1,</td>\n",
       "      <td>Machined</td>\n",
       "      <td>NaN</td>\n",
       "      <td>NaN</td>\n",
       "      <td>NaN</td>\n",
       "      <td>NaN</td>\n",
       "      <td>NaN</td>\n",
       "    </tr>\n",
       "    <tr>\n",
       "      <th>3</th>\n",
       "      <td>PG10.1.1.10.2.A</td>\n",
       "      <td>ACTUATED DANCER FITTINGS PLATE</td>\n",
       "      <td>62.500</td>\n",
       "      <td>2.0</td>\n",
       "      <td>2.0</td>\n",
       "      <td></td>\n",
       "      <td>2.0</td>\n",
       "      <td>2.0</td>\n",
       "      <td>NaT</td>\n",
       "      <td>2.0</td>\n",
       "      <td>...</td>\n",
       "      <td>2024-05-23</td>\n",
       "      <td>2024-06-24</td>\n",
       "      <td>55523</td>\n",
       "      <td>, 2x1.1.10.1,</td>\n",
       "      <td>Machined</td>\n",
       "      <td>NaN</td>\n",
       "      <td>NaN</td>\n",
       "      <td>NaN</td>\n",
       "      <td>NaN</td>\n",
       "      <td>NaN</td>\n",
       "    </tr>\n",
       "    <tr>\n",
       "      <th>4</th>\n",
       "      <td>PG10.1.1.11.1.A</td>\n",
       "      <td>Twin Wall Top Guard 1</td>\n",
       "      <td>84.900</td>\n",
       "      <td>1.0</td>\n",
       "      <td>1.0</td>\n",
       "      <td></td>\n",
       "      <td>NaN</td>\n",
       "      <td>NaN</td>\n",
       "      <td>NaT</td>\n",
       "      <td>NaN</td>\n",
       "      <td>...</td>\n",
       "      <td>2024-09-19</td>\n",
       "      <td>NaT</td>\n",
       "      <td>55745</td>\n",
       "      <td>, 1x1.1.11.1,</td>\n",
       "      <td>Machined</td>\n",
       "      <td>NaN</td>\n",
       "      <td>NaN</td>\n",
       "      <td>NaN</td>\n",
       "      <td>NaN</td>\n",
       "      <td>NaN</td>\n",
       "    </tr>\n",
       "    <tr>\n",
       "      <th>...</th>\n",
       "      <td>...</td>\n",
       "      <td>...</td>\n",
       "      <td>...</td>\n",
       "      <td>...</td>\n",
       "      <td>...</td>\n",
       "      <td>...</td>\n",
       "      <td>...</td>\n",
       "      <td>...</td>\n",
       "      <td>...</td>\n",
       "      <td>...</td>\n",
       "      <td>...</td>\n",
       "      <td>...</td>\n",
       "      <td>...</td>\n",
       "      <td>...</td>\n",
       "      <td>...</td>\n",
       "      <td>...</td>\n",
       "      <td>...</td>\n",
       "      <td>...</td>\n",
       "      <td>...</td>\n",
       "      <td>...</td>\n",
       "      <td>...</td>\n",
       "    </tr>\n",
       "    <tr>\n",
       "      <th>977</th>\n",
       "      <td>7000-12481-0000000</td>\n",
       "      <td>M12 male 0° A-cod. IDC 4-pol., 0.25 - 0.5mm, 4...</td>\n",
       "      <td>0.000</td>\n",
       "      <td>NaN</td>\n",
       "      <td>NaN</td>\n",
       "      <td>NaN</td>\n",
       "      <td>NaN</td>\n",
       "      <td>NaN</td>\n",
       "      <td>NaT</td>\n",
       "      <td>NaN</td>\n",
       "      <td>...</td>\n",
       "      <td>NaT</td>\n",
       "      <td>NaT</td>\n",
       "      <td>NaN</td>\n",
       "      <td>, 1x6.2.1.4.308, 1x6.3.1.4.308,</td>\n",
       "      <td>Purchased</td>\n",
       "      <td>1.0</td>\n",
       "      <td>2.0</td>\n",
       "      <td>2.0</td>\n",
       "      <td>NaN</td>\n",
       "      <td>NaN</td>\n",
       "    </tr>\n",
       "    <tr>\n",
       "      <th>978</th>\n",
       "      <td>Zipper Enclosure</td>\n",
       "      <td>Presto Zipper Enclosure</td>\n",
       "      <td>NaN</td>\n",
       "      <td>NaN</td>\n",
       "      <td>NaN</td>\n",
       "      <td>NaN</td>\n",
       "      <td>NaN</td>\n",
       "      <td>NaN</td>\n",
       "      <td>NaT</td>\n",
       "      <td>NaN</td>\n",
       "      <td>...</td>\n",
       "      <td>2024-01-16</td>\n",
       "      <td>2024-09-26</td>\n",
       "      <td>55366</td>\n",
       "      <td>, 1x12.313</td>\n",
       "      <td>Purchased</td>\n",
       "      <td>1.0</td>\n",
       "      <td>1.0</td>\n",
       "      <td>1.0</td>\n",
       "      <td>NaN</td>\n",
       "      <td>NaN</td>\n",
       "    </tr>\n",
       "    <tr>\n",
       "      <th>979</th>\n",
       "      <td>MA-00779</td>\n",
       "      <td>Presto Turner, Welders, Parkers, Adjustment Me...</td>\n",
       "      <td>0.000</td>\n",
       "      <td>NaN</td>\n",
       "      <td>NaN</td>\n",
       "      <td>NaN</td>\n",
       "      <td>NaN</td>\n",
       "      <td>NaN</td>\n",
       "      <td>NaT</td>\n",
       "      <td>NaN</td>\n",
       "      <td>...</td>\n",
       "      <td>2024-01-16</td>\n",
       "      <td>2024-09-26</td>\n",
       "      <td>55366</td>\n",
       "      <td>, 1x3.4.301, 2x4.4.303,</td>\n",
       "      <td>Purchased</td>\n",
       "      <td>1.0</td>\n",
       "      <td>3.0</td>\n",
       "      <td>3.0</td>\n",
       "      <td>NaN</td>\n",
       "      <td>NaN</td>\n",
       "    </tr>\n",
       "    <tr>\n",
       "      <th>980</th>\n",
       "      <td>3842535458</td>\n",
       "      <td>BRX GOTO QUICK CONNECTOR N10 0°</td>\n",
       "      <td>4.170</td>\n",
       "      <td>NaN</td>\n",
       "      <td>1750.0</td>\n",
       "      <td>NaN</td>\n",
       "      <td>NaN</td>\n",
       "      <td>NaN</td>\n",
       "      <td>NaT</td>\n",
       "      <td>NaN</td>\n",
       "      <td>...</td>\n",
       "      <td>2024-03-11</td>\n",
       "      <td>2024-03-27</td>\n",
       "      <td>55445</td>\n",
       "      <td>, 127x1.1.302, 4x1.4.302, 4x1.5.302, 56x2.1.30...</td>\n",
       "      <td>Purchased</td>\n",
       "      <td>1.0</td>\n",
       "      <td>1786.0</td>\n",
       "      <td>1786.0</td>\n",
       "      <td>1467.0</td>\n",
       "      <td>1467.0</td>\n",
       "    </tr>\n",
       "    <tr>\n",
       "      <th>981</th>\n",
       "      <td>F66BK60</td>\n",
       "      <td>6x6in wireway divider</td>\n",
       "      <td>66.541</td>\n",
       "      <td>NaN</td>\n",
       "      <td>11.0</td>\n",
       "      <td>NaN</td>\n",
       "      <td>NaN</td>\n",
       "      <td>NaN</td>\n",
       "      <td>NaT</td>\n",
       "      <td>NaN</td>\n",
       "      <td>...</td>\n",
       "      <td>2024-08-26</td>\n",
       "      <td>2024-09-17</td>\n",
       "      <td>55703</td>\n",
       "      <td>, 12x12.303</td>\n",
       "      <td>Purchased</td>\n",
       "      <td>1.0</td>\n",
       "      <td>12.0</td>\n",
       "      <td>12.0</td>\n",
       "      <td>12.0</td>\n",
       "      <td>12.0</td>\n",
       "    </tr>\n",
       "  </tbody>\n",
       "</table>\n",
       "<p>982 rows × 25 columns</p>\n",
       "</div>"
      ],
      "text/plain": [
       "            Part Number                                        Description  \\\n",
       "0    Component Spacer.A                                    Metal Rectangle   \n",
       "1        PG10.1.1.1.1.A                             M8 Leveling Foot Plate   \n",
       "2          PG10.1.1.1.A                      MODIFIED BRX 90X90 -I- 3410mm   \n",
       "3       PG10.1.1.10.2.A                     ACTUATED DANCER FITTINGS PLATE   \n",
       "4       PG10.1.1.11.1.A                              Twin Wall Top Guard 1   \n",
       "..                  ...                                                ...   \n",
       "977  7000-12481-0000000  M12 male 0° A-cod. IDC 4-pol., 0.25 - 0.5mm, 4...   \n",
       "978    Zipper Enclosure                            Presto Zipper Enclosure   \n",
       "979            MA-00779  Presto Turner, Welders, Parkers, Adjustment Me...   \n",
       "980          3842535458                    BRX GOTO QUICK CONNECTOR N10 0°   \n",
       "981             F66BK60                              6x6in wireway divider   \n",
       "\n",
       "       Cost  Total Qty  PO QTY Need To Order?  QB Qty Rec  BP QTY REC  \\\n",
       "0     0.000       30.0   400.0                      400.0       400.0   \n",
       "1    36.650       38.0    40.0                       40.0        40.0   \n",
       "2     0.000        2.0     2.0                        2.0         2.0   \n",
       "3    62.500        2.0     2.0                        2.0         2.0   \n",
       "4    84.900        1.0     1.0                        NaN         NaN   \n",
       "..      ...        ...     ...            ...         ...         ...   \n",
       "977   0.000        NaN     NaN            NaN         NaN         NaN   \n",
       "978     NaN        NaN     NaN            NaN         NaN         NaN   \n",
       "979   0.000        NaN     NaN            NaN         NaN         NaN   \n",
       "980   4.170        NaN  1750.0            NaN         NaN         NaN   \n",
       "981  66.541        NaN    11.0            NaN         NaN         NaN   \n",
       "\n",
       "    OUT TO PLATE  QTY TO PLATE  ... Order Date  Conf Date   PO #  \\\n",
       "0            NaT         400.0  ... 2024-07-10 2024-08-09  55593   \n",
       "1            NaT          40.0  ... 2024-06-10 2024-07-17  55545   \n",
       "2            NaT           2.0  ...        NaT        NaT    NaN   \n",
       "3            NaT           2.0  ... 2024-05-23 2024-06-24  55523   \n",
       "4            NaT           NaN  ... 2024-09-19        NaT  55745   \n",
       "..           ...           ...  ...        ...        ...    ...   \n",
       "977          NaT           NaN  ...        NaT        NaT    NaN   \n",
       "978          NaT           NaN  ... 2024-01-16 2024-09-26  55366   \n",
       "979          NaT           NaN  ... 2024-01-16 2024-09-26  55366   \n",
       "980          NaT           NaN  ... 2024-03-11 2024-03-27  55445   \n",
       "981          NaT           NaN  ... 2024-08-26 2024-09-17  55703   \n",
       "\n",
       "                                             Locations       Type PK QTY  \\\n",
       "0       , 18x1.3.7.2, 4x4.1.7.3, 4x4.1.8.4, 4x6.10.15,   Machined    NaN   \n",
       "1                                        , 38x1.1.1.1,   Machined    NaN   \n",
       "2                                           , 2x1.1.1,   Machined    NaN   \n",
       "3                                        , 2x1.1.10.1,   Machined    NaN   \n",
       "4                                        , 1x1.1.11.1,   Machined    NaN   \n",
       "..                                                 ...        ...    ...   \n",
       "977                    , 1x6.2.1.4.308, 1x6.3.1.4.308,  Purchased    1.0   \n",
       "978                                         , 1x12.313  Purchased    1.0   \n",
       "979                            , 1x3.4.301, 2x4.4.303,  Purchased    1.0   \n",
       "980  , 127x1.1.302, 4x1.4.302, 4x1.5.302, 56x2.1.30...  Purchased    1.0   \n",
       "981                                        , 12x12.303  Purchased    1.0   \n",
       "\n",
       "    BOM QTY ORDER QTY QB REC QTY ACT REC QTY  \n",
       "0       NaN       NaN        NaN         NaN  \n",
       "1       NaN       NaN        NaN         NaN  \n",
       "2       NaN       NaN        NaN         NaN  \n",
       "3       NaN       NaN        NaN         NaN  \n",
       "4       NaN       NaN        NaN         NaN  \n",
       "..      ...       ...        ...         ...  \n",
       "977     2.0       2.0        NaN         NaN  \n",
       "978     1.0       1.0        NaN         NaN  \n",
       "979     3.0       3.0        NaN         NaN  \n",
       "980  1786.0    1786.0     1467.0      1467.0  \n",
       "981    12.0      12.0       12.0        12.0  \n",
       "\n",
       "[982 rows x 25 columns]"
      ]
     },
     "execution_count": 2,
     "metadata": {},
     "output_type": "execute_result"
    }
   ],
   "source": [
    "#combining tables into one\n",
    "df_all_parts = pd.concat([df_machined, df_purchased], ignore_index=True)\n",
    "df_all_parts"
   ]
  },
  {
   "cell_type": "code",
   "execution_count": 3,
   "metadata": {},
   "outputs": [
    {
     "data": {
      "text/plain": [
       "Index(['Part Number', 'Description', 'Cost', 'Total Qty', 'PO QTY',\n",
       "       'Need To Order?', 'QB Qty Rec', 'BP QTY REC', 'OUT TO PLATE',\n",
       "       'QTY TO PLATE', 'BACK FROM PLATE', 'QTY FROM PLATE', 'Mfg/Matl',\n",
       "       'Finish', 'Vendor', 'Order Date', 'Conf Date', 'PO #', 'Locations',\n",
       "       'Type', 'PK QTY', 'BOM QTY', 'ORDER QTY', 'QB REC QTY', 'ACT REC QTY'],\n",
       "      dtype='object')"
      ]
     },
     "execution_count": 3,
     "metadata": {},
     "output_type": "execute_result"
    }
   ],
   "source": [
    "df_all_parts.columns"
   ]
  },
  {
   "cell_type": "code",
   "execution_count": 4,
   "metadata": {},
   "outputs": [
    {
     "name": "stdout",
     "output_type": "stream",
     "text": [
      "             Part Number                      Description    Cost  Total Qty  \\\n",
      "0     Component Spacer.A                  Metal Rectangle   0.000       30.0   \n",
      "1     Component Spacer.A                  Metal Rectangle   0.000       30.0   \n",
      "2     Component Spacer.A                  Metal Rectangle   0.000       30.0   \n",
      "3     Component Spacer.A                  Metal Rectangle   0.000       30.0   \n",
      "4         PG10.1.1.1.1.A           M8 Leveling Foot Plate  36.650       38.0   \n",
      "...                  ...                              ...     ...        ...   \n",
      "1771          3842535458  BRX GOTO QUICK CONNECTOR N10 0°   4.170        NaN   \n",
      "1772          3842535458  BRX GOTO QUICK CONNECTOR N10 0°   4.170        NaN   \n",
      "1773          3842535458  BRX GOTO QUICK CONNECTOR N10 0°   4.170        NaN   \n",
      "1774          3842535458  BRX GOTO QUICK CONNECTOR N10 0°   4.170        NaN   \n",
      "1775             F66BK60            6x6in wireway divider  66.541        NaN   \n",
      "\n",
      "      PO QTY Need To Order?  QB Qty Rec  BP QTY REC OUT TO PLATE  \\\n",
      "0      400.0                      400.0       400.0          NaT   \n",
      "1      400.0                      400.0       400.0          NaT   \n",
      "2      400.0                      400.0       400.0          NaT   \n",
      "3      400.0                      400.0       400.0          NaT   \n",
      "4       40.0                       40.0        40.0          NaT   \n",
      "...      ...            ...         ...         ...          ...   \n",
      "1771  1750.0            NaN         NaN         NaN          NaT   \n",
      "1772  1750.0            NaN         NaN         NaN          NaT   \n",
      "1773  1750.0            NaN         NaN         NaN          NaT   \n",
      "1774  1750.0            NaN         NaN         NaN          NaT   \n",
      "1775    11.0            NaN         NaN         NaN          NaT   \n",
      "\n",
      "      QTY TO PLATE  ...  Conf Date   PO # Location Qty Locations       Type  \\\n",
      "0            400.0  ... 2024-08-09  55593           18     1.3.7   Machined   \n",
      "1            400.0  ... 2024-08-09  55593            4     4.1.7   Machined   \n",
      "2            400.0  ... 2024-08-09  55593            4     4.1.8   Machined   \n",
      "3            400.0  ... 2024-08-09  55593            4      6.10   Machined   \n",
      "4             40.0  ... 2024-07-17  55545           38     1.1.1   Machined   \n",
      "...            ...  ...        ...    ...          ...       ...        ...   \n",
      "1771           NaN  ... 2024-03-27  55445          116       7.1  Purchased   \n",
      "1772           NaN  ... 2024-03-27  55445          140      10.1  Purchased   \n",
      "1773           NaN  ... 2024-03-27  55445           16    10.1.1  Purchased   \n",
      "1774           NaN  ... 2024-03-27  55445            5        12  Purchased   \n",
      "1775           NaN  ... 2024-09-17  55703           12        12  Purchased   \n",
      "\n",
      "     PK QTY BOM QTY ORDER QTY  QB REC QTY ACT REC QTY  \n",
      "0       NaN     NaN       NaN         NaN         NaN  \n",
      "1       NaN     NaN       NaN         NaN         NaN  \n",
      "2       NaN     NaN       NaN         NaN         NaN  \n",
      "3       NaN     NaN       NaN         NaN         NaN  \n",
      "4       NaN     NaN       NaN         NaN         NaN  \n",
      "...     ...     ...       ...         ...         ...  \n",
      "1771    1.0  1786.0    1786.0      1467.0      1467.0  \n",
      "1772    1.0  1786.0    1786.0      1467.0      1467.0  \n",
      "1773    1.0  1786.0    1786.0      1467.0      1467.0  \n",
      "1774    1.0  1786.0    1786.0      1467.0      1467.0  \n",
      "1775    1.0    12.0      12.0        12.0        12.0  \n",
      "\n",
      "[1776 rows x 26 columns]\n"
     ]
    }
   ],
   "source": [
    "# Initialize a list to hold new rows\n",
    "new_rows = []\n",
    "\n",
    "# Process each row\n",
    "for index, row in df_all_parts.iterrows():\n",
    "    try:\n",
    "        # Handle locations_value and split based on ', '\n",
    "        locations_value = row['Locations']\n",
    "        \n",
    "        # Ensure locations_value is a string\n",
    "        locations_value = str(locations_value)\n",
    "        \n",
    "        # Split locations_value by ', ' (assuming there are multiple locations)\n",
    "        locations_list = locations_value.split(', ')\n",
    "        \n",
    "        for location in locations_list:\n",
    "            if 'x' in location:\n",
    "                # Split by 'x' and take the first part as the quantity\n",
    "                location_qty, location_rest = location.split('x', 1)\n",
    "                \n",
    "                # Extract and process the location\n",
    "                location_qty = int(location_qty)\n",
    "                location_rest = location_rest.rsplit('.', 1)[0]  # Remove the last period and characters after\n",
    "                \n",
    "                # Build the new row dictionary\n",
    "                new_row = row.drop(labels=['Locations']).to_dict()\n",
    "                new_row['Location Qty'] = location_qty\n",
    "                new_row['Locations'] = location_rest\n",
    "                \n",
    "                # Append the new row\n",
    "                new_rows.append(new_row)\n",
    "                \n",
    "    except Exception as e:\n",
    "        print(f\"Error processing row {index}: {e}\")\n",
    "\n",
    "# Create the new DataFrame\n",
    "df_all_parts_expanded = pd.DataFrame(new_rows)\n",
    "\n",
    "# Reorder columns to place 'Location Qty' to the left of 'Locations'\n",
    "# Start by copying the list of columns and inserting 'Location Qty'\n",
    "ordered_columns = [\n",
    "    'Part Number', 'Description', 'Cost', 'Total Qty', 'PO QTY',\n",
    "    'Need To Order?', 'QB Qty Rec', 'BP QTY REC', 'OUT TO PLATE',\n",
    "    'QTY TO PLATE', 'BACK FROM PLATE', 'QTY FROM PLATE', 'Mfg/Matl',\n",
    "    'Finish', 'Vendor', 'Order Date', 'Conf Date', 'PO #', 'Location Qty',\n",
    "    'Locations', 'Type', 'PK QTY', 'BOM QTY', 'ORDER QTY', 'QB REC QTY', 'ACT REC QTY'\n",
    "]\n",
    "\n",
    "df_all_parts_expanded = df_all_parts_expanded[ordered_columns]\n",
    "\n",
    "print(df_all_parts_expanded)"
   ]
  },
  {
   "cell_type": "code",
   "execution_count": 5,
   "metadata": {},
   "outputs": [
    {
     "name": "stdout",
     "output_type": "stream",
     "text": [
      "                            Part Number                   Description   Cost  \\\n",
      "Part Number                                                                    \n",
      "22198            1144             22198                  Dienes Knife  20.21   \n",
      "42027            1540             42027  BPM 24 Icotek Blanking Plate   6.72   \n",
      "                 1541             42027  BPM 24 Icotek Blanking Plate   6.72   \n",
      "                 1542             42027  BPM 24 Icotek Blanking Plate   6.72   \n",
      "                 1543             42027  BPM 24 Icotek Blanking Plate   6.72   \n",
      "...                                 ...                           ...    ...   \n",
      "WS-10-30-1400    1195     WS-10-30-1400                   LINIAR RAIL  48.79   \n",
      "WW-10-30-08      1196       WW-10-30-08            LINER DRYLIN STAGE  88.84   \n",
      "Y600-D           818             Y600-D               Airprep Spacer    6.52   \n",
      "Y600T-D          846            Y600T-D   Airprep Spacer with Bracket   9.00   \n",
      "Zipper Enclosure 1738  Zipper Enclosure       Presto Zipper Enclosure    NaN   \n",
      "\n",
      "                       Total Qty  PO QTY Need To Order?  QB Qty Rec  \\\n",
      "Part Number                                                           \n",
      "22198            1144        NaN     1.0            NaN         NaN   \n",
      "42027            1540        NaN    30.0            NaN         NaN   \n",
      "                 1541        NaN    30.0            NaN         NaN   \n",
      "                 1542        NaN    30.0            NaN         NaN   \n",
      "                 1543        NaN    30.0            NaN         NaN   \n",
      "...                          ...     ...            ...         ...   \n",
      "WS-10-30-1400    1195        NaN     1.0            NaN         NaN   \n",
      "WW-10-30-08      1196        NaN     1.0            NaN         NaN   \n",
      "Y600-D           818         NaN     1.0            NaN         NaN   \n",
      "Y600T-D          846         NaN     2.0            NaN         NaN   \n",
      "Zipper Enclosure 1738        NaN     NaN            NaN         NaN   \n",
      "\n",
      "                       BP QTY REC OUT TO PLATE  QTY TO PLATE  ...   PO #  \\\n",
      "Part Number                                                   ...          \n",
      "22198            1144         NaN          NaT           NaN  ...  55630   \n",
      "42027            1540         NaN          NaT           NaN  ...  55643   \n",
      "                 1541         NaN          NaT           NaN  ...  55643   \n",
      "                 1542         NaN          NaT           NaN  ...  55643   \n",
      "                 1543         NaN          NaT           NaN  ...  55643   \n",
      "...                           ...          ...           ...  ...    ...   \n",
      "WS-10-30-1400    1195         NaN          NaT           NaN  ...  55604   \n",
      "WW-10-30-08      1196         NaN          NaT           NaN  ...  55604   \n",
      "Y600-D           818          NaN          NaT           NaN  ...  55709   \n",
      "Y600T-D          846          NaN          NaT           NaN  ...  55709   \n",
      "Zipper Enclosure 1738         NaN          NaT           NaN  ...  55366   \n",
      "\n",
      "                       Location Qty Locations       Type PK QTY BOM QTY  \\\n",
      "Part Number                                                               \n",
      "22198            1144             1       9.3  Purchased    1.0     1.0   \n",
      "42027            1540             3       0.3  Purchased   10.0    15.0   \n",
      "                 1541             3       0.4  Purchased   10.0    15.0   \n",
      "                 1542             3       0.6  Purchased   10.0    15.0   \n",
      "                 1543             3       0.9  Purchased   10.0    15.0   \n",
      "...                             ...       ...        ...    ...     ...   \n",
      "WS-10-30-1400    1195             1       4.3  Purchased    1.0     1.0   \n",
      "WW-10-30-08      1196             1       4.3  Purchased    1.0     1.0   \n",
      "Y600-D           818              1      11.1  Purchased    1.0     1.0   \n",
      "Y600T-D          846              2      11.1  Purchased    1.0     2.0   \n",
      "Zipper Enclosure 1738             1        12  Purchased    1.0     1.0   \n",
      "\n",
      "                      ORDER QTY QB REC QTY  ACT REC QTY        Status  \n",
      "Part Number                                                            \n",
      "22198            1144       1.0        1.0          1.0      Received  \n",
      "42027            1540       2.0       30.0         30.0      Received  \n",
      "                 1541       2.0       30.0         30.0      Received  \n",
      "                 1542       2.0       30.0         30.0      Received  \n",
      "                 1543       2.0       30.0         30.0      Received  \n",
      "...                         ...        ...          ...           ...  \n",
      "WS-10-30-1400    1195       1.0        1.0          1.0      Received  \n",
      "WW-10-30-08      1196       1.0        1.0          1.0      Received  \n",
      "Y600-D           818        1.0        1.0          1.0      Received  \n",
      "Y600T-D          846        2.0        2.0          2.0      Received  \n",
      "Zipper Enclosure 1738       1.0        NaN          NaN  Not Received  \n",
      "\n",
      "[1776 rows x 27 columns]\n"
     ]
    },
    {
     "name": "stderr",
     "output_type": "stream",
     "text": [
      "/var/folders/0w/q_gsy2xs38s4d9955d8s3gkc0000gn/T/ipykernel_55545/3291768520.py:36: DeprecationWarning: DataFrameGroupBy.apply operated on the grouping columns. This behavior is deprecated, and in a future version of pandas the grouping columns will be excluded from the operation. Either pass `include_groups=False` to exclude the groupings or explicitly select the grouping columns after groupby to silence this warning.\n",
      "  df_all_parts_expanded = df_all_parts_expanded.groupby('Part Number').apply(update_status)\n"
     ]
    }
   ],
   "source": [
    "#Status processing, removed statements that were overwriting previous statuses in the case of extras \n",
    "# Add a new 'Status' column with default value\n",
    "df_all_parts_expanded['Status'] = ''\n",
    "\n",
    "# Function to update Status based on the type and quantities\n",
    "def update_status(group):\n",
    "    if group['Type'].iloc[0] == 'Machined':\n",
    "        qty_from_plate = group['QTY FROM PLATE'].iloc[0]\n",
    "        for i in range(len(group)):\n",
    "            location_qty = group['Location Qty'].iloc[i]\n",
    "            if qty_from_plate > 0:\n",
    "                if qty_from_plate >= location_qty:\n",
    "                    group.at[group.index[i], 'Status'] = 'Received'\n",
    "                    qty_from_plate -= location_qty\n",
    "                else:\n",
    "                    group.at[group.index[i], 'Status'] = f'Received {int(qty_from_plate)} of {int(location_qty)}'\n",
    "                    qty_from_plate = 0\n",
    "            else:\n",
    "                group.at[group.index[i], 'Status'] = 'Not Received'\n",
    "    elif group['Type'].iloc[0] == 'Purchased':\n",
    "        act_rec_qty = group['ACT REC QTY'].iloc[0]\n",
    "        for i in range(len(group)):\n",
    "            location_qty = group['Location Qty'].iloc[i]\n",
    "            if act_rec_qty > 0:\n",
    "                if act_rec_qty >= location_qty:\n",
    "                    group.at[group.index[i], 'Status'] = 'Received'\n",
    "                    act_rec_qty -= location_qty\n",
    "                else:\n",
    "                    group.at[group.index[i], 'Status'] = f'Received {int(act_rec_qty)} of {int(location_qty)}'\n",
    "                    act_rec_qty = 0\n",
    "            else:\n",
    "                group.at[group.index[i], 'Status'] = 'Not Received'\n",
    "    return group\n",
    "\n",
    "# Apply the update_status function to each group of 'Part Number'\n",
    "df_all_parts_expanded = df_all_parts_expanded.groupby('Part Number').apply(update_status)\n",
    "\n",
    "print(df_all_parts_expanded)"
   ]
  },
  {
   "cell_type": "markdown",
   "metadata": {},
   "source": [
    "# new assy status that will calculate weighted data based on total parts of each type in each location as well as percentages received"
   ]
  },
  {
   "cell_type": "code",
   "execution_count": 6,
   "metadata": {},
   "outputs": [
    {
     "name": "stdout",
     "output_type": "stream",
     "text": [
      "    Locations  Total Unique Machined  Total Machined Machined Received %  \\\n",
      "0         0.1                      0               0                100%   \n",
      "1        0.10                      0               0                100%   \n",
      "2        0.11                      0               0                100%   \n",
      "3         0.2                      0               0                100%   \n",
      "4         0.3                      0               0                100%   \n",
      "..        ...                    ...             ...                 ...   \n",
      "247       9.1                      6               7                100%   \n",
      "248       9.2                      0               0                100%   \n",
      "249       9.3                      3               4                100%   \n",
      "250       9.4                      3              16                100%   \n",
      "251       9.5                      2               8                100%   \n",
      "\n",
      "    Machined Not Received  Total Unique Purchased  Total Purchased  \\\n",
      "0       No Machined Parts                       7                8   \n",
      "1       No Machined Parts                       7               33   \n",
      "2       No Machined Parts                      11               13   \n",
      "3       No Machined Parts                      11               13   \n",
      "4       No Machined Parts                      12               45   \n",
      "..                    ...                     ...              ...   \n",
      "247                                             8               73   \n",
      "248     No Machined Parts                       7               21   \n",
      "249                                             3                3   \n",
      "250                                             7               40   \n",
      "251                                             8               32   \n",
      "\n",
      "    Purchased Received %                       Purchased Not Received  \n",
      "0                   100%                                               \n",
      "1                    86%                                      8087K16  \n",
      "2                   100%                                               \n",
      "3                   100%                                               \n",
      "4                    83%                  7000-12221-6140500, 8087K16  \n",
      "..                   ...                                          ...  \n",
      "247                  75%                        3842528735, 91595A640  \n",
      "248                 100%                                               \n",
      "249                 100%                                               \n",
      "250                  43%  3842528738, 91595A636, GN.15211, TCU0425B-2  \n",
      "251                  62%             3842529324, 90214A119, 91595A640  \n",
      "\n",
      "[252 rows x 9 columns]\n"
     ]
    }
   ],
   "source": [
    "def calculate_assembly_status(df):\n",
    "    # Ensure that 'Locations' is the correct column name\n",
    "    if 'Locations' not in df.columns:\n",
    "        raise ValueError(\"Column 'Locations' not found in the DataFrame\")\n",
    "    \n",
    "    # Group by location\n",
    "    grouped = df.groupby('Locations')\n",
    "\n",
    "    # Dictionary to hold the results\n",
    "    results = []\n",
    "\n",
    "    for location, group in grouped:\n",
    "        # Separate Machined and Purchased\n",
    "        machined_parts = group[group['Type'] == 'Machined']\n",
    "        purchased_parts = group[group['Type'] == 'Purchased']\n",
    "\n",
    "        # Calculate total unique machined parts\n",
    "        total_unique_machined = len(machined_parts['Part Number'].unique())\n",
    "        \n",
    "        # Calculate total machined parts\n",
    "        total_machined = machined_parts['Location Qty'].sum()\n",
    "        if total_unique_machined == 0:\n",
    "            machined_received_percent = 100\n",
    "            not_received_machined_str = \"No Machined Parts\"\n",
    "        else:\n",
    "            received_machined = len(machined_parts[machined_parts['Status'] == 'Received']['Part Number'].unique())\n",
    "            machined_received_percent = (received_machined / total_unique_machined) * 100\n",
    "            not_received_machined = list(machined_parts[machined_parts['Status'] != 'Received']['Part Number'].unique())\n",
    "            not_received_machined_str = ', '.join(map(str, not_received_machined))\n",
    "\n",
    "        # Calculate total unique purchased parts\n",
    "        total_unique_purchased = len(purchased_parts['Part Number'].unique())\n",
    "        \n",
    "        # Calculate total purchased parts\n",
    "        total_purchased = purchased_parts['Location Qty'].sum()\n",
    "        if total_unique_purchased == 0:\n",
    "            purchased_received_percent = 100\n",
    "            not_received_purchased_str = \"No Purchased Parts\"\n",
    "        else:\n",
    "            received_purchased = len(purchased_parts[purchased_parts['Status'] == 'Received']['Part Number'].unique())\n",
    "            partially_received_purchased = len(purchased_parts[purchased_parts['Status'] == 'Partially Received']['Part Number'].unique())\n",
    "            purchased_received_percent = (received_purchased / total_unique_purchased) * 100\n",
    "            not_received_purchased = list(purchased_parts[purchased_parts['Status'] != 'Received']['Part Number'].unique())\n",
    "            not_received_purchased_str = ', '.join(map(str, not_received_purchased))\n",
    "\n",
    "        # Append results\n",
    "        results.append({\n",
    "            'Locations': location,\n",
    "            'Total Unique Machined': total_unique_machined,\n",
    "            'Total Machined': total_machined,\n",
    "            'Machined Received %': f\"{machined_received_percent:.0f}%\",\n",
    "            'Machined Not Received': not_received_machined_str,\n",
    "            'Total Unique Purchased': total_unique_purchased,\n",
    "            'Total Purchased': total_purchased,\n",
    "            'Purchased Received %': f\"{purchased_received_percent:.0f}%\",\n",
    "            'Purchased Not Received': not_received_purchased_str\n",
    "        })\n",
    "\n",
    "    # Create DataFrame from results\n",
    "    df_assembly_status = pd.DataFrame(results)\n",
    "    return df_assembly_status\n",
    "\n",
    "df_assembly_status = calculate_assembly_status(df_all_parts_expanded)\n",
    "print(df_assembly_status)"
   ]
  },
  {
   "cell_type": "markdown",
   "metadata": {},
   "source": [
    "# working with assys dataframe"
   ]
  },
  {
   "cell_type": "code",
   "execution_count": 7,
   "metadata": {},
   "outputs": [
    {
     "name": "stdout",
     "output_type": "stream",
     "text": [
      "Columns in df_assys_expanded: Index(['Assy', 'Description', 'Total Qty', 'Locations'], dtype='object')\n",
      "     Assy                 Description  Total Qty Locations  Assy Location Qty\n",
      "0       0          2-Up Pouch Machine          0         ,                  0\n",
      "1     0.1              Main Enclosure          1                            0\n",
      "2     0.1              Main Enclosure          1        12                  1\n",
      "3     0.2        Unwind HMI Enclosure          1                            0\n",
      "4     0.2        Unwind HMI Enclosure          1         1                  1\n",
      "..    ...                         ...        ...       ...                ...\n",
      "715  11.2  Air Supply Pipe Mount Assy         10                            0\n",
      "716  11.2  Air Supply Pipe Mount Assy         10        11                 10\n",
      "717  11.3     Air Supply Pipe Tie Off         24                            0\n",
      "718  11.3     Air Supply Pipe Tie Off         24        11                 24\n",
      "719    12     Plinth and Wireway Assy          1         0                  1\n",
      "\n",
      "[720 rows x 5 columns]\n",
      "      Assy                 Description  Total Qty Locations  Assy Location Qty\n",
      "0        0          2-Up Pouch Machine          0                            0\n",
      "2      0.1              Main Enclosure          1        12                  1\n",
      "4      0.2        Unwind HMI Enclosure          1         1                  1\n",
      "6      0.3         Unwind IO Enclosure          1         1                  1\n",
      "8    0.3.1      Manifold 1 Unwind Nips          1       0.3                  1\n",
      "..     ...                         ...        ...       ...                ...\n",
      "712     11               Air Prep Assy          1         0                  1\n",
      "714   11.1            Air Prep Station          1        11                  1\n",
      "716   11.2  Air Supply Pipe Mount Assy         10        11                 10\n",
      "718   11.3     Air Supply Pipe Tie Off         24        11                 24\n",
      "719     12     Plinth and Wireway Assy          1         0                  1\n",
      "\n",
      "[460 rows x 5 columns]\n"
     ]
    }
   ],
   "source": [
    "#processing the assys dataframe\n",
    "\n",
    "# Step 1: Expand rows by location\n",
    "new_rows = []\n",
    "\n",
    "for index, row in df_assys.iterrows():\n",
    "    locations_value = row['Locations']\n",
    "    if pd.isna(locations_value):\n",
    "        locations_value = ''\n",
    "        \n",
    "    locations_list = str(locations_value).split(', ')\n",
    "    \n",
    "    for location in locations_list:\n",
    "        new_row = row.drop(labels=['Locations']).to_dict()\n",
    "        new_row['Locations'] = location\n",
    "        new_rows.append(new_row)\n",
    "\n",
    "# Create a new DataFrame from the list of new rows\n",
    "df_assys_expanded = pd.DataFrame(new_rows)\n",
    "\n",
    "# Debug: Print the columns of the expanded DataFrame\n",
    "print(\"Columns in df_assys_expanded:\", df_assys_expanded.columns)\n",
    "\n",
    "# Step 2: Process the Locations column\n",
    "def process_locations(locations):\n",
    "    locations = locations.strip()  # Remove any leading/trailing spaces\n",
    "    if 'x' in locations:\n",
    "        location_qty, location_rest = locations.split('x', 1)\n",
    "        try:\n",
    "            location_qty = int(location_qty)  # Convert the number before 'x' to integer\n",
    "        except ValueError:\n",
    "            location_qty = 0  # Handle cases where conversion fails\n",
    "        location_rest = location_rest.rsplit('.', 1)[0]  # Remove the last period and characters after\n",
    "        return pd.Series([location_qty, location_rest])\n",
    "    else:\n",
    "        return pd.Series([0, locations])  # Handle cases where 'x' is missing\n",
    "\n",
    "# Apply the function and create new columns\n",
    "df_assys_expanded[['Assy Location Qty', 'Locations']] = df_assys_expanded['Locations'].apply(process_locations)\n",
    "\n",
    "# Debug: Print the DataFrame after processing\n",
    "print(df_assys_expanded)\n",
    "\n",
    "# Step 3: Remove invalid rows except for outlier\n",
    "# Define a mask for valid rows\n",
    "valid_mask = (df_assys_expanded['Locations'].str.strip() != '') | (df_assys_expanded['Assy'] == '0')\n",
    "\n",
    "# Apply the mask to filter the DataFrame\n",
    "df_filtered_assys = df_assys_expanded[valid_mask]\n",
    "\n",
    "# For rows with assy number '0', clear the 'Locations' column if it's invalid\n",
    "df_filtered_assys.loc[df_filtered_assys['Assy'] == '0', 'Locations'] = df_filtered_assys.loc[df_filtered_assys['Assy'] == '0', 'Locations'].apply(lambda x: '' if x.strip() in [',', ''] else x)\n",
    "\n",
    "#rearrange columns? this didnt work below\n",
    "#df_filtered_assys = df_filtered_assys['Assy', 'Description', 'Total Qty', 'Assy Location Qty', 'Locations']\n",
    "\n",
    "# Debug: Print the filtered DataFrame\n",
    "print(df_filtered_assys)"
   ]
  },
  {
   "cell_type": "markdown",
   "metadata": {},
   "source": [
    "# merging the two dataframes"
   ]
  },
  {
   "cell_type": "code",
   "execution_count": 8,
   "metadata": {},
   "outputs": [
    {
     "data": {
      "text/html": [
       "<div>\n",
       "<style scoped>\n",
       "    .dataframe tbody tr th:only-of-type {\n",
       "        vertical-align: middle;\n",
       "    }\n",
       "\n",
       "    .dataframe tbody tr th {\n",
       "        vertical-align: top;\n",
       "    }\n",
       "\n",
       "    .dataframe thead th {\n",
       "        text-align: right;\n",
       "    }\n",
       "</style>\n",
       "<table border=\"1\" class=\"dataframe\">\n",
       "  <thead>\n",
       "    <tr style=\"text-align: right;\">\n",
       "      <th></th>\n",
       "      <th>Assy</th>\n",
       "      <th>Description</th>\n",
       "      <th>Total Qty</th>\n",
       "      <th>Assy Locations</th>\n",
       "      <th>Assy Location Qty</th>\n",
       "      <th>Part Locations</th>\n",
       "      <th>Total Unique Machined</th>\n",
       "      <th>Total Machined</th>\n",
       "      <th>Machined Received %</th>\n",
       "      <th>Machined Not Received</th>\n",
       "      <th>Total Unique Purchased</th>\n",
       "      <th>Total Purchased</th>\n",
       "      <th>Purchased Received %</th>\n",
       "      <th>Purchased Not Received</th>\n",
       "    </tr>\n",
       "  </thead>\n",
       "  <tbody>\n",
       "    <tr>\n",
       "      <th>0</th>\n",
       "      <td>0</td>\n",
       "      <td>2-Up Pouch Machine</td>\n",
       "      <td>0</td>\n",
       "      <td></td>\n",
       "      <td>0</td>\n",
       "      <td>NaN</td>\n",
       "      <td>NaN</td>\n",
       "      <td>NaN</td>\n",
       "      <td>NaN</td>\n",
       "      <td>NaN</td>\n",
       "      <td>NaN</td>\n",
       "      <td>NaN</td>\n",
       "      <td>NaN</td>\n",
       "      <td>NaN</td>\n",
       "    </tr>\n",
       "    <tr>\n",
       "      <th>1</th>\n",
       "      <td>0.1</td>\n",
       "      <td>Main Enclosure</td>\n",
       "      <td>1</td>\n",
       "      <td>12</td>\n",
       "      <td>1</td>\n",
       "      <td>NaN</td>\n",
       "      <td>NaN</td>\n",
       "      <td>NaN</td>\n",
       "      <td>NaN</td>\n",
       "      <td>NaN</td>\n",
       "      <td>NaN</td>\n",
       "      <td>NaN</td>\n",
       "      <td>NaN</td>\n",
       "      <td>NaN</td>\n",
       "    </tr>\n",
       "    <tr>\n",
       "      <th>2</th>\n",
       "      <td>0.2</td>\n",
       "      <td>Unwind HMI Enclosure</td>\n",
       "      <td>1</td>\n",
       "      <td>1</td>\n",
       "      <td>1</td>\n",
       "      <td>NaN</td>\n",
       "      <td>NaN</td>\n",
       "      <td>NaN</td>\n",
       "      <td>NaN</td>\n",
       "      <td>NaN</td>\n",
       "      <td>NaN</td>\n",
       "      <td>NaN</td>\n",
       "      <td>NaN</td>\n",
       "      <td>NaN</td>\n",
       "    </tr>\n",
       "    <tr>\n",
       "      <th>3</th>\n",
       "      <td>0.3</td>\n",
       "      <td>Unwind IO Enclosure</td>\n",
       "      <td>1</td>\n",
       "      <td>1</td>\n",
       "      <td>1</td>\n",
       "      <td>NaN</td>\n",
       "      <td>NaN</td>\n",
       "      <td>NaN</td>\n",
       "      <td>NaN</td>\n",
       "      <td>NaN</td>\n",
       "      <td>NaN</td>\n",
       "      <td>NaN</td>\n",
       "      <td>NaN</td>\n",
       "      <td>NaN</td>\n",
       "    </tr>\n",
       "    <tr>\n",
       "      <th>4</th>\n",
       "      <td>0.3.1</td>\n",
       "      <td>Manifold 1 Unwind Nips</td>\n",
       "      <td>1</td>\n",
       "      <td>0.3</td>\n",
       "      <td>1</td>\n",
       "      <td>0.3.1</td>\n",
       "      <td>0.0</td>\n",
       "      <td>0.0</td>\n",
       "      <td>100%</td>\n",
       "      <td>No Machined Parts</td>\n",
       "      <td>1.0</td>\n",
       "      <td>1.0</td>\n",
       "      <td>100%</td>\n",
       "      <td></td>\n",
       "    </tr>\n",
       "    <tr>\n",
       "      <th>...</th>\n",
       "      <td>...</td>\n",
       "      <td>...</td>\n",
       "      <td>...</td>\n",
       "      <td>...</td>\n",
       "      <td>...</td>\n",
       "      <td>...</td>\n",
       "      <td>...</td>\n",
       "      <td>...</td>\n",
       "      <td>...</td>\n",
       "      <td>...</td>\n",
       "      <td>...</td>\n",
       "      <td>...</td>\n",
       "      <td>...</td>\n",
       "      <td>...</td>\n",
       "    </tr>\n",
       "    <tr>\n",
       "      <th>455</th>\n",
       "      <td>11</td>\n",
       "      <td>Air Prep Assy</td>\n",
       "      <td>1</td>\n",
       "      <td>0</td>\n",
       "      <td>1</td>\n",
       "      <td>11</td>\n",
       "      <td>0.0</td>\n",
       "      <td>0.0</td>\n",
       "      <td>100%</td>\n",
       "      <td>No Machined Parts</td>\n",
       "      <td>7.0</td>\n",
       "      <td>15.0</td>\n",
       "      <td>100%</td>\n",
       "      <td></td>\n",
       "    </tr>\n",
       "    <tr>\n",
       "      <th>456</th>\n",
       "      <td>11.1</td>\n",
       "      <td>Air Prep Station</td>\n",
       "      <td>1</td>\n",
       "      <td>11</td>\n",
       "      <td>1</td>\n",
       "      <td>11.1</td>\n",
       "      <td>1.0</td>\n",
       "      <td>1.0</td>\n",
       "      <td>100%</td>\n",
       "      <td></td>\n",
       "      <td>12.0</td>\n",
       "      <td>16.0</td>\n",
       "      <td>75%</td>\n",
       "      <td>4464K44, 4464K892, FWSSM-D20-V10.5-T8</td>\n",
       "    </tr>\n",
       "    <tr>\n",
       "      <th>457</th>\n",
       "      <td>11.2</td>\n",
       "      <td>Air Supply Pipe Mount Assy</td>\n",
       "      <td>10</td>\n",
       "      <td>11</td>\n",
       "      <td>10</td>\n",
       "      <td>11.2</td>\n",
       "      <td>0.0</td>\n",
       "      <td>0.0</td>\n",
       "      <td>100%</td>\n",
       "      <td>No Machined Parts</td>\n",
       "      <td>2.0</td>\n",
       "      <td>20.0</td>\n",
       "      <td>50%</td>\n",
       "      <td>3842530287</td>\n",
       "    </tr>\n",
       "    <tr>\n",
       "      <th>458</th>\n",
       "      <td>11.3</td>\n",
       "      <td>Air Supply Pipe Tie Off</td>\n",
       "      <td>24</td>\n",
       "      <td>11</td>\n",
       "      <td>24</td>\n",
       "      <td>11.3</td>\n",
       "      <td>0.0</td>\n",
       "      <td>0.0</td>\n",
       "      <td>100%</td>\n",
       "      <td>No Machined Parts</td>\n",
       "      <td>2.0</td>\n",
       "      <td>48.0</td>\n",
       "      <td>0%</td>\n",
       "      <td>KQ2H10-U04A, PPS1 CI63</td>\n",
       "    </tr>\n",
       "    <tr>\n",
       "      <th>459</th>\n",
       "      <td>12</td>\n",
       "      <td>Plinth and Wireway Assy</td>\n",
       "      <td>1</td>\n",
       "      <td>0</td>\n",
       "      <td>1</td>\n",
       "      <td>12</td>\n",
       "      <td>10.0</td>\n",
       "      <td>12.0</td>\n",
       "      <td>0%</td>\n",
       "      <td>PG10.12.1.A, PG10.12.10.A, PG10.12.2.A, PG10.1...</td>\n",
       "      <td>13.0</td>\n",
       "      <td>172.0</td>\n",
       "      <td>54%</td>\n",
       "      <td>3842530283, 3842535466, 3842551606, 3842530287...</td>\n",
       "    </tr>\n",
       "  </tbody>\n",
       "</table>\n",
       "<p>460 rows × 14 columns</p>\n",
       "</div>"
      ],
      "text/plain": [
       "      Assy                 Description  Total Qty Assy Locations  \\\n",
       "0        0          2-Up Pouch Machine          0                  \n",
       "1      0.1              Main Enclosure          1             12   \n",
       "2      0.2        Unwind HMI Enclosure          1              1   \n",
       "3      0.3         Unwind IO Enclosure          1              1   \n",
       "4    0.3.1      Manifold 1 Unwind Nips          1            0.3   \n",
       "..     ...                         ...        ...            ...   \n",
       "455     11               Air Prep Assy          1              0   \n",
       "456   11.1            Air Prep Station          1             11   \n",
       "457   11.2  Air Supply Pipe Mount Assy         10             11   \n",
       "458   11.3     Air Supply Pipe Tie Off         24             11   \n",
       "459     12     Plinth and Wireway Assy          1              0   \n",
       "\n",
       "     Assy Location Qty Part Locations  Total Unique Machined  Total Machined  \\\n",
       "0                    0            NaN                    NaN             NaN   \n",
       "1                    1            NaN                    NaN             NaN   \n",
       "2                    1            NaN                    NaN             NaN   \n",
       "3                    1            NaN                    NaN             NaN   \n",
       "4                    1          0.3.1                    0.0             0.0   \n",
       "..                 ...            ...                    ...             ...   \n",
       "455                  1             11                    0.0             0.0   \n",
       "456                  1           11.1                    1.0             1.0   \n",
       "457                 10           11.2                    0.0             0.0   \n",
       "458                 24           11.3                    0.0             0.0   \n",
       "459                  1             12                   10.0            12.0   \n",
       "\n",
       "    Machined Received %                              Machined Not Received  \\\n",
       "0                   NaN                                                NaN   \n",
       "1                   NaN                                                NaN   \n",
       "2                   NaN                                                NaN   \n",
       "3                   NaN                                                NaN   \n",
       "4                  100%                                  No Machined Parts   \n",
       "..                  ...                                                ...   \n",
       "455                100%                                  No Machined Parts   \n",
       "456                100%                                                      \n",
       "457                100%                                  No Machined Parts   \n",
       "458                100%                                  No Machined Parts   \n",
       "459                  0%  PG10.12.1.A, PG10.12.10.A, PG10.12.2.A, PG10.1...   \n",
       "\n",
       "     Total Unique Purchased  Total Purchased Purchased Received %  \\\n",
       "0                       NaN              NaN                  NaN   \n",
       "1                       NaN              NaN                  NaN   \n",
       "2                       NaN              NaN                  NaN   \n",
       "3                       NaN              NaN                  NaN   \n",
       "4                       1.0              1.0                 100%   \n",
       "..                      ...              ...                  ...   \n",
       "455                     7.0             15.0                 100%   \n",
       "456                    12.0             16.0                  75%   \n",
       "457                     2.0             20.0                  50%   \n",
       "458                     2.0             48.0                   0%   \n",
       "459                    13.0            172.0                  54%   \n",
       "\n",
       "                                Purchased Not Received  \n",
       "0                                                  NaN  \n",
       "1                                                  NaN  \n",
       "2                                                  NaN  \n",
       "3                                                  NaN  \n",
       "4                                                       \n",
       "..                                                 ...  \n",
       "455                                                     \n",
       "456              4464K44, 4464K892, FWSSM-D20-V10.5-T8  \n",
       "457                                         3842530287  \n",
       "458                             KQ2H10-U04A, PPS1 CI63  \n",
       "459  3842530283, 3842535466, 3842551606, 3842530287...  \n",
       "\n",
       "[460 rows x 14 columns]"
      ]
     },
     "metadata": {},
     "output_type": "display_data"
    }
   ],
   "source": [
    "def merge_and_adjust_columns(df_filtered_assys, df_assembly_status):\n",
    "    # Ensure 'Assy' and 'Locations' columns are present\n",
    "    if 'Assy' not in df_filtered_assys.columns:\n",
    "        raise ValueError(\"Column 'Assy' not found in df_filtered_assys\")\n",
    "    if 'Locations' not in df_assembly_status.columns:\n",
    "        raise ValueError(\"Column 'Locations' not found in df_assembly_status\")\n",
    "    \n",
    "    # Rename 'Locations' column in df_filtered_assys to 'Assy Locations'\n",
    "    df_filtered_assys = df_filtered_assys.rename(columns={'Locations': 'Assy Locations'})\n",
    "    \n",
    "    # Rename 'Locations' column in df_assembly_status to 'Part Locations'\n",
    "    df_assembly_status = df_assembly_status.rename(columns={'Locations': 'Part Locations'})\n",
    "    \n",
    "    # Perform the merge to get the 'Part Locations' and the new columns from df_assembly_status\n",
    "    columns_to_merge = [\n",
    "        'Part Locations', 'Total Unique Machined', 'Total Machined',\n",
    "        'Machined Received %', 'Machined Not Received',\n",
    "        'Total Unique Purchased', 'Total Purchased',\n",
    "        'Purchased Received %', 'Purchased Not Received'\n",
    "    ]\n",
    "    \n",
    "    merged_df = pd.merge(df_filtered_assys, df_assembly_status[columns_to_merge], \n",
    "                         left_on='Assy', right_on='Part Locations', how='left')\n",
    "    \n",
    "    # Drop the original 'Assy Locations' column from merged_df if needed, or leave it as is\n",
    "    # (You can choose to drop it if it is redundant)\n",
    "    # merged_df = merged_df.drop(columns=['Assy Locations'])\n",
    "    \n",
    "    return merged_df\n",
    "\n",
    "merged_df = merge_and_adjust_columns(df_filtered_assys, df_assembly_status)\n",
    "display(merged_df)"
   ]
  },
  {
   "cell_type": "code",
   "execution_count": 9,
   "metadata": {},
   "outputs": [
    {
     "data": {
      "text/html": [
       "<div>\n",
       "<style scoped>\n",
       "    .dataframe tbody tr th:only-of-type {\n",
       "        vertical-align: middle;\n",
       "    }\n",
       "\n",
       "    .dataframe tbody tr th {\n",
       "        vertical-align: top;\n",
       "    }\n",
       "\n",
       "    .dataframe thead th {\n",
       "        text-align: right;\n",
       "    }\n",
       "</style>\n",
       "<table border=\"1\" class=\"dataframe\">\n",
       "  <thead>\n",
       "    <tr style=\"text-align: right;\">\n",
       "      <th></th>\n",
       "      <th>Assy</th>\n",
       "      <th>Description</th>\n",
       "      <th>Total Qty</th>\n",
       "      <th>Assy Locations</th>\n",
       "      <th>Assy Location Qty</th>\n",
       "      <th>Part Locations</th>\n",
       "      <th>Total Unique Machined</th>\n",
       "      <th>Total Machined</th>\n",
       "      <th>Machined Received %</th>\n",
       "      <th>Machined Not Received</th>\n",
       "      <th>Total Unique Purchased</th>\n",
       "      <th>Total Purchased</th>\n",
       "      <th>Purchased Received %</th>\n",
       "      <th>Purchased Not Received</th>\n",
       "    </tr>\n",
       "  </thead>\n",
       "  <tbody>\n",
       "    <tr>\n",
       "      <th>0</th>\n",
       "      <td>0</td>\n",
       "      <td>2-Up Pouch Machine</td>\n",
       "      <td>0</td>\n",
       "      <td></td>\n",
       "      <td>0</td>\n",
       "      <td>NaN</td>\n",
       "      <td>NaN</td>\n",
       "      <td>NaN</td>\n",
       "      <td>NaN</td>\n",
       "      <td>NaN</td>\n",
       "      <td>NaN</td>\n",
       "      <td>NaN</td>\n",
       "      <td>NaN</td>\n",
       "      <td>NaN</td>\n",
       "    </tr>\n",
       "    <tr>\n",
       "      <th>16</th>\n",
       "      <td>1</td>\n",
       "      <td>Unwind Assy</td>\n",
       "      <td>1</td>\n",
       "      <td>0</td>\n",
       "      <td>1</td>\n",
       "      <td>NaN</td>\n",
       "      <td>NaN</td>\n",
       "      <td>NaN</td>\n",
       "      <td>NaN</td>\n",
       "      <td>NaN</td>\n",
       "      <td>NaN</td>\n",
       "      <td>NaN</td>\n",
       "      <td>NaN</td>\n",
       "      <td>NaN</td>\n",
       "    </tr>\n",
       "    <tr>\n",
       "      <th>146</th>\n",
       "      <td>2</td>\n",
       "      <td>Main Frame 1</td>\n",
       "      <td>1</td>\n",
       "      <td>0</td>\n",
       "      <td>1</td>\n",
       "      <td>NaN</td>\n",
       "      <td>NaN</td>\n",
       "      <td>NaN</td>\n",
       "      <td>NaN</td>\n",
       "      <td>NaN</td>\n",
       "      <td>NaN</td>\n",
       "      <td>NaN</td>\n",
       "      <td>NaN</td>\n",
       "      <td>NaN</td>\n",
       "    </tr>\n",
       "    <tr>\n",
       "      <th>198</th>\n",
       "      <td>3</td>\n",
       "      <td>Main Frame 2</td>\n",
       "      <td>1</td>\n",
       "      <td>0</td>\n",
       "      <td>1</td>\n",
       "      <td>NaN</td>\n",
       "      <td>NaN</td>\n",
       "      <td>NaN</td>\n",
       "      <td>NaN</td>\n",
       "      <td>NaN</td>\n",
       "      <td>NaN</td>\n",
       "      <td>NaN</td>\n",
       "      <td>NaN</td>\n",
       "      <td>NaN</td>\n",
       "    </tr>\n",
       "    <tr>\n",
       "      <th>227</th>\n",
       "      <td>4</td>\n",
       "      <td>Main Frame 3</td>\n",
       "      <td>1</td>\n",
       "      <td>0</td>\n",
       "      <td>1</td>\n",
       "      <td>NaN</td>\n",
       "      <td>NaN</td>\n",
       "      <td>NaN</td>\n",
       "      <td>NaN</td>\n",
       "      <td>NaN</td>\n",
       "      <td>NaN</td>\n",
       "      <td>NaN</td>\n",
       "      <td>NaN</td>\n",
       "      <td>NaN</td>\n",
       "    </tr>\n",
       "    <tr>\n",
       "      <th>...</th>\n",
       "      <td>...</td>\n",
       "      <td>...</td>\n",
       "      <td>...</td>\n",
       "      <td>...</td>\n",
       "      <td>...</td>\n",
       "      <td>...</td>\n",
       "      <td>...</td>\n",
       "      <td>...</td>\n",
       "      <td>...</td>\n",
       "      <td>...</td>\n",
       "      <td>...</td>\n",
       "      <td>...</td>\n",
       "      <td>...</td>\n",
       "      <td>...</td>\n",
       "    </tr>\n",
       "    <tr>\n",
       "      <th>454</th>\n",
       "      <td>10.3.1</td>\n",
       "      <td>CONVEYOR L BRACKET ASSY</td>\n",
       "      <td>4</td>\n",
       "      <td>10.3</td>\n",
       "      <td>4</td>\n",
       "      <td>10.3.1</td>\n",
       "      <td>1.0</td>\n",
       "      <td>4.0</td>\n",
       "      <td>100%</td>\n",
       "      <td></td>\n",
       "      <td>2.0</td>\n",
       "      <td>20.0</td>\n",
       "      <td>50%</td>\n",
       "      <td>201558</td>\n",
       "    </tr>\n",
       "    <tr>\n",
       "      <th>456</th>\n",
       "      <td>11.1</td>\n",
       "      <td>Air Prep Station</td>\n",
       "      <td>1</td>\n",
       "      <td>11</td>\n",
       "      <td>1</td>\n",
       "      <td>11.1</td>\n",
       "      <td>1.0</td>\n",
       "      <td>1.0</td>\n",
       "      <td>100%</td>\n",
       "      <td></td>\n",
       "      <td>12.0</td>\n",
       "      <td>16.0</td>\n",
       "      <td>75%</td>\n",
       "      <td>4464K44, 4464K892, FWSSM-D20-V10.5-T8</td>\n",
       "    </tr>\n",
       "    <tr>\n",
       "      <th>457</th>\n",
       "      <td>11.2</td>\n",
       "      <td>Air Supply Pipe Mount Assy</td>\n",
       "      <td>10</td>\n",
       "      <td>11</td>\n",
       "      <td>10</td>\n",
       "      <td>11.2</td>\n",
       "      <td>0.0</td>\n",
       "      <td>0.0</td>\n",
       "      <td>100%</td>\n",
       "      <td>No Machined Parts</td>\n",
       "      <td>2.0</td>\n",
       "      <td>20.0</td>\n",
       "      <td>50%</td>\n",
       "      <td>3842530287</td>\n",
       "    </tr>\n",
       "    <tr>\n",
       "      <th>458</th>\n",
       "      <td>11.3</td>\n",
       "      <td>Air Supply Pipe Tie Off</td>\n",
       "      <td>24</td>\n",
       "      <td>11</td>\n",
       "      <td>24</td>\n",
       "      <td>11.3</td>\n",
       "      <td>0.0</td>\n",
       "      <td>0.0</td>\n",
       "      <td>100%</td>\n",
       "      <td>No Machined Parts</td>\n",
       "      <td>2.0</td>\n",
       "      <td>48.0</td>\n",
       "      <td>0%</td>\n",
       "      <td>KQ2H10-U04A, PPS1 CI63</td>\n",
       "    </tr>\n",
       "    <tr>\n",
       "      <th>1</th>\n",
       "      <td>0.1</td>\n",
       "      <td>Main Enclosure</td>\n",
       "      <td>1</td>\n",
       "      <td>12</td>\n",
       "      <td>1</td>\n",
       "      <td>NaN</td>\n",
       "      <td>NaN</td>\n",
       "      <td>NaN</td>\n",
       "      <td>NaN</td>\n",
       "      <td>NaN</td>\n",
       "      <td>NaN</td>\n",
       "      <td>NaN</td>\n",
       "      <td>NaN</td>\n",
       "      <td>NaN</td>\n",
       "    </tr>\n",
       "  </tbody>\n",
       "</table>\n",
       "<p>460 rows × 14 columns</p>\n",
       "</div>"
      ],
      "text/plain": [
       "       Assy                 Description  Total Qty Assy Locations  \\\n",
       "0         0          2-Up Pouch Machine          0                  \n",
       "16        1                 Unwind Assy          1              0   \n",
       "146       2                Main Frame 1          1              0   \n",
       "198       3                Main Frame 2          1              0   \n",
       "227       4                Main Frame 3          1              0   \n",
       "..      ...                         ...        ...            ...   \n",
       "454  10.3.1     CONVEYOR L BRACKET ASSY          4           10.3   \n",
       "456    11.1            Air Prep Station          1             11   \n",
       "457    11.2  Air Supply Pipe Mount Assy         10             11   \n",
       "458    11.3     Air Supply Pipe Tie Off         24             11   \n",
       "1       0.1              Main Enclosure          1             12   \n",
       "\n",
       "     Assy Location Qty Part Locations  Total Unique Machined  Total Machined  \\\n",
       "0                    0            NaN                    NaN             NaN   \n",
       "16                   1            NaN                    NaN             NaN   \n",
       "146                  1            NaN                    NaN             NaN   \n",
       "198                  1            NaN                    NaN             NaN   \n",
       "227                  1            NaN                    NaN             NaN   \n",
       "..                 ...            ...                    ...             ...   \n",
       "454                  4         10.3.1                    1.0             4.0   \n",
       "456                  1           11.1                    1.0             1.0   \n",
       "457                 10           11.2                    0.0             0.0   \n",
       "458                 24           11.3                    0.0             0.0   \n",
       "1                    1            NaN                    NaN             NaN   \n",
       "\n",
       "    Machined Received % Machined Not Received  Total Unique Purchased  \\\n",
       "0                   NaN                   NaN                     NaN   \n",
       "16                  NaN                   NaN                     NaN   \n",
       "146                 NaN                   NaN                     NaN   \n",
       "198                 NaN                   NaN                     NaN   \n",
       "227                 NaN                   NaN                     NaN   \n",
       "..                  ...                   ...                     ...   \n",
       "454                100%                                           2.0   \n",
       "456                100%                                          12.0   \n",
       "457                100%     No Machined Parts                     2.0   \n",
       "458                100%     No Machined Parts                     2.0   \n",
       "1                   NaN                   NaN                     NaN   \n",
       "\n",
       "     Total Purchased Purchased Received %  \\\n",
       "0                NaN                  NaN   \n",
       "16               NaN                  NaN   \n",
       "146              NaN                  NaN   \n",
       "198              NaN                  NaN   \n",
       "227              NaN                  NaN   \n",
       "..               ...                  ...   \n",
       "454             20.0                  50%   \n",
       "456             16.0                  75%   \n",
       "457             20.0                  50%   \n",
       "458             48.0                   0%   \n",
       "1                NaN                  NaN   \n",
       "\n",
       "                    Purchased Not Received  \n",
       "0                                      NaN  \n",
       "16                                     NaN  \n",
       "146                                    NaN  \n",
       "198                                    NaN  \n",
       "227                                    NaN  \n",
       "..                                     ...  \n",
       "454                                 201558  \n",
       "456  4464K44, 4464K892, FWSSM-D20-V10.5-T8  \n",
       "457                             3842530287  \n",
       "458                 KQ2H10-U04A, PPS1 CI63  \n",
       "1                                      NaN  \n",
       "\n",
       "[460 rows x 14 columns]"
      ]
     },
     "metadata": {},
     "output_type": "display_data"
    },
    {
     "name": "stdout",
     "output_type": "stream",
     "text": [
      "       Assy                 Description  Total Qty Assy Locations  \\\n",
      "0         0          2-Up Pouch Machine          0                  \n",
      "16        1                 Unwind Assy          1              0   \n",
      "146       2                Main Frame 1          1              0   \n",
      "198       3                Main Frame 2          1              0   \n",
      "227       4                Main Frame 3          1              0   \n",
      "..      ...                         ...        ...            ...   \n",
      "454  10.3.1     CONVEYOR L BRACKET ASSY          4           10.3   \n",
      "456    11.1            Air Prep Station          1             11   \n",
      "457    11.2  Air Supply Pipe Mount Assy         10             11   \n",
      "458    11.3     Air Supply Pipe Tie Off         24             11   \n",
      "1       0.1              Main Enclosure          1             12   \n",
      "\n",
      "     Assy Location Qty Part Locations  Total Unique Machined  Total Machined  \\\n",
      "0                    0            NaN                    NaN             NaN   \n",
      "16                   1            NaN                    NaN             NaN   \n",
      "146                  1            NaN                    NaN             NaN   \n",
      "198                  1            NaN                    NaN             NaN   \n",
      "227                  1            NaN                    NaN             NaN   \n",
      "..                 ...            ...                    ...             ...   \n",
      "454                  4         10.3.1                    1.0             4.0   \n",
      "456                  1           11.1                    1.0             1.0   \n",
      "457                 10           11.2                    0.0             0.0   \n",
      "458                 24           11.3                    0.0             0.0   \n",
      "1                    1            NaN                    NaN             NaN   \n",
      "\n",
      "    Machined Received % Machined Not Received  Total Unique Purchased  \\\n",
      "0                   NaN                   NaN                     NaN   \n",
      "16                  NaN                   NaN                     NaN   \n",
      "146                 NaN                   NaN                     NaN   \n",
      "198                 NaN                   NaN                     NaN   \n",
      "227                 NaN                   NaN                     NaN   \n",
      "..                  ...                   ...                     ...   \n",
      "454                100%                                           2.0   \n",
      "456                100%                                          12.0   \n",
      "457                100%     No Machined Parts                     2.0   \n",
      "458                100%     No Machined Parts                     2.0   \n",
      "1                   NaN                   NaN                     NaN   \n",
      "\n",
      "     Total Purchased Purchased Received %  \\\n",
      "0                NaN                  NaN   \n",
      "16               NaN                  NaN   \n",
      "146              NaN                  NaN   \n",
      "198              NaN                  NaN   \n",
      "227              NaN                  NaN   \n",
      "..               ...                  ...   \n",
      "454             20.0                  50%   \n",
      "456             16.0                  75%   \n",
      "457             20.0                  50%   \n",
      "458             48.0                   0%   \n",
      "1                NaN                  NaN   \n",
      "\n",
      "                    Purchased Not Received  \n",
      "0                                      NaN  \n",
      "16                                     NaN  \n",
      "146                                    NaN  \n",
      "198                                    NaN  \n",
      "227                                    NaN  \n",
      "..                                     ...  \n",
      "454                                 201558  \n",
      "456  4464K44, 4464K892, FWSSM-D20-V10.5-T8  \n",
      "457                             3842530287  \n",
      "458                 KQ2H10-U04A, PPS1 CI63  \n",
      "1                                      NaN  \n",
      "\n",
      "[460 rows x 14 columns]\n"
     ]
    }
   ],
   "source": [
    "# sorting merged_df\n",
    "\n",
    "def parse_assy_location(location):\n",
    "    # Convert Assy Locations to sortable tuples\n",
    "    if isinstance(location, str) and location:\n",
    "        return tuple(map(int, location.split('.')))\n",
    "    return ()\n",
    "\n",
    "def parse_assy(assy):\n",
    "    # Convert Assy to sortable tuples\n",
    "    if isinstance(assy, str):\n",
    "        return tuple(map(int, assy.split('.')))\n",
    "    return ()\n",
    "\n",
    "# Convert columns to sortable tuples\n",
    "merged_df['Sortable Assy Locations'] = merged_df['Assy Locations'].apply(parse_assy_location)\n",
    "merged_df['Sortable Assy'] = merged_df['Assy'].apply(parse_assy)\n",
    "\n",
    "# Sort the DataFrame first by 'Sortable Assy Locations' and then by 'Sortable Assy'\n",
    "sorted_merged_df = merged_df.sort_values(by=['Sortable Assy Locations', 'Sortable Assy']).drop(columns=['Sortable Assy Locations', 'Sortable Assy'])\n",
    "\n",
    "display(sorted_merged_df)\n",
    "print(sorted_merged_df)"
   ]
  },
  {
   "cell_type": "code",
   "execution_count": 10,
   "metadata": {},
   "outputs": [],
   "source": [
    "sorted_merged_df['Assy'] = sorted_merged_df['Assy'].astype(str)\n",
    "sorted_merged_df['Assy Locations'] = sorted_merged_df['Assy Locations'].astype(str)"
   ]
  },
  {
   "cell_type": "markdown",
   "metadata": {},
   "source": [
    "# Composite Received Calc"
   ]
  },
  {
   "cell_type": "code",
   "execution_count": 11,
   "metadata": {},
   "outputs": [
    {
     "name": "stdout",
     "output_type": "stream",
     "text": [
      "       Assy                 Description  Total Qty Assy Locations  \\\n",
      "0         0          2-Up Pouch Machine          0                  \n",
      "16        1                 Unwind Assy          1              0   \n",
      "146       2                Main Frame 1          1              0   \n",
      "198       3                Main Frame 2          1              0   \n",
      "227       4                Main Frame 3          1              0   \n",
      "..      ...                         ...        ...            ...   \n",
      "454  10.3.1     CONVEYOR L BRACKET ASSY          4           10.3   \n",
      "456    11.1            Air Prep Station          1             11   \n",
      "457    11.2  Air Supply Pipe Mount Assy         10             11   \n",
      "458    11.3     Air Supply Pipe Tie Off         24             11   \n",
      "1       0.1              Main Enclosure          1             12   \n",
      "\n",
      "     Assy Location Qty Part Locations  Total Unique Machined  Total Machined  \\\n",
      "0                    0            NaN                    0.0             NaN   \n",
      "16                   1            NaN                    0.0             NaN   \n",
      "146                  1            NaN                    0.0             NaN   \n",
      "198                  1            NaN                    0.0             NaN   \n",
      "227                  1            NaN                    0.0             NaN   \n",
      "..                 ...            ...                    ...             ...   \n",
      "454                  4         10.3.1                    1.0             4.0   \n",
      "456                  1           11.1                    1.0             1.0   \n",
      "457                 10           11.2                    0.0             0.0   \n",
      "458                 24           11.3                    0.0             0.0   \n",
      "1                    1            NaN                    0.0             NaN   \n",
      "\n",
      "     Machined Received % Machined Not Received  Total Unique Purchased  \\\n",
      "0                    0.0                   NaN                     0.0   \n",
      "16                   0.0                   NaN                     0.0   \n",
      "146                  0.0                   NaN                     0.0   \n",
      "198                  0.0                   NaN                     0.0   \n",
      "227                  0.0                   NaN                     0.0   \n",
      "..                   ...                   ...                     ...   \n",
      "454                100.0                                           2.0   \n",
      "456                100.0                                          12.0   \n",
      "457                100.0     No Machined Parts                     2.0   \n",
      "458                100.0     No Machined Parts                     2.0   \n",
      "1                    0.0                   NaN                     0.0   \n",
      "\n",
      "     Total Purchased  Purchased Received %  \\\n",
      "0                NaN                   0.0   \n",
      "16               NaN                   0.0   \n",
      "146              NaN                   0.0   \n",
      "198              NaN                   0.0   \n",
      "227              NaN                   0.0   \n",
      "..               ...                   ...   \n",
      "454             20.0                  50.0   \n",
      "456             16.0                  75.0   \n",
      "457             20.0                  50.0   \n",
      "458             48.0                   0.0   \n",
      "1                NaN                   0.0   \n",
      "\n",
      "                    Purchased Not Received  Composite Received %  \\\n",
      "0                                      NaN              0.000000   \n",
      "16                                     NaN              0.000000   \n",
      "146                                    NaN              0.000000   \n",
      "198                                    NaN              0.000000   \n",
      "227                                    NaN              0.000000   \n",
      "..                                     ...                   ...   \n",
      "454                                 201558             66.666667   \n",
      "456  4464K44, 4464K892, FWSSM-D20-V10.5-T8             76.923077   \n",
      "457                             3842530287             50.000000   \n",
      "458                 KQ2H10-U04A, PPS1 CI63              0.000000   \n",
      "1                                      NaN              0.000000   \n",
      "\n",
      "                        Composite Not Received  Total Parts  \n",
      "0                                                       0.0  \n",
      "16                                                      0.0  \n",
      "146                                                     0.0  \n",
      "198                                                     0.0  \n",
      "227                                                     0.0  \n",
      "..                                         ...          ...  \n",
      "454                                     201558          3.0  \n",
      "456      4464K44, 4464K892, FWSSM-D20-V10.5-T8         13.0  \n",
      "457              No Machined Parts, 3842530287          2.0  \n",
      "458  No Machined Parts, KQ2H10-U04A, PPS1 CI63          2.0  \n",
      "1                                                       0.0  \n",
      "\n",
      "[460 rows x 17 columns]\n"
     ]
    }
   ],
   "source": [
    "# copy the sorted_merged_df to work with it\n",
    "df_composite = sorted_merged_df.copy()\n",
    "\n",
    "# Remove '%' sign and convert percentage columns to numeric values\n",
    "df_composite['Machined Received %'] = df_composite['Machined Received %'].str.rstrip('%').astype(float)\n",
    "df_composite['Purchased Received %'] = df_composite['Purchased Received %'].str.rstrip('%').astype(float)\n",
    "\n",
    "# Fill NaN with 0s for calculation purposes\n",
    "df_composite['Total Unique Machined'] = df_composite['Total Unique Machined'].fillna(0)\n",
    "df_composite['Total Unique Purchased'] = df_composite['Total Unique Purchased'].fillna(0)\n",
    "df_composite['Machined Received %'] = df_composite['Machined Received %'].fillna(0)\n",
    "df_composite['Purchased Received %'] = df_composite['Purchased Received %'].fillna(0)\n",
    "\n",
    "# Calculate Composite Received Percentage\n",
    "total_unique_parts = df_composite['Total Unique Machined'] + df_composite['Total Unique Purchased']\n",
    "\n",
    "df_composite['Composite Received %'] = (\n",
    "    (df_composite['Total Unique Machined'] * df_composite['Machined Received %'] +\n",
    "     df_composite['Total Unique Purchased'] * df_composite['Purchased Received %']) / total_unique_parts\n",
    ").fillna(0)\n",
    "\n",
    "# Concatenate 'Machined Not Received' and 'Purchased Not Received'\n",
    "df_composite['Composite Not Received'] = df_composite['Machined Not Received'].fillna('') + ', ' + df_composite['Purchased Not Received'].fillna('')\n",
    "df_composite['Composite Not Received'] = df_composite['Composite Not Received'].str.strip(', ')\n",
    "\n",
    "df_composite['Total Parts'] = df_composite['Total Unique Machined'] + df_composite['Total Unique Purchased']\n",
    "\n",
    "# Display the entire updated DataFrame\n",
    "print(df_composite)"
   ]
  },
  {
   "cell_type": "markdown",
   "metadata": {},
   "source": [
    "# 3rd try, adding tier column to treemap code"
   ]
  },
  {
   "cell_type": "code",
   "execution_count": 12,
   "metadata": {},
   "outputs": [
    {
     "data": {
      "text/html": [
       "<div>\n",
       "<style scoped>\n",
       "    .dataframe tbody tr th:only-of-type {\n",
       "        vertical-align: middle;\n",
       "    }\n",
       "\n",
       "    .dataframe tbody tr th {\n",
       "        vertical-align: top;\n",
       "    }\n",
       "\n",
       "    .dataframe thead th {\n",
       "        text-align: right;\n",
       "    }\n",
       "</style>\n",
       "<table border=\"1\" class=\"dataframe\">\n",
       "  <thead>\n",
       "    <tr style=\"text-align: right;\">\n",
       "      <th></th>\n",
       "      <th>path</th>\n",
       "      <th>Total Unique Parts</th>\n",
       "      <th>Composite Received %</th>\n",
       "      <th>Composite Not Received</th>\n",
       "    </tr>\n",
       "  </thead>\n",
       "  <tbody>\n",
       "    <tr>\n",
       "      <th>0</th>\n",
       "      <td>Unwind Assy</td>\n",
       "      <td>0.0</td>\n",
       "      <td>0.000000</td>\n",
       "      <td></td>\n",
       "    </tr>\n",
       "    <tr>\n",
       "      <th>1</th>\n",
       "      <td>Unwind Assy / Unwind HMI Enclosure</td>\n",
       "      <td>0.0</td>\n",
       "      <td>0.000000</td>\n",
       "      <td></td>\n",
       "    </tr>\n",
       "    <tr>\n",
       "      <th>2</th>\n",
       "      <td>Unwind Assy / Unwind IO Enclosure</td>\n",
       "      <td>0.0</td>\n",
       "      <td>0.000000</td>\n",
       "      <td></td>\n",
       "    </tr>\n",
       "    <tr>\n",
       "      <th>3</th>\n",
       "      <td>Unwind Assy / Unwind IO Enclosure / Manifold 1...</td>\n",
       "      <td>1.0</td>\n",
       "      <td>100.000000</td>\n",
       "      <td>No Machined Parts</td>\n",
       "    </tr>\n",
       "    <tr>\n",
       "      <th>4</th>\n",
       "      <td>Unwind Assy / Unwind Frame</td>\n",
       "      <td>5.0</td>\n",
       "      <td>100.000000</td>\n",
       "      <td></td>\n",
       "    </tr>\n",
       "    <tr>\n",
       "      <th>...</th>\n",
       "      <td>...</td>\n",
       "      <td>...</td>\n",
       "      <td>...</td>\n",
       "      <td>...</td>\n",
       "    </tr>\n",
       "    <tr>\n",
       "      <th>472</th>\n",
       "      <td>Air Prep Assy / Air Prep Station</td>\n",
       "      <td>13.0</td>\n",
       "      <td>76.923077</td>\n",
       "      <td>4464K44, 4464K892, FWSSM-D20-V10.5-T8</td>\n",
       "    </tr>\n",
       "    <tr>\n",
       "      <th>473</th>\n",
       "      <td>Air Prep Assy / Air Supply Pipe Mount Assy</td>\n",
       "      <td>2.0</td>\n",
       "      <td>50.000000</td>\n",
       "      <td>No Machined Parts, 3842530287</td>\n",
       "    </tr>\n",
       "    <tr>\n",
       "      <th>474</th>\n",
       "      <td>Air Prep Assy / Air Supply Pipe Tie Off</td>\n",
       "      <td>2.0</td>\n",
       "      <td>0.000000</td>\n",
       "      <td>No Machined Parts, KQ2H10-U04A, PPS1 CI63</td>\n",
       "    </tr>\n",
       "    <tr>\n",
       "      <th>475</th>\n",
       "      <td>Plinth and Wireway Assy</td>\n",
       "      <td>23.0</td>\n",
       "      <td>30.521739</td>\n",
       "      <td>PG10.12.1.A, PG10.12.10.A, PG10.12.2.A, PG10.1...</td>\n",
       "    </tr>\n",
       "    <tr>\n",
       "      <th>476</th>\n",
       "      <td>Plinth and Wireway Assy / Main Enclosure</td>\n",
       "      <td>0.0</td>\n",
       "      <td>0.000000</td>\n",
       "      <td></td>\n",
       "    </tr>\n",
       "  </tbody>\n",
       "</table>\n",
       "<p>477 rows × 4 columns</p>\n",
       "</div>"
      ],
      "text/plain": [
       "                                                  path  Total Unique Parts  \\\n",
       "0                                          Unwind Assy                 0.0   \n",
       "1                   Unwind Assy / Unwind HMI Enclosure                 0.0   \n",
       "2                    Unwind Assy / Unwind IO Enclosure                 0.0   \n",
       "3    Unwind Assy / Unwind IO Enclosure / Manifold 1...                 1.0   \n",
       "4                           Unwind Assy / Unwind Frame                 5.0   \n",
       "..                                                 ...                 ...   \n",
       "472                   Air Prep Assy / Air Prep Station                13.0   \n",
       "473         Air Prep Assy / Air Supply Pipe Mount Assy                 2.0   \n",
       "474            Air Prep Assy / Air Supply Pipe Tie Off                 2.0   \n",
       "475                            Plinth and Wireway Assy                23.0   \n",
       "476           Plinth and Wireway Assy / Main Enclosure                 0.0   \n",
       "\n",
       "     Composite Received %                             Composite Not Received  \n",
       "0                0.000000                                                     \n",
       "1                0.000000                                                     \n",
       "2                0.000000                                                     \n",
       "3              100.000000                                  No Machined Parts  \n",
       "4              100.000000                                                     \n",
       "..                    ...                                                ...  \n",
       "472             76.923077              4464K44, 4464K892, FWSSM-D20-V10.5-T8  \n",
       "473             50.000000                      No Machined Parts, 3842530287  \n",
       "474              0.000000          No Machined Parts, KQ2H10-U04A, PPS1 CI63  \n",
       "475             30.521739  PG10.12.1.A, PG10.12.10.A, PG10.12.2.A, PG10.1...  \n",
       "476              0.000000                                                     \n",
       "\n",
       "[477 rows x 4 columns]"
      ]
     },
     "metadata": {},
     "output_type": "display_data"
    }
   ],
   "source": [
    "# Example: starting from your DataFrame\n",
    "df_temp_hierarchy = df_composite.copy()\n",
    "\n",
    "def build_hierarchy(df, parent_assy):\n",
    "    children = df[df['Assy Locations'] == parent_assy]\n",
    "    hierarchy = {}\n",
    "    for _, row in children.iterrows():\n",
    "        child_assy = row['Assy']\n",
    "        hierarchy[row['Description']] = {\n",
    "            'Total Unique Machined': row.get('Total Unique Machined', 0),\n",
    "            'Total Unique Purchased': row.get('Total Unique Purchased', 0),\n",
    "            'Composite Received %': row.get('Composite Received %', 0),\n",
    "            'Composite Not Received': row.get('Composite Not Received', ''),\n",
    "            'Children': build_hierarchy(df, child_assy)  # Recursive call\n",
    "        }\n",
    "    return hierarchy\n",
    "\n",
    "# Build the hierarchy starting from the top level (Assy = '0')\n",
    "treemap_data = build_hierarchy(df_temp_hierarchy, '0')\n",
    "\n",
    "def flatten_hierarchy(hierarchy, parent_name=\"\"):\n",
    "    flat_data = []\n",
    "    for name, data in hierarchy.items():\n",
    "        flat_name = f\"{parent_name} / {name}\" if parent_name else name\n",
    "        total_unique_parts = data['Total Unique Machined'] + data['Total Unique Purchased']\n",
    "        flat_data.append({\n",
    "            'path': flat_name,\n",
    "            'Total Unique Parts': total_unique_parts,\n",
    "            'Composite Received %': data.get('Composite Received %', 0),\n",
    "            'Composite Not Received': data.get('Composite Not Received', '')\n",
    "        })\n",
    "        flat_data.extend(flatten_hierarchy(data['Children'], flat_name))\n",
    "    return flat_data\n",
    "\n",
    "flat_data = flatten_hierarchy(treemap_data)\n",
    "treemap_df = pd.DataFrame(flat_data)\n",
    "\n",
    "# Add a 'Tier' column by counting the number of '/' and adding 1\n",
    "#treemap_df['Tier'] = treemap_df['path'].apply(lambda x: x.count('/') + 1)\n",
    "\n",
    "# Display the updated DataFrame\n",
    "display(treemap_df)\n"
   ]
  },
  {
   "cell_type": "code",
   "execution_count": 13,
   "metadata": {},
   "outputs": [
    {
     "data": {
      "text/html": [
       "<div>\n",
       "<style scoped>\n",
       "    .dataframe tbody tr th:only-of-type {\n",
       "        vertical-align: middle;\n",
       "    }\n",
       "\n",
       "    .dataframe tbody tr th {\n",
       "        vertical-align: top;\n",
       "    }\n",
       "\n",
       "    .dataframe thead th {\n",
       "        text-align: right;\n",
       "    }\n",
       "</style>\n",
       "<table border=\"1\" class=\"dataframe\">\n",
       "  <thead>\n",
       "    <tr style=\"text-align: right;\">\n",
       "      <th></th>\n",
       "      <th>path</th>\n",
       "      <th>Assy Location Qty</th>\n",
       "      <th>Total Unique Parts</th>\n",
       "      <th>Composite Received %</th>\n",
       "      <th>Composite Not Received</th>\n",
       "    </tr>\n",
       "  </thead>\n",
       "  <tbody>\n",
       "    <tr>\n",
       "      <th>0</th>\n",
       "      <td>Unwind Assy</td>\n",
       "      <td>1</td>\n",
       "      <td>0.0</td>\n",
       "      <td>0.000000</td>\n",
       "      <td></td>\n",
       "    </tr>\n",
       "    <tr>\n",
       "      <th>1</th>\n",
       "      <td>Unwind Assy / Unwind HMI Enclosure</td>\n",
       "      <td>1</td>\n",
       "      <td>0.0</td>\n",
       "      <td>0.000000</td>\n",
       "      <td></td>\n",
       "    </tr>\n",
       "    <tr>\n",
       "      <th>2</th>\n",
       "      <td>Unwind Assy / Unwind IO Enclosure</td>\n",
       "      <td>1</td>\n",
       "      <td>0.0</td>\n",
       "      <td>0.000000</td>\n",
       "      <td></td>\n",
       "    </tr>\n",
       "    <tr>\n",
       "      <th>3</th>\n",
       "      <td>Unwind Assy / Unwind IO Enclosure / Manifold 1...</td>\n",
       "      <td>1</td>\n",
       "      <td>1.0</td>\n",
       "      <td>100.000000</td>\n",
       "      <td>No Machined Parts</td>\n",
       "    </tr>\n",
       "    <tr>\n",
       "      <th>4</th>\n",
       "      <td>Unwind Assy / Unwind Frame</td>\n",
       "      <td>1</td>\n",
       "      <td>5.0</td>\n",
       "      <td>100.000000</td>\n",
       "      <td></td>\n",
       "    </tr>\n",
       "    <tr>\n",
       "      <th>...</th>\n",
       "      <td>...</td>\n",
       "      <td>...</td>\n",
       "      <td>...</td>\n",
       "      <td>...</td>\n",
       "      <td>...</td>\n",
       "    </tr>\n",
       "    <tr>\n",
       "      <th>472</th>\n",
       "      <td>Air Prep Assy / Air Prep Station</td>\n",
       "      <td>1</td>\n",
       "      <td>13.0</td>\n",
       "      <td>76.923077</td>\n",
       "      <td>4464K44, 4464K892, FWSSM-D20-V10.5-T8</td>\n",
       "    </tr>\n",
       "    <tr>\n",
       "      <th>473</th>\n",
       "      <td>Air Prep Assy / Air Supply Pipe Mount Assy</td>\n",
       "      <td>10</td>\n",
       "      <td>2.0</td>\n",
       "      <td>50.000000</td>\n",
       "      <td>No Machined Parts, 3842530287</td>\n",
       "    </tr>\n",
       "    <tr>\n",
       "      <th>474</th>\n",
       "      <td>Air Prep Assy / Air Supply Pipe Tie Off</td>\n",
       "      <td>24</td>\n",
       "      <td>2.0</td>\n",
       "      <td>0.000000</td>\n",
       "      <td>No Machined Parts, KQ2H10-U04A, PPS1 CI63</td>\n",
       "    </tr>\n",
       "    <tr>\n",
       "      <th>475</th>\n",
       "      <td>Plinth and Wireway Assy</td>\n",
       "      <td>1</td>\n",
       "      <td>23.0</td>\n",
       "      <td>30.521739</td>\n",
       "      <td>PG10.12.1.A, PG10.12.10.A, PG10.12.2.A, PG10.1...</td>\n",
       "    </tr>\n",
       "    <tr>\n",
       "      <th>476</th>\n",
       "      <td>Plinth and Wireway Assy / Main Enclosure</td>\n",
       "      <td>1</td>\n",
       "      <td>0.0</td>\n",
       "      <td>0.000000</td>\n",
       "      <td></td>\n",
       "    </tr>\n",
       "  </tbody>\n",
       "</table>\n",
       "<p>477 rows × 5 columns</p>\n",
       "</div>"
      ],
      "text/plain": [
       "                                                  path  Assy Location Qty  \\\n",
       "0                                          Unwind Assy                  1   \n",
       "1                   Unwind Assy / Unwind HMI Enclosure                  1   \n",
       "2                    Unwind Assy / Unwind IO Enclosure                  1   \n",
       "3    Unwind Assy / Unwind IO Enclosure / Manifold 1...                  1   \n",
       "4                           Unwind Assy / Unwind Frame                  1   \n",
       "..                                                 ...                ...   \n",
       "472                   Air Prep Assy / Air Prep Station                  1   \n",
       "473         Air Prep Assy / Air Supply Pipe Mount Assy                 10   \n",
       "474            Air Prep Assy / Air Supply Pipe Tie Off                 24   \n",
       "475                            Plinth and Wireway Assy                  1   \n",
       "476           Plinth and Wireway Assy / Main Enclosure                  1   \n",
       "\n",
       "     Total Unique Parts  Composite Received %  \\\n",
       "0                   0.0              0.000000   \n",
       "1                   0.0              0.000000   \n",
       "2                   0.0              0.000000   \n",
       "3                   1.0            100.000000   \n",
       "4                   5.0            100.000000   \n",
       "..                  ...                   ...   \n",
       "472                13.0             76.923077   \n",
       "473                 2.0             50.000000   \n",
       "474                 2.0              0.000000   \n",
       "475                23.0             30.521739   \n",
       "476                 0.0              0.000000   \n",
       "\n",
       "                                Composite Not Received  \n",
       "0                                                       \n",
       "1                                                       \n",
       "2                                                       \n",
       "3                                    No Machined Parts  \n",
       "4                                                       \n",
       "..                                                 ...  \n",
       "472              4464K44, 4464K892, FWSSM-D20-V10.5-T8  \n",
       "473                      No Machined Parts, 3842530287  \n",
       "474          No Machined Parts, KQ2H10-U04A, PPS1 CI63  \n",
       "475  PG10.12.1.A, PG10.12.10.A, PG10.12.2.A, PG10.1...  \n",
       "476                                                     \n",
       "\n",
       "[477 rows x 5 columns]"
      ]
     },
     "metadata": {},
     "output_type": "display_data"
    }
   ],
   "source": [
    "# directly adding in total parts and adding back in the assy location qty\"\"PG10 - BOM 08.07.2024 - python copy 2.xlsm\"\n",
    "\n",
    "# Example: starting from your DataFrame\n",
    "df_temp_hierarchy = df_composite.copy()\n",
    "\n",
    "def build_hierarchy(df, parent_assy):\n",
    "    children = df[df['Assy Locations'] == parent_assy]\n",
    "    hierarchy = {}\n",
    "    for _, row in children.iterrows():\n",
    "        child_assy = row['Assy']\n",
    "        hierarchy[row['Description']] = {\n",
    "            'Total Parts': row.get('Total Parts', 0),  # Read 'Total Parts' directly\n",
    "            'Assy Location Qty': row.get('Assy Location Qty', 0),  # Read 'Assy Location Qty' directly\n",
    "            'Composite Received %': row.get('Composite Received %', 0),\n",
    "            'Composite Not Received': row.get('Composite Not Received', ''),\n",
    "            'Children': build_hierarchy(df, child_assy)  # Recursive call\n",
    "        }\n",
    "    return hierarchy\n",
    "\n",
    "# Build the hierarchy starting from the top level (Assy = '0')\n",
    "treemap_data = build_hierarchy(df_temp_hierarchy, '0')\n",
    "\n",
    "def flatten_hierarchy(hierarchy, parent_name=\"\"):\n",
    "    flat_data = []\n",
    "    for name, data in hierarchy.items():\n",
    "        flat_name = f\"{parent_name} / {name}\" if parent_name else name\n",
    "        flat_data.append({\n",
    "            'path': flat_name,\n",
    "            'Assy Location Qty': data.get('Assy Location Qty', 0),  # Include 'Assy Location Qty'\n",
    "            'Total Unique Parts': data.get('Total Parts', 0),  # Use 'Total Parts' as 'Total Unique Parts'\n",
    "            'Composite Received %': data.get('Composite Received %', 0),\n",
    "            'Composite Not Received': data.get('Composite Not Received', '')\n",
    "        })\n",
    "        flat_data.extend(flatten_hierarchy(data['Children'], flat_name))\n",
    "    return flat_data\n",
    "\n",
    "flat_data = flatten_hierarchy(treemap_data)\n",
    "treemap_df = pd.DataFrame(flat_data)\n",
    "\n",
    "# Add a 'Tier' column by counting the number of '/' and adding 1\n",
    "# treemap_df['Tier'] = treemap_df['path'].apply(lambda x: x.count('/') + 1)\n",
    "\n",
    "# Display the updated DataFrame\n",
    "display(treemap_df)"
   ]
  },
  {
   "cell_type": "code",
   "execution_count": 14,
   "metadata": {},
   "outputs": [
    {
     "data": {
      "text/html": [
       "<div>\n",
       "<style scoped>\n",
       "    .dataframe tbody tr th:only-of-type {\n",
       "        vertical-align: middle;\n",
       "    }\n",
       "\n",
       "    .dataframe tbody tr th {\n",
       "        vertical-align: top;\n",
       "    }\n",
       "\n",
       "    .dataframe thead th {\n",
       "        text-align: right;\n",
       "    }\n",
       "</style>\n",
       "<table border=\"1\" class=\"dataframe\">\n",
       "  <thead>\n",
       "    <tr style=\"text-align: right;\">\n",
       "      <th></th>\n",
       "      <th>Top</th>\n",
       "      <th>First</th>\n",
       "      <th>Second</th>\n",
       "      <th>Third</th>\n",
       "      <th>Fourth</th>\n",
       "      <th>Assy Location Qty</th>\n",
       "      <th>Total Unique Parts</th>\n",
       "      <th>Composite Received %</th>\n",
       "      <th>Composite Not Received</th>\n",
       "    </tr>\n",
       "  </thead>\n",
       "  <tbody>\n",
       "    <tr>\n",
       "      <th>1</th>\n",
       "      <td>2-Up Pouch Machine</td>\n",
       "      <td>Unwind Assy</td>\n",
       "      <td>Unwind HMI Enclosure</td>\n",
       "      <td>None</td>\n",
       "      <td>None</td>\n",
       "      <td>1</td>\n",
       "      <td>0.0</td>\n",
       "      <td>0.000000</td>\n",
       "      <td></td>\n",
       "    </tr>\n",
       "    <tr>\n",
       "      <th>3</th>\n",
       "      <td>2-Up Pouch Machine</td>\n",
       "      <td>Unwind Assy</td>\n",
       "      <td>Unwind IO Enclosure</td>\n",
       "      <td>Manifold 1 Unwind Nips</td>\n",
       "      <td>None</td>\n",
       "      <td>1</td>\n",
       "      <td>1.0</td>\n",
       "      <td>100.000000</td>\n",
       "      <td>No Machined Parts</td>\n",
       "    </tr>\n",
       "    <tr>\n",
       "      <th>5</th>\n",
       "      <td>2-Up Pouch Machine</td>\n",
       "      <td>Unwind Assy</td>\n",
       "      <td>Unwind Frame</td>\n",
       "      <td>M8 Leveling Foot Assy</td>\n",
       "      <td>None</td>\n",
       "      <td>10</td>\n",
       "      <td>4.0</td>\n",
       "      <td>75.250000</td>\n",
       "      <td>90591A220</td>\n",
       "    </tr>\n",
       "    <tr>\n",
       "      <th>6</th>\n",
       "      <td>2-Up Pouch Machine</td>\n",
       "      <td>Unwind Assy</td>\n",
       "      <td>Unwind Frame</td>\n",
       "      <td>Single Web Roller Assy</td>\n",
       "      <td>None</td>\n",
       "      <td>10</td>\n",
       "      <td>7.0</td>\n",
       "      <td>100.000000</td>\n",
       "      <td></td>\n",
       "    </tr>\n",
       "    <tr>\n",
       "      <th>7</th>\n",
       "      <td>2-Up Pouch Machine</td>\n",
       "      <td>Unwind Assy</td>\n",
       "      <td>Unwind Frame</td>\n",
       "      <td>Frame Gusset</td>\n",
       "      <td>None</td>\n",
       "      <td>16</td>\n",
       "      <td>2.0</td>\n",
       "      <td>50.000000</td>\n",
       "      <td>3842528718</td>\n",
       "    </tr>\n",
       "    <tr>\n",
       "      <th>...</th>\n",
       "      <td>...</td>\n",
       "      <td>...</td>\n",
       "      <td>...</td>\n",
       "      <td>...</td>\n",
       "      <td>...</td>\n",
       "      <td>...</td>\n",
       "      <td>...</td>\n",
       "      <td>...</td>\n",
       "      <td>...</td>\n",
       "    </tr>\n",
       "    <tr>\n",
       "      <th>470</th>\n",
       "      <td>2-Up Pouch Machine</td>\n",
       "      <td>Delivery Assy</td>\n",
       "      <td>Indexing Conveyor Assemb</td>\n",
       "      <td>CONVEYOR L BRACKET ASSY</td>\n",
       "      <td>None</td>\n",
       "      <td>4</td>\n",
       "      <td>3.0</td>\n",
       "      <td>66.666667</td>\n",
       "      <td>201558</td>\n",
       "    </tr>\n",
       "    <tr>\n",
       "      <th>472</th>\n",
       "      <td>2-Up Pouch Machine</td>\n",
       "      <td>Air Prep Assy</td>\n",
       "      <td>Air Prep Station</td>\n",
       "      <td>None</td>\n",
       "      <td>None</td>\n",
       "      <td>1</td>\n",
       "      <td>13.0</td>\n",
       "      <td>76.923077</td>\n",
       "      <td>4464K44, 4464K892, FWSSM-D20-V10.5-T8</td>\n",
       "    </tr>\n",
       "    <tr>\n",
       "      <th>473</th>\n",
       "      <td>2-Up Pouch Machine</td>\n",
       "      <td>Air Prep Assy</td>\n",
       "      <td>Air Supply Pipe Mount Assy</td>\n",
       "      <td>None</td>\n",
       "      <td>None</td>\n",
       "      <td>10</td>\n",
       "      <td>2.0</td>\n",
       "      <td>50.000000</td>\n",
       "      <td>No Machined Parts, 3842530287</td>\n",
       "    </tr>\n",
       "    <tr>\n",
       "      <th>474</th>\n",
       "      <td>2-Up Pouch Machine</td>\n",
       "      <td>Air Prep Assy</td>\n",
       "      <td>Air Supply Pipe Tie Off</td>\n",
       "      <td>None</td>\n",
       "      <td>None</td>\n",
       "      <td>24</td>\n",
       "      <td>2.0</td>\n",
       "      <td>0.000000</td>\n",
       "      <td>No Machined Parts, KQ2H10-U04A, PPS1 CI63</td>\n",
       "    </tr>\n",
       "    <tr>\n",
       "      <th>476</th>\n",
       "      <td>2-Up Pouch Machine</td>\n",
       "      <td>Plinth and Wireway Assy</td>\n",
       "      <td>Main Enclosure</td>\n",
       "      <td>None</td>\n",
       "      <td>None</td>\n",
       "      <td>1</td>\n",
       "      <td>0.0</td>\n",
       "      <td>0.000000</td>\n",
       "      <td></td>\n",
       "    </tr>\n",
       "  </tbody>\n",
       "</table>\n",
       "<p>353 rows × 9 columns</p>\n",
       "</div>"
      ],
      "text/plain": [
       "                    Top                    First                      Second  \\\n",
       "1    2-Up Pouch Machine              Unwind Assy        Unwind HMI Enclosure   \n",
       "3    2-Up Pouch Machine              Unwind Assy         Unwind IO Enclosure   \n",
       "5    2-Up Pouch Machine              Unwind Assy                Unwind Frame   \n",
       "6    2-Up Pouch Machine              Unwind Assy                Unwind Frame   \n",
       "7    2-Up Pouch Machine              Unwind Assy                Unwind Frame   \n",
       "..                  ...                      ...                         ...   \n",
       "470  2-Up Pouch Machine            Delivery Assy    Indexing Conveyor Assemb   \n",
       "472  2-Up Pouch Machine            Air Prep Assy            Air Prep Station   \n",
       "473  2-Up Pouch Machine            Air Prep Assy  Air Supply Pipe Mount Assy   \n",
       "474  2-Up Pouch Machine            Air Prep Assy     Air Supply Pipe Tie Off   \n",
       "476  2-Up Pouch Machine  Plinth and Wireway Assy              Main Enclosure   \n",
       "\n",
       "                       Third Fourth  Assy Location Qty  Total Unique Parts  \\\n",
       "1                       None   None                  1                 0.0   \n",
       "3     Manifold 1 Unwind Nips   None                  1                 1.0   \n",
       "5      M8 Leveling Foot Assy   None                 10                 4.0   \n",
       "6     Single Web Roller Assy   None                 10                 7.0   \n",
       "7               Frame Gusset   None                 16                 2.0   \n",
       "..                       ...    ...                ...                 ...   \n",
       "470  CONVEYOR L BRACKET ASSY   None                  4                 3.0   \n",
       "472                     None   None                  1                13.0   \n",
       "473                     None   None                 10                 2.0   \n",
       "474                     None   None                 24                 2.0   \n",
       "476                     None   None                  1                 0.0   \n",
       "\n",
       "     Composite Received %                     Composite Not Received  \n",
       "1                0.000000                                             \n",
       "3              100.000000                          No Machined Parts  \n",
       "5               75.250000                                  90591A220  \n",
       "6              100.000000                                             \n",
       "7               50.000000                                 3842528718  \n",
       "..                    ...                                        ...  \n",
       "470             66.666667                                     201558  \n",
       "472             76.923077      4464K44, 4464K892, FWSSM-D20-V10.5-T8  \n",
       "473             50.000000              No Machined Parts, 3842530287  \n",
       "474              0.000000  No Machined Parts, KQ2H10-U04A, PPS1 CI63  \n",
       "476              0.000000                                             \n",
       "\n",
       "[353 rows x 9 columns]"
      ]
     },
     "metadata": {},
     "output_type": "display_data"
    }
   ],
   "source": [
    "# Function to filter out rows that have children\n",
    "def filter_out_parent_rows(df, columns_to_keep):\n",
    "    # Sort by path length to ensure parent rows come before child rows\n",
    "    df['path_length'] = df['path'].apply(lambda x: len(x.split(' / ')))\n",
    "    # Identify rows that have children\n",
    "    df['has_children'] = df['path'].apply(lambda x: any(df['path'].str.startswith(x + ' / ')))\n",
    "    # Keep rows that don't have children\n",
    "    filtered_df = df[~df['has_children']].drop(columns=['path_length', 'has_children'])\n",
    "    \n",
    "    # Split the path column\n",
    "    path_columns = filtered_df['path'].str.split(' / ', expand=True)\n",
    "    path_columns.columns = ['First', 'Second', 'Third', 'Fourth']\n",
    "    \n",
    "    # Add the 'Top' column\n",
    "    path_columns.insert(0, 'Top', '2-Up Pouch Machine')\n",
    "    \n",
    "    # Keep the specified original columns\n",
    "    for col in columns_to_keep:\n",
    "        if col in df.columns:\n",
    "            path_columns[col] = filtered_df[col]\n",
    "    \n",
    "    return path_columns\n",
    "\n",
    "# Apply the function\n",
    "columns_to_keep = ['Assy Location Qty', 'Total Unique Parts', 'Composite Received %', 'Composite Not Received']  # Add the names of the columns you want to keep\n",
    "filtered_df = filter_out_parent_rows(treemap_df, columns_to_keep)\n",
    "\n",
    "# Display the filtered data\n",
    "display(filtered_df)\n"
   ]
  },
  {
   "cell_type": "code",
   "execution_count": 16,
   "metadata": {},
   "outputs": [
    {
     "data": {
      "application/vnd.plotly.v1+json": {
       "config": {
        "plotlyServerURL": "https://plot.ly"
       },
       "data": [
        {
         "branchvalues": "total",
         "customdata": [
          [
           ""
          ],
          [
           ""
          ],
          [
           ""
          ],
          [
           ""
          ],
          [
           "7000-08041-6101000, 91595A152"
          ],
          [
           "7000-08041-6101000, 91595A152"
          ],
          [
           "No Machined Parts, 3842548840"
          ],
          [
           "No Machined Parts, 3842548840"
          ],
          [
           "No Machined Parts, 3842548840"
          ],
          [
           "No Machined Parts, 3842548840"
          ],
          [
           "7000-08041-6101000, 98688A114"
          ],
          [
           "7000-08041-6101000, 98688A114"
          ],
          [
           "7000-08061-6110750"
          ],
          [
           "7000-08061-6110750"
          ],
          [
           ""
          ],
          [
           ""
          ],
          [
           ""
          ],
          [
           ""
          ],
          [
           ""
          ],
          [
           ""
          ],
          [
           ""
          ],
          [
           ""
          ],
          [
           ""
          ],
          [
           ""
          ],
          [
           ""
          ],
          [
           ""
          ],
          [
           ""
          ],
          [
           "PG10.1.4.1.A"
          ],
          [
           "PG10.1.4.1.A"
          ],
          [
           "PG10.1.4.1.A"
          ],
          [
           "PG10.1.4.1.A"
          ],
          [
           "PG10.1.4.1.A"
          ],
          [
           "PG10.1.4.1.A"
          ],
          [
           "PG10.1.4.1.A"
          ],
          [
           "PG10.1.4.1.A"
          ],
          [
           "PG10.1.4.1.A"
          ],
          [
           "PG10.1.4.1.A"
          ],
          [
           "PG10.1.4.1.A"
          ],
          [
           "PG10.1.4.1.A"
          ],
          [
           "PG10.1.4.1.A"
          ],
          [
           "PG10.1.4.1.A"
          ],
          [
           "PG10.1.4.1.A"
          ],
          [
           "No Machined Parts"
          ],
          [
           "No Machined Parts"
          ],
          [
           "No Machined Parts"
          ],
          [
           "No Machined Parts"
          ],
          [
           "No Machined Parts"
          ],
          [
           "No Machined Parts"
          ],
          [
           "No Machined Parts"
          ],
          [
           "No Machined Parts"
          ],
          [
           "No Machined Parts"
          ],
          [
           "No Machined Parts"
          ],
          [
           "No Machined Parts"
          ],
          [
           "No Machined Parts"
          ],
          [
           "No Machined Parts"
          ],
          [
           "No Machined Parts"
          ],
          [
           "No Machined Parts"
          ],
          [
           "3842530283, 91595A360"
          ],
          [
           "3842530283, 91595A360"
          ],
          [
           "3842530283, 91595A360"
          ],
          [
           "3842530283, 91595A360"
          ],
          [
           "3842530283, 91595A360"
          ],
          [
           "3842530283, 91595A360"
          ],
          [
           "3842530283, 91595A360"
          ],
          [
           "3842530283, 91595A360"
          ],
          [
           "3842530283, 91595A360"
          ],
          [
           "No Machined Parts, 90695A037, 91100A140"
          ],
          [
           "No Machined Parts, 90695A037, 91100A140"
          ],
          [
           "No Machined Parts, 90695A037, 91100A140"
          ],
          [
           "No Machined Parts, 90695A037, 91100A140"
          ],
          [
           "No Machined Parts, 3842530283, 94708A213"
          ],
          [
           "No Machined Parts, 3842530283, 94708A213"
          ],
          [
           "No Machined Parts, 3842530283, 94708A213"
          ],
          [
           "No Machined Parts, 3842530283, 94708A213"
          ],
          [
           "No Machined Parts, 3842530283, 94708A213"
          ],
          [
           "No Machined Parts, 3842530283, 94708A213"
          ],
          [
           "No Machined Parts, 3842530283, 94708A213"
          ],
          [
           "No Machined Parts, 3842530283, 94708A213"
          ],
          [
           "No Machined Parts, 3842530283, 94708A213"
          ],
          [
           "No Machined Parts, 3842530283, 94708A213"
          ],
          [
           "No Machined Parts, 3842530283, 94708A213"
          ],
          [
           "No Machined Parts, 3842530283, 94708A213"
          ],
          [
           "No Machined Parts, 3842530283, 94708A213"
          ],
          [
           "No Machined Parts, 3842530283, 94708A213"
          ],
          [
           "No Machined Parts, 3842530283, 94708A213"
          ],
          [
           "No Machined Parts, 3842530283, 94708A213"
          ],
          [
           "No Machined Parts, 3842530283, 94708A213"
          ],
          [
           "No Machined Parts, 3842530283, 94708A213"
          ],
          [
           "No Machined Parts, 3842530283, 94708A213"
          ],
          [
           "No Machined Parts, 3842530283, 94708A213"
          ],
          [
           "No Machined Parts, 3842530283, 94708A213"
          ],
          [
           "No Machined Parts, 3842530283, 94708A213"
          ],
          [
           "No Machined Parts, 3842530283, 94708A213"
          ],
          [
           "No Machined Parts, 3842530283, 94708A213"
          ],
          [
           "No Machined Parts, 3842530283, 94708A213"
          ],
          [
           "No Machined Parts, 3842530283, 94708A213"
          ],
          [
           "No Machined Parts, 3842530283, 94708A213"
          ],
          [
           "No Machined Parts, 3842530283, 94708A213"
          ],
          [
           "No Machined Parts, 3842530283, 94708A213"
          ],
          [
           "No Machined Parts, 3842530283, 94708A213"
          ],
          [
           "No Machined Parts, 3842530283, 94708A213"
          ],
          [
           "No Machined Parts, 3842530283, 94708A213"
          ],
          [
           "No Machined Parts, 3842530283, 94708A213"
          ],
          [
           "No Machined Parts, 3842530283, 94708A213"
          ],
          [
           "No Machined Parts, 3842530283, 94708A213"
          ],
          [
           "7000-08041-6101000, DR10-AP-1F"
          ],
          [
           "7000-08041-6101000, DR10-AP-1F"
          ],
          [
           ""
          ],
          [
           ""
          ],
          [
           "7000-12221-6140500, 7000-12481-0000000, 7000-41201-0000000, 94180A363, MDCPQ-4FP-3.3M"
          ],
          [
           "7000-12221-6140500, 7000-12481-0000000, 7000-41201-0000000, 94180A363, 95495K934, MDCPQ-4FP-3.3M"
          ],
          [
           "7000-08061-6110750"
          ],
          [
           "7000-08061-6110750"
          ],
          [
           "No Machined Parts, 3842548840, 94708A213"
          ],
          [
           "No Machined Parts, 3842548840, 94708A213"
          ],
          [
           "No Machined Parts, 3842548840, 94708A213"
          ],
          [
           "No Machined Parts, 3842548840, 94708A213"
          ],
          [
           "No Machined Parts, 3842548840, 94708A213"
          ],
          [
           "No Machined Parts, 3842548840, 94708A213"
          ],
          [
           "PG10.6.10.1.1.A, PG10.6.10.1.2.A"
          ],
          [
           "7000-08061-6110750, 92661A751"
          ],
          [
           "8031N14, 90326A115, 91455A613"
          ],
          [
           "3842529323, 7000-08061-2111000, 91595A636, GN.15211"
          ],
          [
           "90326A115, 91455A613"
          ],
          [
           "90326A115, 91455A613"
          ],
          [
           "8031N14, 90326A115, 91455A613"
          ],
          [
           "No Machined Parts, 3842548840, 94708A213"
          ],
          [
           "No Machined Parts, 3842530283, 94708A213"
          ],
          [
           "No Machined Parts, 3842530283, 94708A213"
          ],
          [
           "No Machined Parts, 3842530283, 94708A213"
          ],
          [
           "No Machined Parts, 3842530283, 94708A213"
          ],
          [
           "No Machined Parts, 3842530283, 94708A213"
          ],
          [
           "No Machined Parts, 3842530283, 94708A213"
          ],
          [
           "No Machined Parts, 3842548840, 94708A213"
          ],
          [
           "No Machined Parts, 3842530283, 94708A213"
          ],
          [
           "No Machined Parts, 3842530283, 94708A213"
          ],
          [
           "No Machined Parts, 3842530283, 94708A213"
          ],
          [
           "No Machined Parts, 3842530283, 94708A213"
          ],
          [
           "No Machined Parts, 3842530283, 94708A213"
          ],
          [
           "No Machined Parts, 3842530283, 94708A213"
          ],
          [
           "No Machined Parts, 3842530283, 94708A213"
          ],
          [
           "No Machined Parts, 3842530283, 94708A213"
          ],
          [
           "No Machined Parts, 3842530283, 94708A213"
          ],
          [
           "No Machined Parts, 3842548840, 94708A213"
          ],
          [
           ""
          ],
          [
           ""
          ],
          [
           "201558"
          ],
          [
           "PG10.8.1.4.1.A"
          ],
          [
           "PG10.8.1.4.1.A"
          ],
          [
           ""
          ],
          [
           ""
          ],
          [
           ""
          ],
          [
           ""
          ],
          [
           "91595A664"
          ],
          [
           "No Machined Parts, 3842530283, 94708A213"
          ],
          [
           "91100A160, P35-8MGT-30"
          ],
          [
           "91595A664"
          ],
          [
           "91595A649"
          ],
          [
           "7000-08061-6110750, 98688A114"
          ],
          [
           "7000-08061-6110750, 98688A114"
          ],
          [
           "7000-08041-6101000, 7000-08061-6110750, 98688A114, 98688A115"
          ],
          [
           "7000-08041-6101000, 7000-08061-6110750, 98688A114, 98688A115"
          ],
          [
           "90695A033, 91455A330, 92125A132, 92125A186, 92125A192, 92871A173"
          ],
          [
           "90695A033, 91455A330, 92125A132, 92125A186, 92125A192, 92871A173"
          ],
          [
           "PG10.5.5.4.4.A, 91595A356, 92125A192"
          ],
          [
           "PG10.5.5.4.4.A, 91595A356, 92125A192"
          ],
          [
           "PG10.2.1.4.1.A, 3842530283, 90695A037, 91100A140"
          ],
          [
           "PG10.2.1.5.1.A, 3842530283, 90695A037, 91100A140"
          ],
          [
           "7000-08041-6101000, 98688A114"
          ],
          [
           "7000-08041-6101000, 98688A114"
          ],
          [
           "No Machined Parts, 3842530283, 9540K753"
          ],
          [
           "92095A187"
          ],
          [
           "(?)"
          ],
          [
           "(?)"
          ],
          [
           "(?)"
          ],
          [
           "(?)"
          ],
          [
           "(?)"
          ],
          [
           "(?)"
          ],
          [
           "(?)"
          ],
          [
           "(?)"
          ],
          [
           "(?)"
          ],
          [
           "(?)"
          ],
          [
           "(?)"
          ],
          [
           "(?)"
          ],
          [
           "(?)"
          ],
          [
           "(?)"
          ],
          [
           ""
          ],
          [
           ""
          ],
          [
           "No Machined Parts, 3842530283, 94708A213"
          ],
          [
           "No Machined Parts, 3842530283, 94708A213"
          ],
          [
           "640-8MGT-30, 90510A245, P35-8MGT-30"
          ],
          [
           "91100A160"
          ],
          [
           "91100A160"
          ],
          [
           "3842528735, 94669A177"
          ],
          [
           "3842528738"
          ],
          [
           "No Machined Parts"
          ],
          [
           "No Machined Parts"
          ],
          [
           "No Machined Parts, 3842548840, 94708A213"
          ],
          [
           "No Machined Parts, 3842548840, 94708A213"
          ],
          [
           "PG10.10.1.5.1.A, 3842530283, 94669A177, 94708A214"
          ],
          [
           "No Machined Parts, 3842548840, 94708A213"
          ],
          [
           "No Machined Parts, 3842530283, 94708A213"
          ],
          [
           "No Machined Parts, 3842530283, 94708A213"
          ],
          [
           "No Machined Parts, 3842530283, 94708A213"
          ],
          [
           ""
          ],
          [
           ""
          ],
          [
           ""
          ],
          [
           ""
          ],
          [
           "3842528718"
          ],
          [
           "3842528718"
          ],
          [
           "3842528718"
          ],
          [
           "3842528718"
          ],
          [
           "3842528718"
          ],
          [
           "3842528718"
          ],
          [
           "3842528718"
          ],
          [
           "3842528718"
          ],
          [
           "ECP3112, EVP-CS-PL"
          ],
          [
           ""
          ],
          [
           ""
          ],
          [
           "PG10.10.2.6.2.A"
          ],
          [
           "PG10.10.2.7.1.A"
          ],
          [
           "PG10.10.2.7.1.A"
          ],
          [
           "No Machined Parts"
          ],
          [
           "No Machined Parts"
          ],
          [
           "No Machined Parts"
          ],
          [
           "No Machined Parts"
          ],
          [
           "No Machined Parts"
          ],
          [
           "No Machined Parts"
          ],
          [
           "PG10.4.1.7.1.B, 1072708, 3842530283, 94708A213, 94708A214, 94708A413"
          ],
          [
           "PG10.4.1.8.1.A, 1072708, 3842530283, 94000A035, 94708A213, 94708A214, 94708A413"
          ],
          [
           ""
          ],
          [
           ""
          ],
          [
           ""
          ],
          [
           "91390A552"
          ],
          [
           "PG10.8.1.3.1.A, PG10.8.1.3.2.A, PG10.8.1.3.3.A, 91390A552"
          ],
          [
           "3842530287"
          ],
          [
           "91390A552"
          ],
          [
           "91390A552"
          ],
          [
           "3842530287"
          ],
          [
           "3842530287"
          ],
          [
           "3842530287"
          ],
          [
           "No Machined Parts, 3842530283, 94708A213"
          ],
          [
           "90591A220"
          ],
          [
           "90591A220"
          ],
          [
           "90591A220"
          ],
          [
           "90591A220"
          ],
          [
           "90591A220"
          ],
          [
           "90591A220"
          ],
          [
           "90591A220"
          ],
          [
           "91595A649"
          ],
          [
           "91595A649"
          ],
          [
           "91595A664"
          ],
          [
           "PG10.4.4.1.2.A, 5972K157"
          ],
          [
           "PG10.4.4.2.3.A, 5972K157"
          ],
          [
           "No Machined Parts"
          ],
          [
           ""
          ],
          [
           ""
          ],
          [
           ""
          ],
          [
           "No Machined Parts"
          ],
          [
           "No Machined Parts"
          ],
          [
           "No Purchased Parts"
          ],
          [
           "No Purchased Parts"
          ],
          [
           "No Purchased Parts"
          ],
          [
           "No Purchased Parts"
          ],
          [
           "No Purchased Parts"
          ],
          [
           "No Purchased Parts"
          ],
          [
           "No Machined Parts"
          ],
          [
           "No Machined Parts"
          ],
          [
           "No Machined Parts"
          ],
          [
           "No Machined Parts"
          ],
          [
           ""
          ],
          [
           ""
          ],
          [
           ""
          ],
          [
           ""
          ],
          [
           "I-BFH-17-0"
          ],
          [
           "I-BFH-17-0"
          ],
          [
           "I-BFH-17-0"
          ],
          [
           "I-BFH-17-0"
          ],
          [
           "I-BFH-17-0"
          ],
          [
           "I-BFH-17-0"
          ],
          [
           "No Machined Parts, 3842530283, 94708A213"
          ],
          [
           "7000-08061-6110750"
          ],
          [
           "7000-08061-6110750"
          ],
          [
           "PG10.4.7.1.1.A, 3842529323, 91595A640, GN.15211, Print Head Collar Mount"
          ],
          [
           "90510A245, 95053A231, P35-8MGT-30"
          ],
          [
           "(?)"
          ],
          [
           ""
          ],
          [
           "2200-8MGT-30, 95053A231, P35-8MGT-30"
          ],
          [
           "91611A410"
          ],
          [
           "91611A410"
          ],
          [
           "91611A410"
          ],
          [
           "91611A410"
          ],
          [
           "91611A410"
          ],
          [
           "91611A410"
          ],
          [
           "91611A410"
          ],
          [
           "91611A410"
          ],
          [
           "91595A640"
          ],
          [
           ""
          ],
          [
           ""
          ],
          [
           ""
          ],
          [
           ""
          ],
          [
           ""
          ],
          [
           ""
          ],
          [
           ""
          ],
          [
           ""
          ],
          [
           ""
          ],
          [
           ""
          ],
          [
           ""
          ],
          [
           ""
          ],
          [
           ""
          ],
          [
           ""
          ],
          [
           ""
          ],
          [
           ""
          ],
          [
           ""
          ],
          [
           ""
          ],
          [
           ""
          ],
          [
           ""
          ],
          [
           ""
          ],
          [
           ""
          ],
          [
           "PG10.2.3.8.1.A, PG10.2.3.8.2.A, PG10.2.3.8.3.A, 3842529323, GN.15211"
          ],
          [
           "PG10.2.3.8.1.A, PG10.2.3.8.2.A, PG10.2.3.8.3.A, 3842529323, GN.15211"
          ],
          [
           "PG10.2.3.8.1.A, PG10.2.3.8.2.A, PG10.2.3.8.3.A, 3842529323, GN.15211"
          ],
          [
           "PG10.2.3.4.1.A"
          ],
          [
           "PG10.2.3.4.1.A"
          ],
          [
           "PG10.2.3.4.1.A"
          ],
          [
           "91116A380"
          ],
          [
           "91116A380"
          ],
          [
           "91116A380"
          ],
          [
           "91116A380"
          ],
          [
           ""
          ],
          [
           ""
          ],
          [
           ""
          ],
          [
           "91595A649"
          ],
          [
           "91595A640"
          ],
          [
           "PG10.4.5.1.2.A, 5972K157, 6057N26, ECP3112, EVP-CS-PL, KQ2T04-00A"
          ],
          [
           ""
          ],
          [
           ""
          ],
          [
           ""
          ],
          [
           ""
          ],
          [
           "No Purchased Parts"
          ],
          [
           ""
          ],
          [
           "7000-08061-2111000"
          ],
          [
           "3842528735, 90154A273, 90214A527, 90265A363 , 90833A124"
          ],
          [
           "3842528735, 90154A273, 90214A527, 90265A363 , 90833A124"
          ],
          [
           "3842528735, 90154A273, 90214A527, 90265A363 , 90833A124"
          ],
          [
           "No Machined Parts, 3842530283, 94708A213"
          ],
          [
           "(?)"
          ],
          [
           "(?)"
          ],
          [
           "(?)"
          ],
          [
           "(?)"
          ],
          [
           "(?)"
          ],
          [
           "(?)"
          ],
          [
           "PG10.6.6.1.1.A, No Purchased Parts"
          ],
          [
           "PG10.6.6.1.1.A, No Purchased Parts"
          ],
          [
           "(?)"
          ],
          [
           "(?)"
          ],
          [
           "7000-08041-6101000"
          ],
          [
           "7000-08041-6101000"
          ],
          [
           "7000-08061-6110750"
          ],
          [
           "No Machined Parts, 3842530283, 94708A213"
          ],
          [
           "No Machined Parts, 3842530283, 94708A213"
          ],
          [
           "No Machined Parts, 3842530283, 94708A213"
          ],
          [
           "No Machined Parts, 3842530283, 94708A213"
          ],
          [
           "No Machined Parts, 3842530283, 94708A213"
          ],
          [
           "No Machined Parts, 3842530283, 94708A213"
          ],
          [
           "No Machined Parts, 3842530283, 94708A213"
          ],
          [
           "No Machined Parts, 3842530283, 94708A213"
          ],
          [
           "PG10.7.7.1.1.A, 91390A552"
          ],
          [
           "PG10.8.1.3.2.A, PG10.8.1.3.3.A, PG10.8.2.2.1.A, 91390A552"
          ],
          [
           "3842530287"
          ],
          [
           "91390A552"
          ],
          [
           "91390A552"
          ],
          [
           "3842530287"
          ],
          [
           "3842530287"
          ],
          [
           "3842530287"
          ],
          [
           "7000-08061-6110750"
          ],
          [
           "7000-12221-6140500"
          ],
          [
           ""
          ],
          [
           "91595A640"
          ],
          [
           ""
          ],
          [
           "No Machined Parts, 3842530283, 94708A213"
          ],
          [
           "No Machined Parts, 3842530283, 94708A213"
          ],
          [
           "No Machined Parts, 3842530283, 94708A213"
          ],
          [
           "No Machined Parts, 3842548840, 94708A213"
          ],
          [
           "PG10.7.1.4.1.A"
          ],
          [
           "91595A649"
          ],
          [
           "91595A640"
          ],
          [
           "842E-CM-MIP2BA"
          ],
          [
           "842E-CM-MIP2BA"
          ],
          [
           "842E-CM-MIP2BA"
          ],
          [
           "No Machined Parts"
          ],
          [
           "4464K44, 4464K892, FWSSM-D20-V10.5-T8"
          ],
          [
           "No Machined Parts, 3842530287"
          ],
          [
           "No Machined Parts, KQ2H10-U04A, PPS1 CI63"
          ],
          [
           "PG10.4.3.11.A, PG10.4.3.8.A, 3842530283"
          ],
          [
           "PG10.6.1.13.A, PG10.6.1.6.A, 5972K157, 96505A114, 98688A115, ECP3112, EVP-CS-PL"
          ],
          [
           "No Machined Parts, 8087K16"
          ],
          [
           "No Machined Parts, 91166A290"
          ],
          [
           "90591A220"
          ],
          [
           "90695A033, 91455A330, 92125A132, 92125A186, 92125A192, 92871A173"
          ],
          [
           "No Machined Parts"
          ],
          [
           "No Machined Parts"
          ],
          [
           ""
          ],
          [
           "(?)"
          ],
          [
           "(?)"
          ],
          [
           "7000-08041-6101000, 92905A669"
          ],
          [
           "7000-08041-6101000, 91292A320"
          ],
          [
           "7000-08041-6101000, 91292A320"
          ],
          [
           "(?)"
          ],
          [
           ""
          ],
          [
           "(?)"
          ],
          [
           "(?)"
          ],
          [
           "(?)"
          ],
          [
           ""
          ],
          [
           "3842528718"
          ],
          [
           ""
          ],
          [
           "201558"
          ],
          [
           "3842528735, 91595A640"
          ],
          [
           "3842528738, 91595A636, GN.15211, TCU0425B-2"
          ],
          [
           ""
          ],
          [
           "(?)"
          ],
          [
           "(?)"
          ],
          [
           "(?)"
          ],
          [
           "(?)"
          ],
          [
           "(?)"
          ],
          [
           "(?)"
          ],
          [
           "(?)"
          ],
          [
           ""
          ],
          [
           "No Machined Parts"
          ],
          [
           "(?)"
          ],
          [
           "(?)"
          ],
          [
           "PG10.4.5.1.2.A, 5972K157, 6057N26, ECP3112, EVP-CS-PL, KQ2T04-00A"
          ],
          [
           "PG10.4.3.11.A, MA-00779, Track Turner"
          ],
          [
           "(?)"
          ],
          [
           "PG10.4.7.1.1.A, 3842529323, 91595A640, GN.15211, Print Head Collar Mount"
          ],
          [
           "(?)"
          ],
          [
           "(?)"
          ],
          [
           "(?)"
          ],
          [
           "(?)"
          ],
          [
           "(?)"
          ],
          [
           "(?)"
          ],
          [
           "3842528735, 90154A273, 90214A527, 90265A363 , 90833A124"
          ],
          [
           "(?)"
          ],
          [
           "No Machined Parts"
          ],
          [
           "No Machined Parts"
          ],
          [
           "90591A220"
          ],
          [
           "No Machined Parts"
          ],
          [
           "(?)"
          ],
          [
           "(?)"
          ],
          [
           "(?)"
          ],
          [
           "(?)"
          ],
          [
           "(?)"
          ],
          [
           "(?)"
          ],
          [
           "(?)"
          ],
          [
           "(?)"
          ],
          [
           "No Machined Parts, 3842548840, 94708A213"
          ],
          [
           "(?)"
          ],
          [
           ""
          ],
          [
           "No Machined Parts"
          ],
          [
           "(?)"
          ],
          [
           "(?)"
          ],
          [
           "(?)"
          ],
          [
           "(?)"
          ],
          [
           "3842529324, 90214A119, 91595A640"
          ],
          [
           "No Machined Parts, 8087K16"
          ],
          [
           "(?)"
          ],
          [
           "(?)"
          ],
          [
           "(?)"
          ],
          [
           "(?)"
          ],
          [
           "(?)"
          ],
          [
           "(?)"
          ],
          [
           "(?)"
          ],
          [
           "(?)"
          ],
          [
           ""
          ],
          [
           "(?)"
          ],
          [
           "(?)"
          ],
          [
           "(?)"
          ],
          [
           "(?)"
          ]
         ],
         "domain": {
          "x": [
           0,
           1
          ],
          "y": [
           0,
           1
          ]
         },
         "hovertemplate": "labels=%{label}<br>Total Unique Parts=%{value}<br>parent=%{parent}<br>id=%{id}<br>Composite Not Received=%{customdata[0]}<extra></extra>",
         "ids": [
          "2-Up Pouch Machine/Tube Insert Assy/Tube Insert Assy A Side/Tube Pusher Assy A Side/11-Inch Pusher Stop Assy",
          "2-Up Pouch Machine/Tube Insert Assy/Tube Insert Assy B Side/Tube Pusher Assy B Side/11-Inch Pusher Stop Assy",
          "2-Up Pouch Machine/Tube Insert Assy/Tube Insert Assy A Side/Tube Pusher Assy A Side/6-Inch Pusher Stop Assy",
          "2-Up Pouch Machine/Tube Insert Assy/Tube Insert Assy B Side/Tube Pusher Assy B Side/6-Inch Pusher Stop Assy",
          "2-Up Pouch Machine/Tube Insert Assy/Tube Insert Assy A Side/Tube PNP Assy A Side/Air Cylinder Mount Assy A Side",
          "2-Up Pouch Machine/Tube Insert Assy/Tube Insert Assy B Side/Tube PNP Assy B Side/Air Cylinder Mount Assy B Side",
          "2-Up Pouch Machine/Main Frame 2/Upper Main Frame 2/Tube Opening Guard L A Side/Csink Variofix Assy",
          "2-Up Pouch Machine/Main Frame 2/Upper Main Frame 2/Tube Opening Guard L B Side/Csink Variofix Assy",
          "2-Up Pouch Machine/Main Frame 2/Upper Main Frame 2/Tube Opening Guard R A Side/Csink Variofix Assy",
          "2-Up Pouch Machine/Main Frame 2/Upper Main Frame 2/Tube Opening Guard R B Side/Csink Variofix Assy",
          "2-Up Pouch Machine/Cuff Insert Assy/Cuff Lift Assy A Side/Cuff Shuttle A Side Assy/Cuff Gripper Assy",
          "2-Up Pouch Machine/Cuff Insert Assy/Cuft Lift Assy B Side/Cuff Shuttle B Side Assy/Cuff Gripper Assy",
          "2-Up Pouch Machine/Tube Insert Assy/Tube Insert Assy A Side/Tube PNP Assy A Side/Cuff Present Sensor Assy",
          "2-Up Pouch Machine/Tube Insert Assy/Tube Insert Assy B Side/Tube PNP Assy B Side/Cuff Present Sensor Assy",
          "2-Up Pouch Machine/Main Frame 2/Upper Main Frame 2/Door 10/Door Mag Lock Assembly",
          "2-Up Pouch Machine/Main Frame 2/Upper Main Frame 2/Door 11/Door Mag Lock Assembly",
          "2-Up Pouch Machine/Main Frame 2/Upper Main Frame 2/Door 12/Door Mag Lock Assembly",
          "2-Up Pouch Machine/Main Frame 3/Upper Main Frame 3/Door 13/Door Mag Lock Assembly",
          "2-Up Pouch Machine/Main Frame 3/Upper Main Frame 3/Door 14/Door Mag Lock Assembly",
          "2-Up Pouch Machine/Main Frame 3/Upper Main Frame 3/Door 15/Door Mag Lock Assembly",
          "2-Up Pouch Machine/Main Frame 3/Upper Main Frame 3/Door 16/Door Mag Lock Assembly",
          "2-Up Pouch Machine/Main Frame 1/Upper Main Frame 1/Door 3/Door Mag Lock Assembly",
          "2-Up Pouch Machine/Main Frame 1/Upper Main Frame 1/Door 4/Door Mag Lock Assembly",
          "2-Up Pouch Machine/Main Frame 1/Upper Main Frame 1/Door 5/Door Mag Lock Assembly",
          "2-Up Pouch Machine/Main Frame 1/Upper Main Frame 1/Door 6/Door Mag Lock Assembly",
          "2-Up Pouch Machine/Main Frame 2/Upper Main Frame 2/Door 9/Door Mag Lock Assembly",
          "2-Up Pouch Machine/Delivery Assy/Delivery Frame Assy/Retracting Conveyor Door/Door Mag Lock Assembly",
          "2-Up Pouch Machine/Main Frame 2/Upper Main Frame 2/Door 10/Door Support Assem",
          "2-Up Pouch Machine/Main Frame 2/Upper Main Frame 2/Door 11/Door Support Assem",
          "2-Up Pouch Machine/Main Frame 2/Upper Main Frame 2/Door 12/Door Support Assem",
          "2-Up Pouch Machine/Main Frame 3/Upper Main Frame 3/Door 13/Door Support Assem",
          "2-Up Pouch Machine/Main Frame 3/Upper Main Frame 3/Door 14/Door Support Assem",
          "2-Up Pouch Machine/Main Frame 3/Upper Main Frame 3/Door 15/Door Support Assem",
          "2-Up Pouch Machine/Main Frame 3/Upper Main Frame 3/Door 16/Door Support Assem",
          "2-Up Pouch Machine/Main Frame 1/Upper Main Frame 1/Door 3/Door Support Assem",
          "2-Up Pouch Machine/Main Frame 1/Upper Main Frame 1/Door 4/Door Support Assem",
          "2-Up Pouch Machine/Main Frame 1/Upper Main Frame 1/Door 5/Door Support Assem",
          "2-Up Pouch Machine/Main Frame 1/Upper Main Frame 1/Door 6/Door Support Assem",
          "2-Up Pouch Machine/Main Frame 2/Upper Main Frame 2/Door 7/Door Support Assem",
          "2-Up Pouch Machine/Main Frame 2/Upper Main Frame 2/Door 8/Door Support Assem",
          "2-Up Pouch Machine/Main Frame 2/Upper Main Frame 2/Door 9/Door Support Assem",
          "2-Up Pouch Machine/Delivery Assy/Delivery Frame Assy/Retracting Conveyor Door/Door Support Assem",
          "2-Up Pouch Machine/Main Frame 2/Upper Main Frame 2/Door 10/Elesa Door Handle Assembly",
          "2-Up Pouch Machine/Main Frame 2/Upper Main Frame 2/Door 11/Elesa Door Handle Assembly",
          "2-Up Pouch Machine/Main Frame 2/Upper Main Frame 2/Door 12/Elesa Door Handle Assembly",
          "2-Up Pouch Machine/Main Frame 3/Upper Main Frame 3/Door 13/Elesa Door Handle Assembly",
          "2-Up Pouch Machine/Main Frame 3/Upper Main Frame 3/Door 14/Elesa Door Handle Assembly",
          "2-Up Pouch Machine/Main Frame 3/Upper Main Frame 3/Door 15/Elesa Door Handle Assembly",
          "2-Up Pouch Machine/Main Frame 3/Upper Main Frame 3/Door 16/Elesa Door Handle Assembly",
          "2-Up Pouch Machine/Main Frame 1/Upper Main Frame 1/Door 3/Elesa Door Handle Assembly",
          "2-Up Pouch Machine/Main Frame 1/Upper Main Frame 1/Door 4/Elesa Door Handle Assembly",
          "2-Up Pouch Machine/Main Frame 1/Upper Main Frame 1/Door 5/Elesa Door Handle Assembly",
          "2-Up Pouch Machine/Main Frame 1/Upper Main Frame 1/Door 6/Elesa Door Handle Assembly",
          "2-Up Pouch Machine/Main Frame 2/Upper Main Frame 2/Door 7/Elesa Door Handle Assembly",
          "2-Up Pouch Machine/Main Frame 2/Upper Main Frame 2/Door 8/Elesa Door Handle Assembly",
          "2-Up Pouch Machine/Main Frame 2/Upper Main Frame 2/Door 9/Elesa Door Handle Assembly",
          "2-Up Pouch Machine/Delivery Assy/Delivery Frame Assy/Retracting Conveyor Door/Elesa Door Handle Assembly",
          "2-Up Pouch Machine/Main Frame 2/Upper Main Frame 2/Door 10/Guard Pivot Assy",
          "2-Up Pouch Machine/Main Frame 3/Upper Main Frame 3/Door 13/Guard Pivot Assy",
          "2-Up Pouch Machine/Main Frame 3/Upper Main Frame 3/Door 14/Guard Pivot Assy",
          "2-Up Pouch Machine/Main Frame 1/Upper Main Frame 1/Door 3/Guard Pivot Assy",
          "2-Up Pouch Machine/Main Frame 1/Upper Main Frame 1/Door 4/Guard Pivot Assy",
          "2-Up Pouch Machine/Main Frame 2/Upper Main Frame 2/Door 7/Guard Pivot Assy",
          "2-Up Pouch Machine/Main Frame 2/Upper Main Frame 2/Door 8/Guard Pivot Assy",
          "2-Up Pouch Machine/Main Frame 2/Upper Main Frame 2/Door 9/Guard Pivot Assy",
          "2-Up Pouch Machine/Delivery Assy/Delivery Frame Assy/Retracting Conveyor Door/Guard Pivot Assy",
          "2-Up Pouch Machine/Main Frame 2/Upper Main Frame 2/Tube Opening Guard L A Side/Guard Slotted Adjustment Spacer Assy",
          "2-Up Pouch Machine/Main Frame 2/Upper Main Frame 2/Tube Opening Guard L B Side/Guard Slotted Adjustment Spacer Assy",
          "2-Up Pouch Machine/Main Frame 2/Upper Main Frame 2/Tube Opening Guard R A Side/Guard Slotted Adjustment Spacer Assy",
          "2-Up Pouch Machine/Main Frame 2/Upper Main Frame 2/Tube Opening Guard R B Side/Guard Slotted Adjustment Spacer Assy",
          "2-Up Pouch Machine/Main Frame 1/Lower Main Frame 1/Bottom Guarding 1/M5 Hardware for Poly",
          "2-Up Pouch Machine/Main Frame 2/Lower Main Frame 2/Bottom Guarding 11 and 12/M5 Hardware for Poly",
          "2-Up Pouch Machine/Main Frame 2/Lower Main Frame 2/Bottom Guarding 13 and 14/M5 Hardware for Poly",
          "2-Up Pouch Machine/Main Frame 3/Lower Main Frame 3/Bottom Guarding 15 and 16/M5 Hardware for Poly",
          "2-Up Pouch Machine/Main Frame 3/Lower Main Frame 3/Bottom Guarding 17 and 18/M5 Hardware for Poly",
          "2-Up Pouch Machine/Main Frame 3/Lower Main Frame 3/Bottom Guarding 19 and 20/M5 Hardware for Poly",
          "2-Up Pouch Machine/Main Frame 1/Lower Main Frame 1/Bottom Guarding 2/M5 Hardware for Poly",
          "2-Up Pouch Machine/Main Frame 3/Lower Main Frame 3/Bottom Guarding 21 and 22/M5 Hardware for Poly",
          "2-Up Pouch Machine/Main Frame 3/Lower Main Frame 3/Bottom Guarding 23 and 24/M5 Hardware for Poly",
          "2-Up Pouch Machine/Main Frame 3/Lower Main Frame 3/Bottom Guarding 25 and 26/M5 Hardware for Poly",
          "2-Up Pouch Machine/Main Frame 3/Lower Main Frame 3/Bottom Guarding 27 and 28/M5 Hardware for Poly",
          "2-Up Pouch Machine/Main Frame 1/Lower Main Frame 1/Bottom Guarding 3 and 4/M5 Hardware for Poly",
          "2-Up Pouch Machine/Main Frame 2/Lower Main Frame 2/Bottom Guarding 5 and 6/M5 Hardware for Poly",
          "2-Up Pouch Machine/Main Frame 2/Lower Main Frame 2/Bottom Guarding 7 and 8/M5 Hardware for Poly",
          "2-Up Pouch Machine/Main Frame 2/Lower Main Frame 2/Bottom Guarding 9 and  10/M5 Hardware for Poly",
          "2-Up Pouch Machine/Unwind Assy/Unwind Frame/Center Dancer Guard/M5 Hardware for Poly",
          "2-Up Pouch Machine/Main Frame 3/Lower Main Frame 3/Downweb Lower Guard Assy/M5 Hardware for Poly",
          "2-Up Pouch Machine/Main Frame 3/Upper Main Frame 3/Downweb Upper Guard Assy/M5 Hardware for Poly",
          "2-Up Pouch Machine/Main Frame 3/Lower Main Frame 3/End Lower Side Guard Assy/M5 Hardware for Poly",
          "2-Up Pouch Machine/Main Frame 3/Upper Main Frame 3/End Upper Guard Assy/M5 Hardware for Poly",
          "2-Up Pouch Machine/Main Frame 3/Upper Main Frame 3/End Upper Side Guard Assy/M5 Hardware for Poly",
          "2-Up Pouch Machine/Unwind Assy/Unwind Frame/Lower Dancer Guard/M5 Hardware for Poly",
          "2-Up Pouch Machine/Delivery Assy/Delivery Frame Assy/Padle Conveyor Guarding/M5 Hardware for Poly",
          "2-Up Pouch Machine/Unwind Assy/Unwind Frame/Thin Wall Top Guard 1/M5 Hardware for Poly",
          "2-Up Pouch Machine/Main Frame 1/Upper Main Frame 1/Twin Wall Top Guard 2/M5 Hardware for Poly",
          "2-Up Pouch Machine/Main Frame 1/Upper Main Frame 1/Twin Wall Top Guard 3/M5 Hardware for Poly",
          "2-Up Pouch Machine/Main Frame 2/Upper Main Frame 2/Twin Wall Top Guard 4/M5 Hardware for Poly",
          "2-Up Pouch Machine/Main Frame 2/Upper Main Frame 2/Twin Wall Top Guard 5/M5 Hardware for Poly",
          "2-Up Pouch Machine/Main Frame 3/Upper Main Frame 3/Twin Wall Top Guard 6/M5 Hardware for Poly",
          "2-Up Pouch Machine/Main Frame 3/Upper Main Frame 3/Twin Wall Top Guard 7/M5 Hardware for Poly",
          "2-Up Pouch Machine/Main Frame 3/Upper Main Frame 3/Twin Wall Top Guard 8/M5 Hardware for Poly",
          "2-Up Pouch Machine/Delivery Assy/Delivery Frame Assy/Twin Wall Top Guard 9/M5 Hardware for Poly",
          "2-Up Pouch Machine/Unwind Assy/Unwind Frame/Upper Dancer Guard/M5 Hardware for Poly",
          "2-Up Pouch Machine/Main Frame 3/Lower Main Frame 3/Upweb Lower Guard Assy/M5 Hardware for Poly",
          "2-Up Pouch Machine/Main Frame 3/Lower Main Frame 3/Upweb Upper Guard Assy/M5 Hardware for Poly",
          "2-Up Pouch Machine/Tube Insert Assy/Tube Insert Assy A Side/Tube PNP Assy A Side/Pick Cylinder Stop Assy A Side",
          "2-Up Pouch Machine/Tube Insert Assy/Tube Insert Assy B Side/Tube PNP Assy B Side/Pick Cylinder Stop Assy B Side",
          "2-Up Pouch Machine/Tube Insert Assy/Tube Insert Assy A Side/Tube PNP Assy A Side/Speed Control Tube PNP Assy A Side",
          "2-Up Pouch Machine/Tube Insert Assy/Tube Insert Assy B Side/Tube PNP Assy B Side/Speed Control Tube PNP Assy B Side",
          "2-Up Pouch Machine/Tube Insert Assy/Tube Insert Assy A Side/Tube PNP Assy A Side/Tube Gripper Assy A Side",
          "2-Up Pouch Machine/Tube Insert Assy/Tube Insert Assy B Side/Tube PNP Assy B Side/Tube Gripper Assy B Side",
          "2-Up Pouch Machine/Tube Insert Assy/Tube Insert Assy A Side/Tube Pusher Assy A Side/Tube Present Sensor Assy",
          "2-Up Pouch Machine/Tube Insert Assy/Tube Insert Assy B Side/Tube Pusher Assy B Side/Tube Present Sensor Assy",
          "2-Up Pouch Machine/Delivery Assy/Delivery Frame Assy/Bottom Guarding 1/Variofix and Washer Assy",
          "2-Up Pouch Machine/Delivery Assy/Delivery Frame Assy/Bottom Guarding 2/Variofix and Washer Assy",
          "2-Up Pouch Machine/Delivery Assy/Delivery Frame Assy/Bottom Guarding Motor Cut Out/Variofix and Washer Assy",
          "2-Up Pouch Machine/Delivery Assy/Delivery Frame Assy/End Bottom Guard Assemy/Variofix and Washer Assy",
          "2-Up Pouch Machine/Delivery Assy/Delivery Frame Assy/End Bottom Guarding /Variofix and Washer Assy",
          "2-Up Pouch Machine/Delivery Assy/Delivery Frame Assy/End Guarding Assem/Variofix and Washer Assy",
          "2-Up Pouch Machine/Tube Insert Assy/Tube Singulator Assy/6-Inch Insert Assy",
          "2-Up Pouch Machine/Unwind Assy/Unwind Frame/Actuated Dancer Roller Assy",
          "2-Up Pouch Machine/ZIPPER SEAL ASSY/SIDE SEAL FRAME/BELT TENSIONER ASSEM",
          "2-Up Pouch Machine/Delivery Assy/Delivery Frame Assy/Bag Edge Sensor Assem",
          "2-Up Pouch Machine/Cuff Insert Assy/Cuff Insert Frame/Belt Tensioner 1 Assy",
          "2-Up Pouch Machine/Tube Insert Assy/Tube Inserter Frame Assy/Belt Tensioner 1 Assy",
          "2-Up Pouch Machine/Tube Insert Assy/Tube Inserter Frame Assy/Belt Tensioner 2 Assy",
          "2-Up Pouch Machine/Delivery Assy/Delivery Frame Assy/Bottom Guarding 1",
          "2-Up Pouch Machine/Main Frame 1/Lower Main Frame 1/Bottom Guarding 1",
          "2-Up Pouch Machine/Main Frame 2/Lower Main Frame 2/Bottom Guarding 11 and 12",
          "2-Up Pouch Machine/Main Frame 2/Lower Main Frame 2/Bottom Guarding 13 and 14",
          "2-Up Pouch Machine/Main Frame 3/Lower Main Frame 3/Bottom Guarding 15 and 16",
          "2-Up Pouch Machine/Main Frame 3/Lower Main Frame 3/Bottom Guarding 17 and 18",
          "2-Up Pouch Machine/Main Frame 3/Lower Main Frame 3/Bottom Guarding 19 and 20",
          "2-Up Pouch Machine/Delivery Assy/Delivery Frame Assy/Bottom Guarding 2",
          "2-Up Pouch Machine/Main Frame 1/Lower Main Frame 1/Bottom Guarding 2",
          "2-Up Pouch Machine/Main Frame 3/Lower Main Frame 3/Bottom Guarding 21 and 22",
          "2-Up Pouch Machine/Main Frame 3/Lower Main Frame 3/Bottom Guarding 23 and 24",
          "2-Up Pouch Machine/Main Frame 3/Lower Main Frame 3/Bottom Guarding 25 and 26",
          "2-Up Pouch Machine/Main Frame 3/Lower Main Frame 3/Bottom Guarding 27 and 28",
          "2-Up Pouch Machine/Main Frame 1/Lower Main Frame 1/Bottom Guarding 3 and 4",
          "2-Up Pouch Machine/Main Frame 2/Lower Main Frame 2/Bottom Guarding 5 and 6",
          "2-Up Pouch Machine/Main Frame 2/Lower Main Frame 2/Bottom Guarding 7 and 8",
          "2-Up Pouch Machine/Main Frame 2/Lower Main Frame 2/Bottom Guarding 9 and  10",
          "2-Up Pouch Machine/Delivery Assy/Delivery Frame Assy/Bottom Guarding Motor Cut Out",
          "2-Up Pouch Machine/ZIPPER SEAL ASSY/LOWER CENTER SIDE SEAL \nCASSETTE/CENTER SIDE SEAL TEFLON ROLL ASSY",
          "2-Up Pouch Machine/ZIPPER SEAL ASSY/UPPER CENTER SIDE SEAL \nCASSETTE/CENTER SIDE SEAL TEFLON ROLL ASSY",
          "2-Up Pouch Machine/Delivery Assy/Indexing Conveyor Assemb/CONVEYOR L BRACKET ASSY",
          "2-Up Pouch Machine/CROSS SEAL ASSY/LOWER CROSS SEAL CASSETTE/CROSS SEAL 1-PLUG BOX",
          "2-Up Pouch Machine/CROSS SEAL ASSY/UPPER CROSS SEAL CASSETTE/CROSS SEAL 1-PLUG BOX",
          "2-Up Pouch Machine/CROSS SEAL ASSY/LOWER CROSS SEAL CASSETTE/CROSS SEAL CASSETTE FRAME",
          "2-Up Pouch Machine/CROSS SEAL ASSY/UPPER CROSS SEAL CASSETTE/CROSS SEAL CASSETTE FRAME",
          "2-Up Pouch Machine/CROSS SEAL ASSY/LOWER CROSS SEAL CASSETTE/CROSS SEAL TEFLON ROLL ASSY",
          "2-Up Pouch Machine/CROSS SEAL ASSY/UPPER CROSS SEAL CASSETTE/CROSS SEAL TEFLON ROLL ASSY",
          "2-Up Pouch Machine/Main Frame 1/Lower Main Frame 1/Cam Bar Main Frame 1 Assy",
          "2-Up Pouch Machine/Unwind Assy/Unwind Frame/Center Dancer Guard",
          "2-Up Pouch Machine/Delivery Assy/Retracting Conveyor Assy/Conveyor Drive Motor Assem",
          "2-Up Pouch Machine/Main Frame 3/Lower Main Frame 3/Cross Seal Cam Bar Assy",
          "2-Up Pouch Machine/Main Frame 3/Lower Main Frame 3/Cross Seal Gear Rack  Assy",
          "2-Up Pouch Machine/Cuff Insert Assy/Cuff Lift Assy A Side/Cuff Esc Sensor Assy",
          "2-Up Pouch Machine/Cuff Insert Assy/Cuft Lift Assy B Side/Cuff Esc Sensor Assy",
          "2-Up Pouch Machine/Cuff Insert Assy/Cuff Lift Assy A Side/Cuff Escpmnt A Side Assy",
          "2-Up Pouch Machine/Cuff Insert Assy/Cuft Lift Assy B Side/Cuff Escpmnt B Side Assy",
          "2-Up Pouch Machine/Cuff Insert Assy/Cuff Conveyors Assy/Cuff Guide A Side Assy",
          "2-Up Pouch Machine/Cuff Insert Assy/Cuff Conveyors Assy/Cuff Guide B Side Assy",
          "2-Up Pouch Machine/Cuff Insert Assy/Cuff Lift Assy A Side/Cuff Nail Assy",
          "2-Up Pouch Machine/Cuff Insert Assy/Cuft Lift Assy B Side/Cuff Nail Assy",
          "2-Up Pouch Machine/Main Frame 1/Lower Main Frame 1/Cuff Opening Guard L Assy",
          "2-Up Pouch Machine/Main Frame 1/Lower Main Frame 1/Cuff Opening Guard R Assy",
          "2-Up Pouch Machine/Cuff Insert Assy/Cuff Lift Assy A Side/Cuff Shuttle A Side Assy",
          "2-Up Pouch Machine/Cuff Insert Assy/Cuft Lift Assy B Side/Cuff Shuttle B Side Assy",
          "2-Up Pouch Machine/Unwind Assy/Unwind Frame/Dancer Bumper Assem",
          "2-Up Pouch Machine/Unwind Assy/Unwind Frame/Dancer Fittings Assy",
          "2-Up Pouch Machine/Main Frame 2/Upper Main Frame 2/Door 10",
          "2-Up Pouch Machine/Main Frame 2/Upper Main Frame 2/Door 11",
          "2-Up Pouch Machine/Main Frame 2/Upper Main Frame 2/Door 12",
          "2-Up Pouch Machine/Main Frame 3/Upper Main Frame 3/Door 13",
          "2-Up Pouch Machine/Main Frame 3/Upper Main Frame 3/Door 14",
          "2-Up Pouch Machine/Main Frame 3/Upper Main Frame 3/Door 15",
          "2-Up Pouch Machine/Main Frame 3/Upper Main Frame 3/Door 16",
          "2-Up Pouch Machine/Main Frame 1/Upper Main Frame 1/Door 3",
          "2-Up Pouch Machine/Main Frame 1/Upper Main Frame 1/Door 4",
          "2-Up Pouch Machine/Main Frame 1/Upper Main Frame 1/Door 5",
          "2-Up Pouch Machine/Main Frame 1/Upper Main Frame 1/Door 6",
          "2-Up Pouch Machine/Main Frame 2/Upper Main Frame 2/Door 7",
          "2-Up Pouch Machine/Main Frame 2/Upper Main Frame 2/Door 8",
          "2-Up Pouch Machine/Main Frame 2/Upper Main Frame 2/Door 9",
          "2-Up Pouch Machine/Unwind Assy/Door 1 A-Side/Door Mag Lock Assembly",
          "2-Up Pouch Machine/Unwind Assy/Door 2 B-Side/Door Mag Lock Assembly",
          "2-Up Pouch Machine/Main Frame 3/Lower Main Frame 3/Downweb Lower Guard Assy",
          "2-Up Pouch Machine/Main Frame 3/Upper Main Frame 3/Downweb Upper Guard Assy",
          "2-Up Pouch Machine/Delivery Assy/Retracting Conveyor Assy/Driven Roller Assy",
          "2-Up Pouch Machine/ZIPPER SEAL ASSY/LOWER A-SIDE SIDE SEAL \nCASSETTE/ERGO TRACK GUIDE ASSEM",
          "2-Up Pouch Machine/ZIPPER SEAL ASSY/LOWER B-SIDE SIDE SEAL CASSETTE/ERGO TRACK GUIDE ASSEM",
          "2-Up Pouch Machine/Unwind Assy/Unwind Frame/Edge Guide Actuator Assy",
          "2-Up Pouch Machine/Unwind Assy/Unwind Frame/Edge Guide Eye Assy",
          "2-Up Pouch Machine/Unwind Assy/Door 1 A-Side/Elesa Door Handle Assembly",
          "2-Up Pouch Machine/Unwind Assy/Door 2 B-Side/Elesa Door Handle Assembly",
          "2-Up Pouch Machine/Delivery Assy/Delivery Frame Assy/End Bottom Guard Assemy",
          "2-Up Pouch Machine/Delivery Assy/Delivery Frame Assy/End Bottom Guarding ",
          "2-Up Pouch Machine/Delivery Assy/Delivery Frame Assy/End Guard Sliding Door",
          "2-Up Pouch Machine/Delivery Assy/Delivery Frame Assy/End Guarding Assem",
          "2-Up Pouch Machine/Main Frame 3/Lower Main Frame 3/End Lower Side Guard Assy",
          "2-Up Pouch Machine/Main Frame 3/Upper Main Frame 3/End Upper Guard Assy",
          "2-Up Pouch Machine/Main Frame 3/Upper Main Frame 3/End Upper Side Guard Assy",
          "2-Up Pouch Machine/Main Frame 1/Lower Main Frame 1/Extrusion Joining Assy",
          "2-Up Pouch Machine/Main Frame 2/Lower Main Frame 2/Extrusion Joining Assy",
          "2-Up Pouch Machine/Main Frame 3/Lower Main Frame 3/Extrusion Joining Assy",
          "2-Up Pouch Machine/Main Frame 3/Upper Main Frame 3/Extrusion Joining Assy",
          "2-Up Pouch Machine/Main Frame 1/Lower Main Frame 1/Frame Gusset",
          "2-Up Pouch Machine/Main Frame 2/Lower Main Frame 2/Frame Gusset",
          "2-Up Pouch Machine/Main Frame 3/Lower Main Frame 3/Frame Gusset",
          "2-Up Pouch Machine/Tube Insert Assy/Tube Hopper Assy/Frame Gusset",
          "2-Up Pouch Machine/Unwind Assy/Unwind Frame/Frame Gusset",
          "2-Up Pouch Machine/Main Frame 1/Upper Main Frame 1/Frame Gusset",
          "2-Up Pouch Machine/Main Frame 2/Upper Main Frame 2/Frame Gusset",
          "2-Up Pouch Machine/Main Frame 3/Upper Main Frame 3/Frame Gusset",
          "2-Up Pouch Machine/ZIPPER SEAL ASSY/SIDE SEAL FRAME/HANDWHEEL ASSY, SIDE SEAL",
          "2-Up Pouch Machine/ZIPPER SEAL ASSY/SIDE SEAL FRAME/HEATER PLUG ENCLOSURE, SIDE \nSEAL",
          "2-Up Pouch Machine/Main Frame 3/Upper Main Frame 3/HMI Pendant Assy",
          "2-Up Pouch Machine/Delivery Assy/Retracting Conveyor Assy/Idler Conveyor Roller Guided Assy",
          "2-Up Pouch Machine/Delivery Assy/Retracting Conveyor Assy/Idler Conveyor Roller Guided Assy Short Shaft",
          "2-Up Pouch Machine/Delivery Assy/Retracting Conveyor Assy/Idler Conveyor Roller Unguided Assy",
          "2-Up Pouch Machine/ZIPPER SEAL ASSY/LOWER A-SIDE SIDE SEAL \nCASSETTE/Igus Lead Nut Assy",
          "2-Up Pouch Machine/ZIPPER SEAL ASSY/LOWER B-SIDE SIDE SEAL CASSETTE/Igus Lead Nut Assy",
          "2-Up Pouch Machine/ZIPPER SEAL ASSY/LOWER CENTER SIDE SEAL \nCASSETTE/Igus Lead Nut Assy",
          "2-Up Pouch Machine/ZIPPER SEAL ASSY/UPPER A-SIDE SIDE SEAL \nCASSETTE/Igus Lead Nut Assy",
          "2-Up Pouch Machine/ZIPPER SEAL ASSY/UPPER B-SIDE SIDE SEAL CASSETTE/Igus Lead Nut Assy",
          "2-Up Pouch Machine/ZIPPER SEAL ASSY/UPPER CENTER SIDE SEAL \nCASSETTE/Igus Lead Nut Assy",
          "2-Up Pouch Machine/Main Frame 3/Lower Main Frame 3/Interlocked Lower Guard Assy",
          "2-Up Pouch Machine/Main Frame 3/Lower Main Frame 3/Interlocked Upper Guard Assy",
          "2-Up Pouch Machine/Unwind Assy/Unwind Frame/Key Station No Reset",
          "2-Up Pouch Machine/Main Frame 2/Upper Main Frame 2/Key Station No Reset",
          "2-Up Pouch Machine/Main Frame 3/Upper Main Frame 3/Key Station No Reset",
          "2-Up Pouch Machine/ZIPPER SEAL ASSY/LOWER CENTER SIDE SEAL \nCASSETTE/LOWER CENTER SIDE SEAL HEAD \nASSY",
          "2-Up Pouch Machine/CROSS SEAL ASSY/LOWER CROSS SEAL CASSETTE/LOWER CROSS SEAL HEAD ASSY",
          "2-Up Pouch Machine/CROSS SEAL ASSY/LOWER CROSS SEAL CASSETTE/LOWER CROSS SEAL SERVO ASSY",
          "2-Up Pouch Machine/ZIPPER SEAL ASSY/LOWER A-SIDE SIDE SEAL \nCASSETTE/LOWER SIDE SEAL HEAD ASSY",
          "2-Up Pouch Machine/ZIPPER SEAL ASSY/LOWER B-SIDE SIDE SEAL CASSETTE/LOWER SIDE SEAL HEAD ASSY",
          "2-Up Pouch Machine/ZIPPER SEAL ASSY/LOWER A-SIDE SIDE SEAL \nCASSETTE/LOWER SIDE SEAL SERVO ASSY",
          "2-Up Pouch Machine/ZIPPER SEAL ASSY/LOWER B-SIDE SIDE SEAL CASSETTE/LOWER SIDE SEAL SERVO ASSY",
          "2-Up Pouch Machine/ZIPPER SEAL ASSY/LOWER CENTER SIDE SEAL \nCASSETTE/LOWER SIDE SEAL SERVO ASSY",
          "2-Up Pouch Machine/Unwind Assy/Unwind Frame/Lower Dancer Guard",
          "2-Up Pouch Machine/Cuff Insert Assy/Cuff Bowl Frame/M12 Leveling Foot Assy",
          "2-Up Pouch Machine/Tube Insert Assy/Tube Hopper Frame/M12 Leveling Foot Assy",
          "2-Up Pouch Machine/Delivery Assy/Delivery Frame Assy/M12 Leveling Foot Assy 100mm",
          "2-Up Pouch Machine/Main Frame 1/Lower Main Frame 1/M8 Leveling Foot Assy",
          "2-Up Pouch Machine/Main Frame 2/Lower Main Frame 2/M8 Leveling Foot Assy",
          "2-Up Pouch Machine/Main Frame 3/Lower Main Frame 3/M8 Leveling Foot Assy",
          "2-Up Pouch Machine/Unwind Assy/Unwind Frame/M8 Leveling Foot Assy",
          "2-Up Pouch Machine/Main Frame 1/Lower Main Frame 1/Main Frame 1 Gear Rack Assy",
          "2-Up Pouch Machine/Main Frame 2/Lower Main Frame 2/Main Frame 2 Rack Assy",
          "2-Up Pouch Machine/Main Frame 2/Lower Main Frame 2/Main Frame 2 Rail Assy",
          "2-Up Pouch Machine/Main Frame 3/Presto Welder Assy/Main Frame 3 Adjustment Handwheel Assy",
          "2-Up Pouch Machine/Main Frame 3/Presto Welder Assy/Main Frame 3 Geared Adjustment Handwheel Assy",
          "2-Up Pouch Machine/Unwind Assy/Unwind IO Enclosure/Manifold 1 Unwind Nips",
          "2-Up Pouch Machine/Main Frame 1/Segmented Nip Assy/Manifold 3,4,5 Segmented Nips",
          "2-Up Pouch Machine/Main Frame 2/Segmented Nip Assy/Manifold 3,4,5 Segmented Nips",
          "2-Up Pouch Machine/Main Frame 3/Segmented Nip Assy/Manifold 3,4,5 Segmented Nips",
          "2-Up Pouch Machine/Cuff Insert Assy/Cuff IO Enclosure/Manifold 6,7 Cuff",
          "2-Up Pouch Machine/Tube Insert Assy/Tube IO Enclosure/Manifold 8,9 Tube ",
          "2-Up Pouch Machine/ZIPPER SEAL ASSY/LOWER A-SIDE SIDE SEAL \nCASSETTE/Modified Igus Slider",
          "2-Up Pouch Machine/ZIPPER SEAL ASSY/LOWER B-SIDE SIDE SEAL CASSETTE/Modified Igus Slider",
          "2-Up Pouch Machine/ZIPPER SEAL ASSY/LOWER CENTER SIDE SEAL \nCASSETTE/Modified Igus Slider",
          "2-Up Pouch Machine/ZIPPER SEAL ASSY/UPPER A-SIDE SIDE SEAL \nCASSETTE/Modified Igus Slider",
          "2-Up Pouch Machine/ZIPPER SEAL ASSY/UPPER B-SIDE SIDE SEAL CASSETTE/Modified Igus Slider",
          "2-Up Pouch Machine/ZIPPER SEAL ASSY/UPPER CENTER SIDE SEAL \nCASSETTE/Modified Igus Slider",
          "2-Up Pouch Machine/Main Frame 1/Segmented Nip Assy/Nip Mech Regulator Assy",
          "2-Up Pouch Machine/Main Frame 2/Segmented Nip Assy/Nip Mech Regulator Assy",
          "2-Up Pouch Machine/Main Frame 3/Segmented Nip Assy/Nip Mech Regulator Assy",
          "2-Up Pouch Machine/Unwind Assy/Solid Nip Assy/Nip Mech Regulator Assy",
          "2-Up Pouch Machine/Main Frame 1/Segmented Nip Assy/Nip Speed Controller Assy",
          "2-Up Pouch Machine/Main Frame 2/Segmented Nip Assy/Nip Speed Controller Assy",
          "2-Up Pouch Machine/Main Frame 3/Segmented Nip Assy/Nip Speed Controller Assy",
          "2-Up Pouch Machine/Unwind Assy/Solid Nip Assy/Nip Speed Controller Assy",
          "2-Up Pouch Machine/Main Frame 1/Segmented Nip Assy/PMA Clamp Size 17 Assy",
          "2-Up Pouch Machine/Main Frame 2/Segmented Nip Assy/PMA Clamp Size 17 Assy",
          "2-Up Pouch Machine/Main Frame 3/Segmented Nip Assy/PMA Clamp Size 17 Assy",
          "2-Up Pouch Machine/Unwind Assy/Solid Nip Assy/PMA Clamp Size 17 Assy",
          "2-Up Pouch Machine/Tube Insert Assy/Tube Hopper Assy/PMA Clamp Size 17 Assy",
          "2-Up Pouch Machine/Tube Insert Assy/Tube Singulator Assy/PMA Clamp Size 17 Assy",
          "2-Up Pouch Machine/Delivery Assy/Delivery Frame Assy/Padle Conveyor Guarding",
          "2-Up Pouch Machine/Tube Insert Assy/Pocket Conveyor Assy A Side/Pocket Position Sensor Assy",
          "2-Up Pouch Machine/Tube Insert Assy/Pocket Conveyor Assy B Side/Pocket Position Sensor Assy",
          "2-Up Pouch Machine/Main Frame 3/Printer Assy/Printer Head Assy",
          "2-Up Pouch Machine/Delivery Assy/Retracting Conveyor Assy/Retracting Belt Tensioner",
          "2-Up Pouch Machine/Delivery Assy/Delivery Frame Assy/Retracting Conveyor Door",
          "2-Up Pouch Machine/Delivery Assy/Retracting Conveyor Assy/Retracting Motor Assem",
          "2-Up Pouch Machine/Delivery Assy/Retracting Conveyor Assy/Retraction Action Driven Axle Assembly",
          "2-Up Pouch Machine/ZIPPER SEAL ASSY/LOWER A-SIDE SIDE SEAL \nCASSETTE/SEAL BAR ROD END ASSY",
          "2-Up Pouch Machine/ZIPPER SEAL ASSY/LOWER B-SIDE SIDE SEAL CASSETTE/SEAL BAR ROD END ASSY",
          "2-Up Pouch Machine/ZIPPER SEAL ASSY/LOWER CENTER SIDE SEAL \nCASSETTE/SEAL BAR ROD END ASSY",
          "2-Up Pouch Machine/CROSS SEAL ASSY/LOWER CROSS SEAL CASSETTE/SEAL BAR ROD END ASSY",
          "2-Up Pouch Machine/ZIPPER SEAL ASSY/UPPER A-SIDE SIDE SEAL \nCASSETTE/SEAL BAR ROD END ASSY",
          "2-Up Pouch Machine/ZIPPER SEAL ASSY/UPPER B-SIDE SIDE SEAL CASSETTE/SEAL BAR ROD END ASSY",
          "2-Up Pouch Machine/ZIPPER SEAL ASSY/UPPER CENTER SIDE SEAL \nCASSETTE/SEAL BAR ROD END ASSY",
          "2-Up Pouch Machine/CROSS SEAL ASSY/UPPER CROSS SEAL CASSETTE/SEAL BAR ROD END ASSY",
          "2-Up Pouch Machine/ZIPPER SEAL ASSY/SIDE SEAL FRAME/SIDE SEAL CASSETTE RAIL ASSY",
          "2-Up Pouch Machine/ZIPPER SEAL ASSY/LOWER A-SIDE SIDE SEAL \nCASSETTE/SIDE SEAL FRAME ASSY",
          "2-Up Pouch Machine/ZIPPER SEAL ASSY/LOWER B-SIDE SIDE SEAL CASSETTE/SIDE SEAL FRAME ASSY",
          "2-Up Pouch Machine/ZIPPER SEAL ASSY/LOWER CENTER SIDE SEAL \nCASSETTE/SIDE SEAL FRAME ASSY",
          "2-Up Pouch Machine/ZIPPER SEAL ASSY/UPPER A-SIDE SIDE SEAL \nCASSETTE/SIDE SEAL FRAME ASSY",
          "2-Up Pouch Machine/ZIPPER SEAL ASSY/UPPER B-SIDE SIDE SEAL CASSETTE/SIDE SEAL FRAME ASSY",
          "2-Up Pouch Machine/ZIPPER SEAL ASSY/UPPER CENTER SIDE SEAL \nCASSETTE/SIDE SEAL FRAME ASSY",
          "2-Up Pouch Machine/ZIPPER SEAL ASSY/LOWER A-SIDE SIDE SEAL \nCASSETTE/SIDE SEAL RUNNER BLOCK ASSY",
          "2-Up Pouch Machine/ZIPPER SEAL ASSY/LOWER B-SIDE SIDE SEAL CASSETTE/SIDE SEAL RUNNER BLOCK ASSY",
          "2-Up Pouch Machine/ZIPPER SEAL ASSY/LOWER CENTER SIDE SEAL \nCASSETTE/SIDE SEAL RUNNER BLOCK ASSY",
          "2-Up Pouch Machine/ZIPPER SEAL ASSY/UPPER A-SIDE SIDE SEAL \nCASSETTE/SIDE SEAL RUNNER BLOCK ASSY",
          "2-Up Pouch Machine/ZIPPER SEAL ASSY/UPPER B-SIDE SIDE SEAL CASSETTE/SIDE SEAL RUNNER BLOCK ASSY",
          "2-Up Pouch Machine/ZIPPER SEAL ASSY/UPPER CENTER SIDE SEAL \nCASSETTE/SIDE SEAL RUNNER BLOCK ASSY",
          "2-Up Pouch Machine/ZIPPER SEAL ASSY/LOWER A-SIDE SIDE SEAL \nCASSETTE/SIDE SEAL RUNNER BLOCK BRAKE ASSY",
          "2-Up Pouch Machine/ZIPPER SEAL ASSY/LOWER B-SIDE SIDE SEAL CASSETTE/SIDE SEAL RUNNER BLOCK BRAKE ASSY",
          "2-Up Pouch Machine/ZIPPER SEAL ASSY/LOWER CENTER SIDE SEAL \nCASSETTE/SIDE SEAL RUNNER BLOCK BRAKE ASSY",
          "2-Up Pouch Machine/ZIPPER SEAL ASSY/UPPER A-SIDE SIDE SEAL \nCASSETTE/SIDE SEAL RUNNER BLOCK BRAKE ASSY",
          "2-Up Pouch Machine/ZIPPER SEAL ASSY/UPPER B-SIDE SIDE SEAL CASSETTE/SIDE SEAL RUNNER BLOCK BRAKE ASSY",
          "2-Up Pouch Machine/ZIPPER SEAL ASSY/UPPER CENTER SIDE SEAL \nCASSETTE/SIDE SEAL RUNNER BLOCK BRAKE ASSY",
          "2-Up Pouch Machine/ZIPPER SEAL ASSY/LOWER A-SIDE SIDE SEAL \nCASSETTE/SIDE SEAL TEFLON ROLL ASSY",
          "2-Up Pouch Machine/ZIPPER SEAL ASSY/LOWER B-SIDE SIDE SEAL CASSETTE/SIDE SEAL TEFLON ROLL ASSY",
          "2-Up Pouch Machine/ZIPPER SEAL ASSY/UPPER A-SIDE SIDE SEAL \nCASSETTE/SIDE SEAL TEFLON ROLL ASSY",
          "2-Up Pouch Machine/ZIPPER SEAL ASSY/UPPER B-SIDE SIDE SEAL CASSETTE/SIDE SEAL TEFLON ROLL ASSY",
          "2-Up Pouch Machine/Main Frame 1/Segmented Nip Assy/Seg Nips Tube Guide Assy",
          "2-Up Pouch Machine/Main Frame 2/Segmented Nip Assy/Seg Nips Tube Guide Assy",
          "2-Up Pouch Machine/Main Frame 3/Segmented Nip Assy/Seg Nips Tube Guide Assy",
          "2-Up Pouch Machine/Main Frame 1/Segmented Nip Assy/Segmented Idler Nip Assy",
          "2-Up Pouch Machine/Main Frame 2/Segmented Nip Assy/Segmented Idler Nip Assy",
          "2-Up Pouch Machine/Main Frame 3/Segmented Nip Assy/Segmented Idler Nip Assy",
          "2-Up Pouch Machine/Main Frame 1/Segmented Nip Assy/Servo Assembly",
          "2-Up Pouch Machine/Main Frame 2/Segmented Nip Assy/Servo Assembly",
          "2-Up Pouch Machine/Main Frame 3/Segmented Nip Assy/Servo Assembly",
          "2-Up Pouch Machine/Unwind Assy/Solid Nip Assy/Servo Assembly",
          "2-Up Pouch Machine/Main Frame 1/Lower Main Frame 1/Single Web Roller Assy",
          "2-Up Pouch Machine/Main Frame 2/Lower Main Frame 2/Single Web Roller Assy",
          "2-Up Pouch Machine/Unwind Assy/Unwind Frame/Single Web Roller Assy",
          "2-Up Pouch Machine/Main Frame 3/Lower Main Frame 3/Slider Bowl Gear Rack Assy",
          "2-Up Pouch Machine/Main Frame 3/Lower Main Frame 3/Slider Bowl Rail Assy",
          "2-Up Pouch Machine/Main Frame 3/Presto Slider Insertion Assy/Slider Insertion Geared Handwheel Assy",
          "2-Up Pouch Machine/Main Frame 1/Segmented Nip Assy/Solid Driven Nip Assy",
          "2-Up Pouch Machine/Main Frame 2/Segmented Nip Assy/Solid Driven Nip Assy",
          "2-Up Pouch Machine/Main Frame 3/Segmented Nip Assy/Solid Driven Nip Assy",
          "2-Up Pouch Machine/Unwind Assy/Solid Nip Assy/Solid Driven Nip Assy",
          "2-Up Pouch Machine/Unwind Assy/Solid Nip Assy/Solid Idler Nip Assy",
          "2-Up Pouch Machine/Unwind Assy/Unwind Frame/Static Dancer Roller Assy",
          "2-Up Pouch Machine/Delivery Assy/Delivery Frame Assy/Static Mitigation Assy",
          "2-Up Pouch Machine/Cuff Insert Assy/Cuff Insert Frame/TOE ROLLER ASSEMBLY",
          "2-Up Pouch Machine/Main Frame 3/Presto Welder Assy/TOE ROLLER ASSEMBLY",
          "2-Up Pouch Machine/Tube Insert Assy/Tube Inserter Frame Assy/TOE ROLLER ASSEMBLY",
          "2-Up Pouch Machine/Unwind Assy/Unwind Frame/Thin Wall Top Guard 1",
          "2-Up Pouch Machine/Main Frame 2/Upper Main Frame 2/Tube Opening Guard L A Side",
          "2-Up Pouch Machine/Main Frame 2/Upper Main Frame 2/Tube Opening Guard L B Side",
          "2-Up Pouch Machine/Main Frame 2/Upper Main Frame 2/Tube Opening Guard R A Side",
          "2-Up Pouch Machine/Main Frame 2/Upper Main Frame 2/Tube Opening Guard R B Side",
          "2-Up Pouch Machine/Tube Insert Assy/Tube Insert Assy A Side/Tube PNP Assy A Side",
          "2-Up Pouch Machine/Tube Insert Assy/Tube Insert Assy B Side/Tube PNP Assy B Side",
          "2-Up Pouch Machine/Tube Insert Assy/Pocket Conveyor Assy A Side/Tube Pocket Assy",
          "2-Up Pouch Machine/Tube Insert Assy/Pocket Conveyor Assy B Side/Tube Pocket Assy",
          "2-Up Pouch Machine/Tube Insert Assy/Tube Insert Assy A Side/Tube Pusher Assy A Side",
          "2-Up Pouch Machine/Tube Insert Assy/Tube Insert Assy B Side/Tube Pusher Assy B Side",
          "2-Up Pouch Machine/Tube Insert Assy/Tube Insert Assy A Side/Tube Rotate Assy A Side",
          "2-Up Pouch Machine/Tube Insert Assy/Tube Insert Assy B Side/Tube Rotate Assy B Side",
          "2-Up Pouch Machine/Tube Insert Assy/Tube Singulator Assy/Tube Singulated Sensor Assy",
          "2-Up Pouch Machine/Main Frame 1/Upper Main Frame 1/Twin Wall Top Guard 2",
          "2-Up Pouch Machine/Main Frame 1/Upper Main Frame 1/Twin Wall Top Guard 3",
          "2-Up Pouch Machine/Main Frame 2/Upper Main Frame 2/Twin Wall Top Guard 4",
          "2-Up Pouch Machine/Main Frame 2/Upper Main Frame 2/Twin Wall Top Guard 5",
          "2-Up Pouch Machine/Main Frame 3/Upper Main Frame 3/Twin Wall Top Guard 6",
          "2-Up Pouch Machine/Main Frame 3/Upper Main Frame 3/Twin Wall Top Guard 7",
          "2-Up Pouch Machine/Main Frame 3/Upper Main Frame 3/Twin Wall Top Guard 8",
          "2-Up Pouch Machine/Delivery Assy/Delivery Frame Assy/Twin Wall Top Guard 9",
          "2-Up Pouch Machine/ZIPPER SEAL ASSY/UPPER CENTER SIDE SEAL \nCASSETTE/UPPER CENTER SIDE SEAL HEAD \nASSY",
          "2-Up Pouch Machine/CROSS SEAL ASSY/UPPER CROSS SEAL CASSETTE/UPPER CROSS SEAL HEAD ASSY",
          "2-Up Pouch Machine/CROSS SEAL ASSY/UPPER CROSS SEAL CASSETTE/UPPER CROSS SEAL SERVO ASSY",
          "2-Up Pouch Machine/ZIPPER SEAL ASSY/UPPER A-SIDE SIDE SEAL \nCASSETTE/UPPER SIDE SEAL HEAD ASSY",
          "2-Up Pouch Machine/ZIPPER SEAL ASSY/UPPER B-SIDE SIDE SEAL CASSETTE/UPPER SIDE SEAL HEAD ASSY",
          "2-Up Pouch Machine/ZIPPER SEAL ASSY/UPPER A-SIDE SIDE SEAL \nCASSETTE/UPPER SIDE SEAL SERVO ASSY",
          "2-Up Pouch Machine/ZIPPER SEAL ASSY/UPPER B-SIDE SIDE SEAL CASSETTE/UPPER SIDE SEAL SERVO ASSY",
          "2-Up Pouch Machine/ZIPPER SEAL ASSY/UPPER CENTER SIDE SEAL \nCASSETTE/UPPER SIDE SEAL SERVO ASSY",
          "2-Up Pouch Machine/Unwind Assy/Unwind Frame/UW Static Mitigation Assy",
          "2-Up Pouch Machine/Unwind Assy/Unwind Roll Assembly/Unwind Laser Assy",
          "2-Up Pouch Machine/Unwind Assy/Unwind Roll Assembly/Unwind Long Roller Assy",
          "2-Up Pouch Machine/Unwind Assy/Unwind Frame/Unwind Rail Assy",
          "2-Up Pouch Machine/Unwind Assy/Unwind Roll Assembly/Unwind Short Roller Assy",
          "2-Up Pouch Machine/Unwind Assy/Unwind Frame/Upper Dancer Guard",
          "2-Up Pouch Machine/Main Frame 3/Lower Main Frame 3/Upweb Lower Guard Assy",
          "2-Up Pouch Machine/Main Frame 3/Lower Main Frame 3/Upweb Upper Guard Assy",
          "2-Up Pouch Machine/Unwind Assy/Unwind Clear Guarding/Variofix and Washer Assy",
          "2-Up Pouch Machine/ZIPPER SEAL ASSY/SIDE SEAL FRAME/WEB SUPPORT ASSY",
          "2-Up Pouch Machine/Main Frame 3/Lower Main Frame 3/Welders Gear Rack Assy",
          "2-Up Pouch Machine/Main Frame 3/Lower Main Frame 3/Welders Rail Assy",
          "2-Up Pouch Machine/Main Frame 1/Segmented Nip Assy/Zipper Encoder Assy",
          "2-Up Pouch Machine/Main Frame 2/Segmented Nip Assy/Zipper Encoder Assy",
          "2-Up Pouch Machine/Main Frame 3/Segmented Nip Assy/Zipper Encoder Assy",
          "2-Up Pouch Machine/FLYING KNIFE ASSY/ACTUATOR ASSY",
          "2-Up Pouch Machine/Air Prep Assy/Air Prep Station",
          "2-Up Pouch Machine/Air Prep Assy/Air Supply Pipe Mount Assy",
          "2-Up Pouch Machine/Air Prep Assy/Air Supply Pipe Tie Off",
          "2-Up Pouch Machine/Main Frame 3/CENTER KNIFE ASSY",
          "2-Up Pouch Machine/CROSS SEAL ASSY/CROSS SEAL FRAME",
          "2-Up Pouch Machine/CROSS SEAL ASSY/CROSS SEAL IO ENCLOSURE",
          "2-Up Pouch Machine/Cuff Insert Assy/Cuff Bowl Feeder Assy",
          "2-Up Pouch Machine/Cuff Insert Assy/Cuff Bowl Frame",
          "2-Up Pouch Machine/Cuff Insert Assy/Cuff Conveyors Assy",
          "2-Up Pouch Machine/Cuff Insert Assy/Cuff Drive Enclosure",
          "2-Up Pouch Machine/Cuff Insert Assy/Cuff IO Enclosure",
          "2-Up Pouch Machine/Cuff Insert Assy/Cuff IO Secondary Enclosure",
          "2-Up Pouch Machine/Cuff Insert Assy/Cuff Insert Frame",
          "2-Up Pouch Machine/Cuff Insert Assy/Cuff Lift Assy A Side",
          "2-Up Pouch Machine/Cuff Insert Assy/Cuff Seal Assy",
          "2-Up Pouch Machine/Tube Insert Assy/Cuff Support Assy A Side",
          "2-Up Pouch Machine/Tube Insert Assy/Cuff Support Assy B Side",
          "2-Up Pouch Machine/Cuff Insert Assy/Cuft Lift Assy B Side",
          "2-Up Pouch Machine/FLYING KNIFE ASSY/DIENES KNIFE ASSY",
          "2-Up Pouch Machine/Delivery Assy/Delivery Frame Assy",
          "2-Up Pouch Machine/Unwind Assy/Door 1 A-Side",
          "2-Up Pouch Machine/Unwind Assy/Door 2 B-Side",
          "2-Up Pouch Machine/Delivery Assy/Extrusion Joining Assy",
          "2-Up Pouch Machine/ZIPPER SEAL ASSY/Frame Gusset",
          "2-Up Pouch Machine/Unwind Assy/HMI Pendant Assy",
          "2-Up Pouch Machine/Delivery Assy/Indexing Conveyor Assemb",
          "2-Up Pouch Machine/FLYING KNIFE ASSY/KNIFE FRAME ASSY",
          "2-Up Pouch Machine/FLYING KNIFE ASSY/KNIFE WEB CLAMP ASSY",
          "2-Up Pouch Machine/Main Frame 3/Knife Manifold",
          "2-Up Pouch Machine/ZIPPER SEAL ASSY/LOWER A-SIDE SIDE SEAL \nCASSETTE",
          "2-Up Pouch Machine/ZIPPER SEAL ASSY/LOWER B-SIDE SIDE SEAL CASSETTE",
          "2-Up Pouch Machine/ZIPPER SEAL ASSY/LOWER CENTER SIDE SEAL \nCASSETTE",
          "2-Up Pouch Machine/CROSS SEAL ASSY/LOWER CROSS SEAL CASSETTE",
          "2-Up Pouch Machine/Main Frame 1/Lower Main Frame 1",
          "2-Up Pouch Machine/Main Frame 2/Lower Main Frame 2",
          "2-Up Pouch Machine/Main Frame 3/Lower Main Frame 3",
          "2-Up Pouch Machine/Plinth and Wireway Assy/Main Enclosure",
          "2-Up Pouch Machine/Main Frame 3/Main HMI Enclosure",
          "2-Up Pouch Machine/Tube Insert Assy/Pocket Conveyor Assy A Side",
          "2-Up Pouch Machine/Tube Insert Assy/Pocket Conveyor Assy B Side",
          "2-Up Pouch Machine/Main Frame 3/Presto Slider Insertion Assy",
          "2-Up Pouch Machine/Main Frame 2/Presto Track Turners Assy",
          "2-Up Pouch Machine/Main Frame 3/Presto Welder Assy",
          "2-Up Pouch Machine/Main Frame 3/Printer Assy",
          "2-Up Pouch Machine/Delivery Assy/Retracting Conveyor Assy",
          "2-Up Pouch Machine/ZIPPER SEAL ASSY/SIDE SEAL FRAME",
          "2-Up Pouch Machine/Main Frame 1/Segmented Nip Assy",
          "2-Up Pouch Machine/Main Frame 2/Segmented Nip Assy",
          "2-Up Pouch Machine/Main Frame 3/Segmented Nip Assy",
          "2-Up Pouch Machine/Unwind Assy/Solid Nip Assy",
          "2-Up Pouch Machine/CROSS SEAL ASSY/TOE ROLLER ASSEMBLY",
          "2-Up Pouch Machine/Tube Insert Assy/Tube Hopper Assy",
          "2-Up Pouch Machine/Tube Insert Assy/Tube Hopper Enclosure A Side",
          "2-Up Pouch Machine/Tube Insert Assy/Tube Hopper Enclosure B Side",
          "2-Up Pouch Machine/Tube Insert Assy/Tube Hopper Frame",
          "2-Up Pouch Machine/Tube Insert Assy/Tube IO Enclosure",
          "2-Up Pouch Machine/Tube Insert Assy/Tube Insert Assy A Side",
          "2-Up Pouch Machine/Tube Insert Assy/Tube Insert Assy B Side",
          "2-Up Pouch Machine/Tube Insert Assy/Tube Inserter Frame Assy",
          "2-Up Pouch Machine/Tube Insert Assy/Tube Singulator Assy",
          "2-Up Pouch Machine/ZIPPER SEAL ASSY/UPPER A-SIDE SIDE SEAL \nCASSETTE",
          "2-Up Pouch Machine/ZIPPER SEAL ASSY/UPPER B-SIDE SIDE SEAL CASSETTE",
          "2-Up Pouch Machine/ZIPPER SEAL ASSY/UPPER CENTER SIDE SEAL \nCASSETTE",
          "2-Up Pouch Machine/CROSS SEAL ASSY/UPPER CROSS SEAL CASSETTE",
          "2-Up Pouch Machine/Unwind Assy/Unwind Clear Guarding",
          "2-Up Pouch Machine/Unwind Assy/Unwind Frame",
          "2-Up Pouch Machine/Unwind Assy/Unwind HMI Enclosure",
          "2-Up Pouch Machine/Unwind Assy/Unwind IO Enclosure",
          "2-Up Pouch Machine/Unwind Assy/Unwind Roll Assembly",
          "2-Up Pouch Machine/Main Frame 1/Upper Main Frame 1",
          "2-Up Pouch Machine/Main Frame 2/Upper Main Frame 2",
          "2-Up Pouch Machine/Main Frame 3/Upper Main Frame 3",
          "2-Up Pouch Machine/FLYING KNIFE ASSY/WEB ROLLER ASSEMBLY",
          "2-Up Pouch Machine/ZIPPER SEAL ASSY/ZIPPER SEAL IO ENCLOSURE",
          "2-Up Pouch Machine/Air Prep Assy",
          "2-Up Pouch Machine/CROSS SEAL ASSY",
          "2-Up Pouch Machine/Cuff Insert Assy",
          "2-Up Pouch Machine/Delivery Assy",
          "2-Up Pouch Machine/FLYING KNIFE ASSY",
          "2-Up Pouch Machine/Main Frame 1",
          "2-Up Pouch Machine/Main Frame 2",
          "2-Up Pouch Machine/Main Frame 3",
          "2-Up Pouch Machine/Plinth and Wireway Assy",
          "2-Up Pouch Machine/Tube Insert Assy",
          "2-Up Pouch Machine/Unwind Assy",
          "2-Up Pouch Machine/ZIPPER SEAL ASSY",
          "2-Up Pouch Machine"
         ],
         "labels": [
          "11-Inch Pusher Stop Assy",
          "11-Inch Pusher Stop Assy",
          "6-Inch Pusher Stop Assy",
          "6-Inch Pusher Stop Assy",
          "Air Cylinder Mount Assy A Side",
          "Air Cylinder Mount Assy B Side",
          "Csink Variofix Assy",
          "Csink Variofix Assy",
          "Csink Variofix Assy",
          "Csink Variofix Assy",
          "Cuff Gripper Assy",
          "Cuff Gripper Assy",
          "Cuff Present Sensor Assy",
          "Cuff Present Sensor Assy",
          "Door Mag Lock Assembly",
          "Door Mag Lock Assembly",
          "Door Mag Lock Assembly",
          "Door Mag Lock Assembly",
          "Door Mag Lock Assembly",
          "Door Mag Lock Assembly",
          "Door Mag Lock Assembly",
          "Door Mag Lock Assembly",
          "Door Mag Lock Assembly",
          "Door Mag Lock Assembly",
          "Door Mag Lock Assembly",
          "Door Mag Lock Assembly",
          "Door Mag Lock Assembly",
          "Door Support Assem",
          "Door Support Assem",
          "Door Support Assem",
          "Door Support Assem",
          "Door Support Assem",
          "Door Support Assem",
          "Door Support Assem",
          "Door Support Assem",
          "Door Support Assem",
          "Door Support Assem",
          "Door Support Assem",
          "Door Support Assem",
          "Door Support Assem",
          "Door Support Assem",
          "Door Support Assem",
          "Elesa Door Handle Assembly",
          "Elesa Door Handle Assembly",
          "Elesa Door Handle Assembly",
          "Elesa Door Handle Assembly",
          "Elesa Door Handle Assembly",
          "Elesa Door Handle Assembly",
          "Elesa Door Handle Assembly",
          "Elesa Door Handle Assembly",
          "Elesa Door Handle Assembly",
          "Elesa Door Handle Assembly",
          "Elesa Door Handle Assembly",
          "Elesa Door Handle Assembly",
          "Elesa Door Handle Assembly",
          "Elesa Door Handle Assembly",
          "Elesa Door Handle Assembly",
          "Guard Pivot Assy",
          "Guard Pivot Assy",
          "Guard Pivot Assy",
          "Guard Pivot Assy",
          "Guard Pivot Assy",
          "Guard Pivot Assy",
          "Guard Pivot Assy",
          "Guard Pivot Assy",
          "Guard Pivot Assy",
          "Guard Slotted Adjustment Spacer Assy",
          "Guard Slotted Adjustment Spacer Assy",
          "Guard Slotted Adjustment Spacer Assy",
          "Guard Slotted Adjustment Spacer Assy",
          "M5 Hardware for Poly",
          "M5 Hardware for Poly",
          "M5 Hardware for Poly",
          "M5 Hardware for Poly",
          "M5 Hardware for Poly",
          "M5 Hardware for Poly",
          "M5 Hardware for Poly",
          "M5 Hardware for Poly",
          "M5 Hardware for Poly",
          "M5 Hardware for Poly",
          "M5 Hardware for Poly",
          "M5 Hardware for Poly",
          "M5 Hardware for Poly",
          "M5 Hardware for Poly",
          "M5 Hardware for Poly",
          "M5 Hardware for Poly",
          "M5 Hardware for Poly",
          "M5 Hardware for Poly",
          "M5 Hardware for Poly",
          "M5 Hardware for Poly",
          "M5 Hardware for Poly",
          "M5 Hardware for Poly",
          "M5 Hardware for Poly",
          "M5 Hardware for Poly",
          "M5 Hardware for Poly",
          "M5 Hardware for Poly",
          "M5 Hardware for Poly",
          "M5 Hardware for Poly",
          "M5 Hardware for Poly",
          "M5 Hardware for Poly",
          "M5 Hardware for Poly",
          "M5 Hardware for Poly",
          "M5 Hardware for Poly",
          "M5 Hardware for Poly",
          "M5 Hardware for Poly",
          "Pick Cylinder Stop Assy A Side",
          "Pick Cylinder Stop Assy B Side",
          "Speed Control Tube PNP Assy A Side",
          "Speed Control Tube PNP Assy B Side",
          "Tube Gripper Assy A Side",
          "Tube Gripper Assy B Side",
          "Tube Present Sensor Assy",
          "Tube Present Sensor Assy",
          "Variofix and Washer Assy",
          "Variofix and Washer Assy",
          "Variofix and Washer Assy",
          "Variofix and Washer Assy",
          "Variofix and Washer Assy",
          "Variofix and Washer Assy",
          "6-Inch Insert Assy",
          "Actuated Dancer Roller Assy",
          "BELT TENSIONER ASSEM",
          "Bag Edge Sensor Assem",
          "Belt Tensioner 1 Assy",
          "Belt Tensioner 1 Assy",
          "Belt Tensioner 2 Assy",
          "Bottom Guarding 1",
          "Bottom Guarding 1",
          "Bottom Guarding 11 and 12",
          "Bottom Guarding 13 and 14",
          "Bottom Guarding 15 and 16",
          "Bottom Guarding 17 and 18",
          "Bottom Guarding 19 and 20",
          "Bottom Guarding 2",
          "Bottom Guarding 2",
          "Bottom Guarding 21 and 22",
          "Bottom Guarding 23 and 24",
          "Bottom Guarding 25 and 26",
          "Bottom Guarding 27 and 28",
          "Bottom Guarding 3 and 4",
          "Bottom Guarding 5 and 6",
          "Bottom Guarding 7 and 8",
          "Bottom Guarding 9 and  10",
          "Bottom Guarding Motor Cut Out",
          "CENTER SIDE SEAL TEFLON ROLL ASSY",
          "CENTER SIDE SEAL TEFLON ROLL ASSY",
          "CONVEYOR L BRACKET ASSY",
          "CROSS SEAL 1-PLUG BOX",
          "CROSS SEAL 1-PLUG BOX",
          "CROSS SEAL CASSETTE FRAME",
          "CROSS SEAL CASSETTE FRAME",
          "CROSS SEAL TEFLON ROLL ASSY",
          "CROSS SEAL TEFLON ROLL ASSY",
          "Cam Bar Main Frame 1 Assy",
          "Center Dancer Guard",
          "Conveyor Drive Motor Assem",
          "Cross Seal Cam Bar Assy",
          "Cross Seal Gear Rack  Assy",
          "Cuff Esc Sensor Assy",
          "Cuff Esc Sensor Assy",
          "Cuff Escpmnt A Side Assy",
          "Cuff Escpmnt B Side Assy",
          "Cuff Guide A Side Assy",
          "Cuff Guide B Side Assy",
          "Cuff Nail Assy",
          "Cuff Nail Assy",
          "Cuff Opening Guard L Assy",
          "Cuff Opening Guard R Assy",
          "Cuff Shuttle A Side Assy",
          "Cuff Shuttle B Side Assy",
          "Dancer Bumper Assem",
          "Dancer Fittings Assy",
          "Door 10",
          "Door 11",
          "Door 12",
          "Door 13",
          "Door 14",
          "Door 15",
          "Door 16",
          "Door 3",
          "Door 4",
          "Door 5",
          "Door 6",
          "Door 7",
          "Door 8",
          "Door 9",
          "Door Mag Lock Assembly",
          "Door Mag Lock Assembly",
          "Downweb Lower Guard Assy",
          "Downweb Upper Guard Assy",
          "Driven Roller Assy",
          "ERGO TRACK GUIDE ASSEM",
          "ERGO TRACK GUIDE ASSEM",
          "Edge Guide Actuator Assy",
          "Edge Guide Eye Assy",
          "Elesa Door Handle Assembly",
          "Elesa Door Handle Assembly",
          "End Bottom Guard Assemy",
          "End Bottom Guarding ",
          "End Guard Sliding Door",
          "End Guarding Assem",
          "End Lower Side Guard Assy",
          "End Upper Guard Assy",
          "End Upper Side Guard Assy",
          "Extrusion Joining Assy",
          "Extrusion Joining Assy",
          "Extrusion Joining Assy",
          "Extrusion Joining Assy",
          "Frame Gusset",
          "Frame Gusset",
          "Frame Gusset",
          "Frame Gusset",
          "Frame Gusset",
          "Frame Gusset",
          "Frame Gusset",
          "Frame Gusset",
          "HANDWHEEL ASSY, SIDE SEAL",
          "HEATER PLUG ENCLOSURE, SIDE \nSEAL",
          "HMI Pendant Assy",
          "Idler Conveyor Roller Guided Assy",
          "Idler Conveyor Roller Guided Assy Short Shaft",
          "Idler Conveyor Roller Unguided Assy",
          "Igus Lead Nut Assy",
          "Igus Lead Nut Assy",
          "Igus Lead Nut Assy",
          "Igus Lead Nut Assy",
          "Igus Lead Nut Assy",
          "Igus Lead Nut Assy",
          "Interlocked Lower Guard Assy",
          "Interlocked Upper Guard Assy",
          "Key Station No Reset",
          "Key Station No Reset",
          "Key Station No Reset",
          "LOWER CENTER SIDE SEAL HEAD \nASSY",
          "LOWER CROSS SEAL HEAD ASSY",
          "LOWER CROSS SEAL SERVO ASSY",
          "LOWER SIDE SEAL HEAD ASSY",
          "LOWER SIDE SEAL HEAD ASSY",
          "LOWER SIDE SEAL SERVO ASSY",
          "LOWER SIDE SEAL SERVO ASSY",
          "LOWER SIDE SEAL SERVO ASSY",
          "Lower Dancer Guard",
          "M12 Leveling Foot Assy",
          "M12 Leveling Foot Assy",
          "M12 Leveling Foot Assy 100mm",
          "M8 Leveling Foot Assy",
          "M8 Leveling Foot Assy",
          "M8 Leveling Foot Assy",
          "M8 Leveling Foot Assy",
          "Main Frame 1 Gear Rack Assy",
          "Main Frame 2 Rack Assy",
          "Main Frame 2 Rail Assy",
          "Main Frame 3 Adjustment Handwheel Assy",
          "Main Frame 3 Geared Adjustment Handwheel Assy",
          "Manifold 1 Unwind Nips",
          "Manifold 3,4,5 Segmented Nips",
          "Manifold 3,4,5 Segmented Nips",
          "Manifold 3,4,5 Segmented Nips",
          "Manifold 6,7 Cuff",
          "Manifold 8,9 Tube ",
          "Modified Igus Slider",
          "Modified Igus Slider",
          "Modified Igus Slider",
          "Modified Igus Slider",
          "Modified Igus Slider",
          "Modified Igus Slider",
          "Nip Mech Regulator Assy",
          "Nip Mech Regulator Assy",
          "Nip Mech Regulator Assy",
          "Nip Mech Regulator Assy",
          "Nip Speed Controller Assy",
          "Nip Speed Controller Assy",
          "Nip Speed Controller Assy",
          "Nip Speed Controller Assy",
          "PMA Clamp Size 17 Assy",
          "PMA Clamp Size 17 Assy",
          "PMA Clamp Size 17 Assy",
          "PMA Clamp Size 17 Assy",
          "PMA Clamp Size 17 Assy",
          "PMA Clamp Size 17 Assy",
          "Padle Conveyor Guarding",
          "Pocket Position Sensor Assy",
          "Pocket Position Sensor Assy",
          "Printer Head Assy",
          "Retracting Belt Tensioner",
          "Retracting Conveyor Door",
          "Retracting Motor Assem",
          "Retraction Action Driven Axle Assembly",
          "SEAL BAR ROD END ASSY",
          "SEAL BAR ROD END ASSY",
          "SEAL BAR ROD END ASSY",
          "SEAL BAR ROD END ASSY",
          "SEAL BAR ROD END ASSY",
          "SEAL BAR ROD END ASSY",
          "SEAL BAR ROD END ASSY",
          "SEAL BAR ROD END ASSY",
          "SIDE SEAL CASSETTE RAIL ASSY",
          "SIDE SEAL FRAME ASSY",
          "SIDE SEAL FRAME ASSY",
          "SIDE SEAL FRAME ASSY",
          "SIDE SEAL FRAME ASSY",
          "SIDE SEAL FRAME ASSY",
          "SIDE SEAL FRAME ASSY",
          "SIDE SEAL RUNNER BLOCK ASSY",
          "SIDE SEAL RUNNER BLOCK ASSY",
          "SIDE SEAL RUNNER BLOCK ASSY",
          "SIDE SEAL RUNNER BLOCK ASSY",
          "SIDE SEAL RUNNER BLOCK ASSY",
          "SIDE SEAL RUNNER BLOCK ASSY",
          "SIDE SEAL RUNNER BLOCK BRAKE ASSY",
          "SIDE SEAL RUNNER BLOCK BRAKE ASSY",
          "SIDE SEAL RUNNER BLOCK BRAKE ASSY",
          "SIDE SEAL RUNNER BLOCK BRAKE ASSY",
          "SIDE SEAL RUNNER BLOCK BRAKE ASSY",
          "SIDE SEAL RUNNER BLOCK BRAKE ASSY",
          "SIDE SEAL TEFLON ROLL ASSY",
          "SIDE SEAL TEFLON ROLL ASSY",
          "SIDE SEAL TEFLON ROLL ASSY",
          "SIDE SEAL TEFLON ROLL ASSY",
          "Seg Nips Tube Guide Assy",
          "Seg Nips Tube Guide Assy",
          "Seg Nips Tube Guide Assy",
          "Segmented Idler Nip Assy",
          "Segmented Idler Nip Assy",
          "Segmented Idler Nip Assy",
          "Servo Assembly",
          "Servo Assembly",
          "Servo Assembly",
          "Servo Assembly",
          "Single Web Roller Assy",
          "Single Web Roller Assy",
          "Single Web Roller Assy",
          "Slider Bowl Gear Rack Assy",
          "Slider Bowl Rail Assy",
          "Slider Insertion Geared Handwheel Assy",
          "Solid Driven Nip Assy",
          "Solid Driven Nip Assy",
          "Solid Driven Nip Assy",
          "Solid Driven Nip Assy",
          "Solid Idler Nip Assy",
          "Static Dancer Roller Assy",
          "Static Mitigation Assy",
          "TOE ROLLER ASSEMBLY",
          "TOE ROLLER ASSEMBLY",
          "TOE ROLLER ASSEMBLY",
          "Thin Wall Top Guard 1",
          "Tube Opening Guard L A Side",
          "Tube Opening Guard L B Side",
          "Tube Opening Guard R A Side",
          "Tube Opening Guard R B Side",
          "Tube PNP Assy A Side",
          "Tube PNP Assy B Side",
          "Tube Pocket Assy",
          "Tube Pocket Assy",
          "Tube Pusher Assy A Side",
          "Tube Pusher Assy B Side",
          "Tube Rotate Assy A Side",
          "Tube Rotate Assy B Side",
          "Tube Singulated Sensor Assy",
          "Twin Wall Top Guard 2",
          "Twin Wall Top Guard 3",
          "Twin Wall Top Guard 4",
          "Twin Wall Top Guard 5",
          "Twin Wall Top Guard 6",
          "Twin Wall Top Guard 7",
          "Twin Wall Top Guard 8",
          "Twin Wall Top Guard 9",
          "UPPER CENTER SIDE SEAL HEAD \nASSY",
          "UPPER CROSS SEAL HEAD ASSY",
          "UPPER CROSS SEAL SERVO ASSY",
          "UPPER SIDE SEAL HEAD ASSY",
          "UPPER SIDE SEAL HEAD ASSY",
          "UPPER SIDE SEAL SERVO ASSY",
          "UPPER SIDE SEAL SERVO ASSY",
          "UPPER SIDE SEAL SERVO ASSY",
          "UW Static Mitigation Assy",
          "Unwind Laser Assy",
          "Unwind Long Roller Assy",
          "Unwind Rail Assy",
          "Unwind Short Roller Assy",
          "Upper Dancer Guard",
          "Upweb Lower Guard Assy",
          "Upweb Upper Guard Assy",
          "Variofix and Washer Assy",
          "WEB SUPPORT ASSY",
          "Welders Gear Rack Assy",
          "Welders Rail Assy",
          "Zipper Encoder Assy",
          "Zipper Encoder Assy",
          "Zipper Encoder Assy",
          "ACTUATOR ASSY",
          "Air Prep Station",
          "Air Supply Pipe Mount Assy",
          "Air Supply Pipe Tie Off",
          "CENTER KNIFE ASSY",
          "CROSS SEAL FRAME",
          "CROSS SEAL IO ENCLOSURE",
          "Cuff Bowl Feeder Assy",
          "Cuff Bowl Frame",
          "Cuff Conveyors Assy",
          "Cuff Drive Enclosure",
          "Cuff IO Enclosure",
          "Cuff IO Secondary Enclosure",
          "Cuff Insert Frame",
          "Cuff Lift Assy A Side",
          "Cuff Seal Assy",
          "Cuff Support Assy A Side",
          "Cuff Support Assy B Side",
          "Cuft Lift Assy B Side",
          "DIENES KNIFE ASSY",
          "Delivery Frame Assy",
          "Door 1 A-Side",
          "Door 2 B-Side",
          "Extrusion Joining Assy",
          "Frame Gusset",
          "HMI Pendant Assy",
          "Indexing Conveyor Assemb",
          "KNIFE FRAME ASSY",
          "KNIFE WEB CLAMP ASSY",
          "Knife Manifold",
          "LOWER A-SIDE SIDE SEAL \nCASSETTE",
          "LOWER B-SIDE SIDE SEAL CASSETTE",
          "LOWER CENTER SIDE SEAL \nCASSETTE",
          "LOWER CROSS SEAL CASSETTE",
          "Lower Main Frame 1",
          "Lower Main Frame 2",
          "Lower Main Frame 3",
          "Main Enclosure",
          "Main HMI Enclosure",
          "Pocket Conveyor Assy A Side",
          "Pocket Conveyor Assy B Side",
          "Presto Slider Insertion Assy",
          "Presto Track Turners Assy",
          "Presto Welder Assy",
          "Printer Assy",
          "Retracting Conveyor Assy",
          "SIDE SEAL FRAME",
          "Segmented Nip Assy",
          "Segmented Nip Assy",
          "Segmented Nip Assy",
          "Solid Nip Assy",
          "TOE ROLLER ASSEMBLY",
          "Tube Hopper Assy",
          "Tube Hopper Enclosure A Side",
          "Tube Hopper Enclosure B Side",
          "Tube Hopper Frame",
          "Tube IO Enclosure",
          "Tube Insert Assy A Side",
          "Tube Insert Assy B Side",
          "Tube Inserter Frame Assy",
          "Tube Singulator Assy",
          "UPPER A-SIDE SIDE SEAL \nCASSETTE",
          "UPPER B-SIDE SIDE SEAL CASSETTE",
          "UPPER CENTER SIDE SEAL \nCASSETTE",
          "UPPER CROSS SEAL CASSETTE",
          "Unwind Clear Guarding",
          "Unwind Frame",
          "Unwind HMI Enclosure",
          "Unwind IO Enclosure",
          "Unwind Roll Assembly",
          "Upper Main Frame 1",
          "Upper Main Frame 2",
          "Upper Main Frame 3",
          "WEB ROLLER ASSEMBLY",
          "ZIPPER SEAL IO ENCLOSURE",
          "Air Prep Assy",
          "CROSS SEAL ASSY",
          "Cuff Insert Assy",
          "Delivery Assy",
          "FLYING KNIFE ASSY",
          "Main Frame 1",
          "Main Frame 2",
          "Main Frame 3",
          "Plinth and Wireway Assy",
          "Tube Insert Assy",
          "Unwind Assy",
          "ZIPPER SEAL ASSY",
          "2-Up Pouch Machine"
         ],
         "name": "",
         "parents": [
          "2-Up Pouch Machine/Tube Insert Assy/Tube Insert Assy A Side/Tube Pusher Assy A Side",
          "2-Up Pouch Machine/Tube Insert Assy/Tube Insert Assy B Side/Tube Pusher Assy B Side",
          "2-Up Pouch Machine/Tube Insert Assy/Tube Insert Assy A Side/Tube Pusher Assy A Side",
          "2-Up Pouch Machine/Tube Insert Assy/Tube Insert Assy B Side/Tube Pusher Assy B Side",
          "2-Up Pouch Machine/Tube Insert Assy/Tube Insert Assy A Side/Tube PNP Assy A Side",
          "2-Up Pouch Machine/Tube Insert Assy/Tube Insert Assy B Side/Tube PNP Assy B Side",
          "2-Up Pouch Machine/Main Frame 2/Upper Main Frame 2/Tube Opening Guard L A Side",
          "2-Up Pouch Machine/Main Frame 2/Upper Main Frame 2/Tube Opening Guard L B Side",
          "2-Up Pouch Machine/Main Frame 2/Upper Main Frame 2/Tube Opening Guard R A Side",
          "2-Up Pouch Machine/Main Frame 2/Upper Main Frame 2/Tube Opening Guard R B Side",
          "2-Up Pouch Machine/Cuff Insert Assy/Cuff Lift Assy A Side/Cuff Shuttle A Side Assy",
          "2-Up Pouch Machine/Cuff Insert Assy/Cuft Lift Assy B Side/Cuff Shuttle B Side Assy",
          "2-Up Pouch Machine/Tube Insert Assy/Tube Insert Assy A Side/Tube PNP Assy A Side",
          "2-Up Pouch Machine/Tube Insert Assy/Tube Insert Assy B Side/Tube PNP Assy B Side",
          "2-Up Pouch Machine/Main Frame 2/Upper Main Frame 2/Door 10",
          "2-Up Pouch Machine/Main Frame 2/Upper Main Frame 2/Door 11",
          "2-Up Pouch Machine/Main Frame 2/Upper Main Frame 2/Door 12",
          "2-Up Pouch Machine/Main Frame 3/Upper Main Frame 3/Door 13",
          "2-Up Pouch Machine/Main Frame 3/Upper Main Frame 3/Door 14",
          "2-Up Pouch Machine/Main Frame 3/Upper Main Frame 3/Door 15",
          "2-Up Pouch Machine/Main Frame 3/Upper Main Frame 3/Door 16",
          "2-Up Pouch Machine/Main Frame 1/Upper Main Frame 1/Door 3",
          "2-Up Pouch Machine/Main Frame 1/Upper Main Frame 1/Door 4",
          "2-Up Pouch Machine/Main Frame 1/Upper Main Frame 1/Door 5",
          "2-Up Pouch Machine/Main Frame 1/Upper Main Frame 1/Door 6",
          "2-Up Pouch Machine/Main Frame 2/Upper Main Frame 2/Door 9",
          "2-Up Pouch Machine/Delivery Assy/Delivery Frame Assy/Retracting Conveyor Door",
          "2-Up Pouch Machine/Main Frame 2/Upper Main Frame 2/Door 10",
          "2-Up Pouch Machine/Main Frame 2/Upper Main Frame 2/Door 11",
          "2-Up Pouch Machine/Main Frame 2/Upper Main Frame 2/Door 12",
          "2-Up Pouch Machine/Main Frame 3/Upper Main Frame 3/Door 13",
          "2-Up Pouch Machine/Main Frame 3/Upper Main Frame 3/Door 14",
          "2-Up Pouch Machine/Main Frame 3/Upper Main Frame 3/Door 15",
          "2-Up Pouch Machine/Main Frame 3/Upper Main Frame 3/Door 16",
          "2-Up Pouch Machine/Main Frame 1/Upper Main Frame 1/Door 3",
          "2-Up Pouch Machine/Main Frame 1/Upper Main Frame 1/Door 4",
          "2-Up Pouch Machine/Main Frame 1/Upper Main Frame 1/Door 5",
          "2-Up Pouch Machine/Main Frame 1/Upper Main Frame 1/Door 6",
          "2-Up Pouch Machine/Main Frame 2/Upper Main Frame 2/Door 7",
          "2-Up Pouch Machine/Main Frame 2/Upper Main Frame 2/Door 8",
          "2-Up Pouch Machine/Main Frame 2/Upper Main Frame 2/Door 9",
          "2-Up Pouch Machine/Delivery Assy/Delivery Frame Assy/Retracting Conveyor Door",
          "2-Up Pouch Machine/Main Frame 2/Upper Main Frame 2/Door 10",
          "2-Up Pouch Machine/Main Frame 2/Upper Main Frame 2/Door 11",
          "2-Up Pouch Machine/Main Frame 2/Upper Main Frame 2/Door 12",
          "2-Up Pouch Machine/Main Frame 3/Upper Main Frame 3/Door 13",
          "2-Up Pouch Machine/Main Frame 3/Upper Main Frame 3/Door 14",
          "2-Up Pouch Machine/Main Frame 3/Upper Main Frame 3/Door 15",
          "2-Up Pouch Machine/Main Frame 3/Upper Main Frame 3/Door 16",
          "2-Up Pouch Machine/Main Frame 1/Upper Main Frame 1/Door 3",
          "2-Up Pouch Machine/Main Frame 1/Upper Main Frame 1/Door 4",
          "2-Up Pouch Machine/Main Frame 1/Upper Main Frame 1/Door 5",
          "2-Up Pouch Machine/Main Frame 1/Upper Main Frame 1/Door 6",
          "2-Up Pouch Machine/Main Frame 2/Upper Main Frame 2/Door 7",
          "2-Up Pouch Machine/Main Frame 2/Upper Main Frame 2/Door 8",
          "2-Up Pouch Machine/Main Frame 2/Upper Main Frame 2/Door 9",
          "2-Up Pouch Machine/Delivery Assy/Delivery Frame Assy/Retracting Conveyor Door",
          "2-Up Pouch Machine/Main Frame 2/Upper Main Frame 2/Door 10",
          "2-Up Pouch Machine/Main Frame 3/Upper Main Frame 3/Door 13",
          "2-Up Pouch Machine/Main Frame 3/Upper Main Frame 3/Door 14",
          "2-Up Pouch Machine/Main Frame 1/Upper Main Frame 1/Door 3",
          "2-Up Pouch Machine/Main Frame 1/Upper Main Frame 1/Door 4",
          "2-Up Pouch Machine/Main Frame 2/Upper Main Frame 2/Door 7",
          "2-Up Pouch Machine/Main Frame 2/Upper Main Frame 2/Door 8",
          "2-Up Pouch Machine/Main Frame 2/Upper Main Frame 2/Door 9",
          "2-Up Pouch Machine/Delivery Assy/Delivery Frame Assy/Retracting Conveyor Door",
          "2-Up Pouch Machine/Main Frame 2/Upper Main Frame 2/Tube Opening Guard L A Side",
          "2-Up Pouch Machine/Main Frame 2/Upper Main Frame 2/Tube Opening Guard L B Side",
          "2-Up Pouch Machine/Main Frame 2/Upper Main Frame 2/Tube Opening Guard R A Side",
          "2-Up Pouch Machine/Main Frame 2/Upper Main Frame 2/Tube Opening Guard R B Side",
          "2-Up Pouch Machine/Main Frame 1/Lower Main Frame 1/Bottom Guarding 1",
          "2-Up Pouch Machine/Main Frame 2/Lower Main Frame 2/Bottom Guarding 11 and 12",
          "2-Up Pouch Machine/Main Frame 2/Lower Main Frame 2/Bottom Guarding 13 and 14",
          "2-Up Pouch Machine/Main Frame 3/Lower Main Frame 3/Bottom Guarding 15 and 16",
          "2-Up Pouch Machine/Main Frame 3/Lower Main Frame 3/Bottom Guarding 17 and 18",
          "2-Up Pouch Machine/Main Frame 3/Lower Main Frame 3/Bottom Guarding 19 and 20",
          "2-Up Pouch Machine/Main Frame 1/Lower Main Frame 1/Bottom Guarding 2",
          "2-Up Pouch Machine/Main Frame 3/Lower Main Frame 3/Bottom Guarding 21 and 22",
          "2-Up Pouch Machine/Main Frame 3/Lower Main Frame 3/Bottom Guarding 23 and 24",
          "2-Up Pouch Machine/Main Frame 3/Lower Main Frame 3/Bottom Guarding 25 and 26",
          "2-Up Pouch Machine/Main Frame 3/Lower Main Frame 3/Bottom Guarding 27 and 28",
          "2-Up Pouch Machine/Main Frame 1/Lower Main Frame 1/Bottom Guarding 3 and 4",
          "2-Up Pouch Machine/Main Frame 2/Lower Main Frame 2/Bottom Guarding 5 and 6",
          "2-Up Pouch Machine/Main Frame 2/Lower Main Frame 2/Bottom Guarding 7 and 8",
          "2-Up Pouch Machine/Main Frame 2/Lower Main Frame 2/Bottom Guarding 9 and  10",
          "2-Up Pouch Machine/Unwind Assy/Unwind Frame/Center Dancer Guard",
          "2-Up Pouch Machine/Main Frame 3/Lower Main Frame 3/Downweb Lower Guard Assy",
          "2-Up Pouch Machine/Main Frame 3/Upper Main Frame 3/Downweb Upper Guard Assy",
          "2-Up Pouch Machine/Main Frame 3/Lower Main Frame 3/End Lower Side Guard Assy",
          "2-Up Pouch Machine/Main Frame 3/Upper Main Frame 3/End Upper Guard Assy",
          "2-Up Pouch Machine/Main Frame 3/Upper Main Frame 3/End Upper Side Guard Assy",
          "2-Up Pouch Machine/Unwind Assy/Unwind Frame/Lower Dancer Guard",
          "2-Up Pouch Machine/Delivery Assy/Delivery Frame Assy/Padle Conveyor Guarding",
          "2-Up Pouch Machine/Unwind Assy/Unwind Frame/Thin Wall Top Guard 1",
          "2-Up Pouch Machine/Main Frame 1/Upper Main Frame 1/Twin Wall Top Guard 2",
          "2-Up Pouch Machine/Main Frame 1/Upper Main Frame 1/Twin Wall Top Guard 3",
          "2-Up Pouch Machine/Main Frame 2/Upper Main Frame 2/Twin Wall Top Guard 4",
          "2-Up Pouch Machine/Main Frame 2/Upper Main Frame 2/Twin Wall Top Guard 5",
          "2-Up Pouch Machine/Main Frame 3/Upper Main Frame 3/Twin Wall Top Guard 6",
          "2-Up Pouch Machine/Main Frame 3/Upper Main Frame 3/Twin Wall Top Guard 7",
          "2-Up Pouch Machine/Main Frame 3/Upper Main Frame 3/Twin Wall Top Guard 8",
          "2-Up Pouch Machine/Delivery Assy/Delivery Frame Assy/Twin Wall Top Guard 9",
          "2-Up Pouch Machine/Unwind Assy/Unwind Frame/Upper Dancer Guard",
          "2-Up Pouch Machine/Main Frame 3/Lower Main Frame 3/Upweb Lower Guard Assy",
          "2-Up Pouch Machine/Main Frame 3/Lower Main Frame 3/Upweb Upper Guard Assy",
          "2-Up Pouch Machine/Tube Insert Assy/Tube Insert Assy A Side/Tube PNP Assy A Side",
          "2-Up Pouch Machine/Tube Insert Assy/Tube Insert Assy B Side/Tube PNP Assy B Side",
          "2-Up Pouch Machine/Tube Insert Assy/Tube Insert Assy A Side/Tube PNP Assy A Side",
          "2-Up Pouch Machine/Tube Insert Assy/Tube Insert Assy B Side/Tube PNP Assy B Side",
          "2-Up Pouch Machine/Tube Insert Assy/Tube Insert Assy A Side/Tube PNP Assy A Side",
          "2-Up Pouch Machine/Tube Insert Assy/Tube Insert Assy B Side/Tube PNP Assy B Side",
          "2-Up Pouch Machine/Tube Insert Assy/Tube Insert Assy A Side/Tube Pusher Assy A Side",
          "2-Up Pouch Machine/Tube Insert Assy/Tube Insert Assy B Side/Tube Pusher Assy B Side",
          "2-Up Pouch Machine/Delivery Assy/Delivery Frame Assy/Bottom Guarding 1",
          "2-Up Pouch Machine/Delivery Assy/Delivery Frame Assy/Bottom Guarding 2",
          "2-Up Pouch Machine/Delivery Assy/Delivery Frame Assy/Bottom Guarding Motor Cut Out",
          "2-Up Pouch Machine/Delivery Assy/Delivery Frame Assy/End Bottom Guard Assemy",
          "2-Up Pouch Machine/Delivery Assy/Delivery Frame Assy/End Bottom Guarding ",
          "2-Up Pouch Machine/Delivery Assy/Delivery Frame Assy/End Guarding Assem",
          "2-Up Pouch Machine/Tube Insert Assy/Tube Singulator Assy",
          "2-Up Pouch Machine/Unwind Assy/Unwind Frame",
          "2-Up Pouch Machine/ZIPPER SEAL ASSY/SIDE SEAL FRAME",
          "2-Up Pouch Machine/Delivery Assy/Delivery Frame Assy",
          "2-Up Pouch Machine/Cuff Insert Assy/Cuff Insert Frame",
          "2-Up Pouch Machine/Tube Insert Assy/Tube Inserter Frame Assy",
          "2-Up Pouch Machine/Tube Insert Assy/Tube Inserter Frame Assy",
          "2-Up Pouch Machine/Delivery Assy/Delivery Frame Assy",
          "2-Up Pouch Machine/Main Frame 1/Lower Main Frame 1",
          "2-Up Pouch Machine/Main Frame 2/Lower Main Frame 2",
          "2-Up Pouch Machine/Main Frame 2/Lower Main Frame 2",
          "2-Up Pouch Machine/Main Frame 3/Lower Main Frame 3",
          "2-Up Pouch Machine/Main Frame 3/Lower Main Frame 3",
          "2-Up Pouch Machine/Main Frame 3/Lower Main Frame 3",
          "2-Up Pouch Machine/Delivery Assy/Delivery Frame Assy",
          "2-Up Pouch Machine/Main Frame 1/Lower Main Frame 1",
          "2-Up Pouch Machine/Main Frame 3/Lower Main Frame 3",
          "2-Up Pouch Machine/Main Frame 3/Lower Main Frame 3",
          "2-Up Pouch Machine/Main Frame 3/Lower Main Frame 3",
          "2-Up Pouch Machine/Main Frame 3/Lower Main Frame 3",
          "2-Up Pouch Machine/Main Frame 1/Lower Main Frame 1",
          "2-Up Pouch Machine/Main Frame 2/Lower Main Frame 2",
          "2-Up Pouch Machine/Main Frame 2/Lower Main Frame 2",
          "2-Up Pouch Machine/Main Frame 2/Lower Main Frame 2",
          "2-Up Pouch Machine/Delivery Assy/Delivery Frame Assy",
          "2-Up Pouch Machine/ZIPPER SEAL ASSY/LOWER CENTER SIDE SEAL \nCASSETTE",
          "2-Up Pouch Machine/ZIPPER SEAL ASSY/UPPER CENTER SIDE SEAL \nCASSETTE",
          "2-Up Pouch Machine/Delivery Assy/Indexing Conveyor Assemb",
          "2-Up Pouch Machine/CROSS SEAL ASSY/LOWER CROSS SEAL CASSETTE",
          "2-Up Pouch Machine/CROSS SEAL ASSY/UPPER CROSS SEAL CASSETTE",
          "2-Up Pouch Machine/CROSS SEAL ASSY/LOWER CROSS SEAL CASSETTE",
          "2-Up Pouch Machine/CROSS SEAL ASSY/UPPER CROSS SEAL CASSETTE",
          "2-Up Pouch Machine/CROSS SEAL ASSY/LOWER CROSS SEAL CASSETTE",
          "2-Up Pouch Machine/CROSS SEAL ASSY/UPPER CROSS SEAL CASSETTE",
          "2-Up Pouch Machine/Main Frame 1/Lower Main Frame 1",
          "2-Up Pouch Machine/Unwind Assy/Unwind Frame",
          "2-Up Pouch Machine/Delivery Assy/Retracting Conveyor Assy",
          "2-Up Pouch Machine/Main Frame 3/Lower Main Frame 3",
          "2-Up Pouch Machine/Main Frame 3/Lower Main Frame 3",
          "2-Up Pouch Machine/Cuff Insert Assy/Cuff Lift Assy A Side",
          "2-Up Pouch Machine/Cuff Insert Assy/Cuft Lift Assy B Side",
          "2-Up Pouch Machine/Cuff Insert Assy/Cuff Lift Assy A Side",
          "2-Up Pouch Machine/Cuff Insert Assy/Cuft Lift Assy B Side",
          "2-Up Pouch Machine/Cuff Insert Assy/Cuff Conveyors Assy",
          "2-Up Pouch Machine/Cuff Insert Assy/Cuff Conveyors Assy",
          "2-Up Pouch Machine/Cuff Insert Assy/Cuff Lift Assy A Side",
          "2-Up Pouch Machine/Cuff Insert Assy/Cuft Lift Assy B Side",
          "2-Up Pouch Machine/Main Frame 1/Lower Main Frame 1",
          "2-Up Pouch Machine/Main Frame 1/Lower Main Frame 1",
          "2-Up Pouch Machine/Cuff Insert Assy/Cuff Lift Assy A Side",
          "2-Up Pouch Machine/Cuff Insert Assy/Cuft Lift Assy B Side",
          "2-Up Pouch Machine/Unwind Assy/Unwind Frame",
          "2-Up Pouch Machine/Unwind Assy/Unwind Frame",
          "2-Up Pouch Machine/Main Frame 2/Upper Main Frame 2",
          "2-Up Pouch Machine/Main Frame 2/Upper Main Frame 2",
          "2-Up Pouch Machine/Main Frame 2/Upper Main Frame 2",
          "2-Up Pouch Machine/Main Frame 3/Upper Main Frame 3",
          "2-Up Pouch Machine/Main Frame 3/Upper Main Frame 3",
          "2-Up Pouch Machine/Main Frame 3/Upper Main Frame 3",
          "2-Up Pouch Machine/Main Frame 3/Upper Main Frame 3",
          "2-Up Pouch Machine/Main Frame 1/Upper Main Frame 1",
          "2-Up Pouch Machine/Main Frame 1/Upper Main Frame 1",
          "2-Up Pouch Machine/Main Frame 1/Upper Main Frame 1",
          "2-Up Pouch Machine/Main Frame 1/Upper Main Frame 1",
          "2-Up Pouch Machine/Main Frame 2/Upper Main Frame 2",
          "2-Up Pouch Machine/Main Frame 2/Upper Main Frame 2",
          "2-Up Pouch Machine/Main Frame 2/Upper Main Frame 2",
          "2-Up Pouch Machine/Unwind Assy/Door 1 A-Side",
          "2-Up Pouch Machine/Unwind Assy/Door 2 B-Side",
          "2-Up Pouch Machine/Main Frame 3/Lower Main Frame 3",
          "2-Up Pouch Machine/Main Frame 3/Upper Main Frame 3",
          "2-Up Pouch Machine/Delivery Assy/Retracting Conveyor Assy",
          "2-Up Pouch Machine/ZIPPER SEAL ASSY/LOWER A-SIDE SIDE SEAL \nCASSETTE",
          "2-Up Pouch Machine/ZIPPER SEAL ASSY/LOWER B-SIDE SIDE SEAL CASSETTE",
          "2-Up Pouch Machine/Unwind Assy/Unwind Frame",
          "2-Up Pouch Machine/Unwind Assy/Unwind Frame",
          "2-Up Pouch Machine/Unwind Assy/Door 1 A-Side",
          "2-Up Pouch Machine/Unwind Assy/Door 2 B-Side",
          "2-Up Pouch Machine/Delivery Assy/Delivery Frame Assy",
          "2-Up Pouch Machine/Delivery Assy/Delivery Frame Assy",
          "2-Up Pouch Machine/Delivery Assy/Delivery Frame Assy",
          "2-Up Pouch Machine/Delivery Assy/Delivery Frame Assy",
          "2-Up Pouch Machine/Main Frame 3/Lower Main Frame 3",
          "2-Up Pouch Machine/Main Frame 3/Upper Main Frame 3",
          "2-Up Pouch Machine/Main Frame 3/Upper Main Frame 3",
          "2-Up Pouch Machine/Main Frame 1/Lower Main Frame 1",
          "2-Up Pouch Machine/Main Frame 2/Lower Main Frame 2",
          "2-Up Pouch Machine/Main Frame 3/Lower Main Frame 3",
          "2-Up Pouch Machine/Main Frame 3/Upper Main Frame 3",
          "2-Up Pouch Machine/Main Frame 1/Lower Main Frame 1",
          "2-Up Pouch Machine/Main Frame 2/Lower Main Frame 2",
          "2-Up Pouch Machine/Main Frame 3/Lower Main Frame 3",
          "2-Up Pouch Machine/Tube Insert Assy/Tube Hopper Assy",
          "2-Up Pouch Machine/Unwind Assy/Unwind Frame",
          "2-Up Pouch Machine/Main Frame 1/Upper Main Frame 1",
          "2-Up Pouch Machine/Main Frame 2/Upper Main Frame 2",
          "2-Up Pouch Machine/Main Frame 3/Upper Main Frame 3",
          "2-Up Pouch Machine/ZIPPER SEAL ASSY/SIDE SEAL FRAME",
          "2-Up Pouch Machine/ZIPPER SEAL ASSY/SIDE SEAL FRAME",
          "2-Up Pouch Machine/Main Frame 3/Upper Main Frame 3",
          "2-Up Pouch Machine/Delivery Assy/Retracting Conveyor Assy",
          "2-Up Pouch Machine/Delivery Assy/Retracting Conveyor Assy",
          "2-Up Pouch Machine/Delivery Assy/Retracting Conveyor Assy",
          "2-Up Pouch Machine/ZIPPER SEAL ASSY/LOWER A-SIDE SIDE SEAL \nCASSETTE",
          "2-Up Pouch Machine/ZIPPER SEAL ASSY/LOWER B-SIDE SIDE SEAL CASSETTE",
          "2-Up Pouch Machine/ZIPPER SEAL ASSY/LOWER CENTER SIDE SEAL \nCASSETTE",
          "2-Up Pouch Machine/ZIPPER SEAL ASSY/UPPER A-SIDE SIDE SEAL \nCASSETTE",
          "2-Up Pouch Machine/ZIPPER SEAL ASSY/UPPER B-SIDE SIDE SEAL CASSETTE",
          "2-Up Pouch Machine/ZIPPER SEAL ASSY/UPPER CENTER SIDE SEAL \nCASSETTE",
          "2-Up Pouch Machine/Main Frame 3/Lower Main Frame 3",
          "2-Up Pouch Machine/Main Frame 3/Lower Main Frame 3",
          "2-Up Pouch Machine/Unwind Assy/Unwind Frame",
          "2-Up Pouch Machine/Main Frame 2/Upper Main Frame 2",
          "2-Up Pouch Machine/Main Frame 3/Upper Main Frame 3",
          "2-Up Pouch Machine/ZIPPER SEAL ASSY/LOWER CENTER SIDE SEAL \nCASSETTE",
          "2-Up Pouch Machine/CROSS SEAL ASSY/LOWER CROSS SEAL CASSETTE",
          "2-Up Pouch Machine/CROSS SEAL ASSY/LOWER CROSS SEAL CASSETTE",
          "2-Up Pouch Machine/ZIPPER SEAL ASSY/LOWER A-SIDE SIDE SEAL \nCASSETTE",
          "2-Up Pouch Machine/ZIPPER SEAL ASSY/LOWER B-SIDE SIDE SEAL CASSETTE",
          "2-Up Pouch Machine/ZIPPER SEAL ASSY/LOWER A-SIDE SIDE SEAL \nCASSETTE",
          "2-Up Pouch Machine/ZIPPER SEAL ASSY/LOWER B-SIDE SIDE SEAL CASSETTE",
          "2-Up Pouch Machine/ZIPPER SEAL ASSY/LOWER CENTER SIDE SEAL \nCASSETTE",
          "2-Up Pouch Machine/Unwind Assy/Unwind Frame",
          "2-Up Pouch Machine/Cuff Insert Assy/Cuff Bowl Frame",
          "2-Up Pouch Machine/Tube Insert Assy/Tube Hopper Frame",
          "2-Up Pouch Machine/Delivery Assy/Delivery Frame Assy",
          "2-Up Pouch Machine/Main Frame 1/Lower Main Frame 1",
          "2-Up Pouch Machine/Main Frame 2/Lower Main Frame 2",
          "2-Up Pouch Machine/Main Frame 3/Lower Main Frame 3",
          "2-Up Pouch Machine/Unwind Assy/Unwind Frame",
          "2-Up Pouch Machine/Main Frame 1/Lower Main Frame 1",
          "2-Up Pouch Machine/Main Frame 2/Lower Main Frame 2",
          "2-Up Pouch Machine/Main Frame 2/Lower Main Frame 2",
          "2-Up Pouch Machine/Main Frame 3/Presto Welder Assy",
          "2-Up Pouch Machine/Main Frame 3/Presto Welder Assy",
          "2-Up Pouch Machine/Unwind Assy/Unwind IO Enclosure",
          "2-Up Pouch Machine/Main Frame 1/Segmented Nip Assy",
          "2-Up Pouch Machine/Main Frame 2/Segmented Nip Assy",
          "2-Up Pouch Machine/Main Frame 3/Segmented Nip Assy",
          "2-Up Pouch Machine/Cuff Insert Assy/Cuff IO Enclosure",
          "2-Up Pouch Machine/Tube Insert Assy/Tube IO Enclosure",
          "2-Up Pouch Machine/ZIPPER SEAL ASSY/LOWER A-SIDE SIDE SEAL \nCASSETTE",
          "2-Up Pouch Machine/ZIPPER SEAL ASSY/LOWER B-SIDE SIDE SEAL CASSETTE",
          "2-Up Pouch Machine/ZIPPER SEAL ASSY/LOWER CENTER SIDE SEAL \nCASSETTE",
          "2-Up Pouch Machine/ZIPPER SEAL ASSY/UPPER A-SIDE SIDE SEAL \nCASSETTE",
          "2-Up Pouch Machine/ZIPPER SEAL ASSY/UPPER B-SIDE SIDE SEAL CASSETTE",
          "2-Up Pouch Machine/ZIPPER SEAL ASSY/UPPER CENTER SIDE SEAL \nCASSETTE",
          "2-Up Pouch Machine/Main Frame 1/Segmented Nip Assy",
          "2-Up Pouch Machine/Main Frame 2/Segmented Nip Assy",
          "2-Up Pouch Machine/Main Frame 3/Segmented Nip Assy",
          "2-Up Pouch Machine/Unwind Assy/Solid Nip Assy",
          "2-Up Pouch Machine/Main Frame 1/Segmented Nip Assy",
          "2-Up Pouch Machine/Main Frame 2/Segmented Nip Assy",
          "2-Up Pouch Machine/Main Frame 3/Segmented Nip Assy",
          "2-Up Pouch Machine/Unwind Assy/Solid Nip Assy",
          "2-Up Pouch Machine/Main Frame 1/Segmented Nip Assy",
          "2-Up Pouch Machine/Main Frame 2/Segmented Nip Assy",
          "2-Up Pouch Machine/Main Frame 3/Segmented Nip Assy",
          "2-Up Pouch Machine/Unwind Assy/Solid Nip Assy",
          "2-Up Pouch Machine/Tube Insert Assy/Tube Hopper Assy",
          "2-Up Pouch Machine/Tube Insert Assy/Tube Singulator Assy",
          "2-Up Pouch Machine/Delivery Assy/Delivery Frame Assy",
          "2-Up Pouch Machine/Tube Insert Assy/Pocket Conveyor Assy A Side",
          "2-Up Pouch Machine/Tube Insert Assy/Pocket Conveyor Assy B Side",
          "2-Up Pouch Machine/Main Frame 3/Printer Assy",
          "2-Up Pouch Machine/Delivery Assy/Retracting Conveyor Assy",
          "2-Up Pouch Machine/Delivery Assy/Delivery Frame Assy",
          "2-Up Pouch Machine/Delivery Assy/Retracting Conveyor Assy",
          "2-Up Pouch Machine/Delivery Assy/Retracting Conveyor Assy",
          "2-Up Pouch Machine/ZIPPER SEAL ASSY/LOWER A-SIDE SIDE SEAL \nCASSETTE",
          "2-Up Pouch Machine/ZIPPER SEAL ASSY/LOWER B-SIDE SIDE SEAL CASSETTE",
          "2-Up Pouch Machine/ZIPPER SEAL ASSY/LOWER CENTER SIDE SEAL \nCASSETTE",
          "2-Up Pouch Machine/CROSS SEAL ASSY/LOWER CROSS SEAL CASSETTE",
          "2-Up Pouch Machine/ZIPPER SEAL ASSY/UPPER A-SIDE SIDE SEAL \nCASSETTE",
          "2-Up Pouch Machine/ZIPPER SEAL ASSY/UPPER B-SIDE SIDE SEAL CASSETTE",
          "2-Up Pouch Machine/ZIPPER SEAL ASSY/UPPER CENTER SIDE SEAL \nCASSETTE",
          "2-Up Pouch Machine/CROSS SEAL ASSY/UPPER CROSS SEAL CASSETTE",
          "2-Up Pouch Machine/ZIPPER SEAL ASSY/SIDE SEAL FRAME",
          "2-Up Pouch Machine/ZIPPER SEAL ASSY/LOWER A-SIDE SIDE SEAL \nCASSETTE",
          "2-Up Pouch Machine/ZIPPER SEAL ASSY/LOWER B-SIDE SIDE SEAL CASSETTE",
          "2-Up Pouch Machine/ZIPPER SEAL ASSY/LOWER CENTER SIDE SEAL \nCASSETTE",
          "2-Up Pouch Machine/ZIPPER SEAL ASSY/UPPER A-SIDE SIDE SEAL \nCASSETTE",
          "2-Up Pouch Machine/ZIPPER SEAL ASSY/UPPER B-SIDE SIDE SEAL CASSETTE",
          "2-Up Pouch Machine/ZIPPER SEAL ASSY/UPPER CENTER SIDE SEAL \nCASSETTE",
          "2-Up Pouch Machine/ZIPPER SEAL ASSY/LOWER A-SIDE SIDE SEAL \nCASSETTE",
          "2-Up Pouch Machine/ZIPPER SEAL ASSY/LOWER B-SIDE SIDE SEAL CASSETTE",
          "2-Up Pouch Machine/ZIPPER SEAL ASSY/LOWER CENTER SIDE SEAL \nCASSETTE",
          "2-Up Pouch Machine/ZIPPER SEAL ASSY/UPPER A-SIDE SIDE SEAL \nCASSETTE",
          "2-Up Pouch Machine/ZIPPER SEAL ASSY/UPPER B-SIDE SIDE SEAL CASSETTE",
          "2-Up Pouch Machine/ZIPPER SEAL ASSY/UPPER CENTER SIDE SEAL \nCASSETTE",
          "2-Up Pouch Machine/ZIPPER SEAL ASSY/LOWER A-SIDE SIDE SEAL \nCASSETTE",
          "2-Up Pouch Machine/ZIPPER SEAL ASSY/LOWER B-SIDE SIDE SEAL CASSETTE",
          "2-Up Pouch Machine/ZIPPER SEAL ASSY/LOWER CENTER SIDE SEAL \nCASSETTE",
          "2-Up Pouch Machine/ZIPPER SEAL ASSY/UPPER A-SIDE SIDE SEAL \nCASSETTE",
          "2-Up Pouch Machine/ZIPPER SEAL ASSY/UPPER B-SIDE SIDE SEAL CASSETTE",
          "2-Up Pouch Machine/ZIPPER SEAL ASSY/UPPER CENTER SIDE SEAL \nCASSETTE",
          "2-Up Pouch Machine/ZIPPER SEAL ASSY/LOWER A-SIDE SIDE SEAL \nCASSETTE",
          "2-Up Pouch Machine/ZIPPER SEAL ASSY/LOWER B-SIDE SIDE SEAL CASSETTE",
          "2-Up Pouch Machine/ZIPPER SEAL ASSY/UPPER A-SIDE SIDE SEAL \nCASSETTE",
          "2-Up Pouch Machine/ZIPPER SEAL ASSY/UPPER B-SIDE SIDE SEAL CASSETTE",
          "2-Up Pouch Machine/Main Frame 1/Segmented Nip Assy",
          "2-Up Pouch Machine/Main Frame 2/Segmented Nip Assy",
          "2-Up Pouch Machine/Main Frame 3/Segmented Nip Assy",
          "2-Up Pouch Machine/Main Frame 1/Segmented Nip Assy",
          "2-Up Pouch Machine/Main Frame 2/Segmented Nip Assy",
          "2-Up Pouch Machine/Main Frame 3/Segmented Nip Assy",
          "2-Up Pouch Machine/Main Frame 1/Segmented Nip Assy",
          "2-Up Pouch Machine/Main Frame 2/Segmented Nip Assy",
          "2-Up Pouch Machine/Main Frame 3/Segmented Nip Assy",
          "2-Up Pouch Machine/Unwind Assy/Solid Nip Assy",
          "2-Up Pouch Machine/Main Frame 1/Lower Main Frame 1",
          "2-Up Pouch Machine/Main Frame 2/Lower Main Frame 2",
          "2-Up Pouch Machine/Unwind Assy/Unwind Frame",
          "2-Up Pouch Machine/Main Frame 3/Lower Main Frame 3",
          "2-Up Pouch Machine/Main Frame 3/Lower Main Frame 3",
          "2-Up Pouch Machine/Main Frame 3/Presto Slider Insertion Assy",
          "2-Up Pouch Machine/Main Frame 1/Segmented Nip Assy",
          "2-Up Pouch Machine/Main Frame 2/Segmented Nip Assy",
          "2-Up Pouch Machine/Main Frame 3/Segmented Nip Assy",
          "2-Up Pouch Machine/Unwind Assy/Solid Nip Assy",
          "2-Up Pouch Machine/Unwind Assy/Solid Nip Assy",
          "2-Up Pouch Machine/Unwind Assy/Unwind Frame",
          "2-Up Pouch Machine/Delivery Assy/Delivery Frame Assy",
          "2-Up Pouch Machine/Cuff Insert Assy/Cuff Insert Frame",
          "2-Up Pouch Machine/Main Frame 3/Presto Welder Assy",
          "2-Up Pouch Machine/Tube Insert Assy/Tube Inserter Frame Assy",
          "2-Up Pouch Machine/Unwind Assy/Unwind Frame",
          "2-Up Pouch Machine/Main Frame 2/Upper Main Frame 2",
          "2-Up Pouch Machine/Main Frame 2/Upper Main Frame 2",
          "2-Up Pouch Machine/Main Frame 2/Upper Main Frame 2",
          "2-Up Pouch Machine/Main Frame 2/Upper Main Frame 2",
          "2-Up Pouch Machine/Tube Insert Assy/Tube Insert Assy A Side",
          "2-Up Pouch Machine/Tube Insert Assy/Tube Insert Assy B Side",
          "2-Up Pouch Machine/Tube Insert Assy/Pocket Conveyor Assy A Side",
          "2-Up Pouch Machine/Tube Insert Assy/Pocket Conveyor Assy B Side",
          "2-Up Pouch Machine/Tube Insert Assy/Tube Insert Assy A Side",
          "2-Up Pouch Machine/Tube Insert Assy/Tube Insert Assy B Side",
          "2-Up Pouch Machine/Tube Insert Assy/Tube Insert Assy A Side",
          "2-Up Pouch Machine/Tube Insert Assy/Tube Insert Assy B Side",
          "2-Up Pouch Machine/Tube Insert Assy/Tube Singulator Assy",
          "2-Up Pouch Machine/Main Frame 1/Upper Main Frame 1",
          "2-Up Pouch Machine/Main Frame 1/Upper Main Frame 1",
          "2-Up Pouch Machine/Main Frame 2/Upper Main Frame 2",
          "2-Up Pouch Machine/Main Frame 2/Upper Main Frame 2",
          "2-Up Pouch Machine/Main Frame 3/Upper Main Frame 3",
          "2-Up Pouch Machine/Main Frame 3/Upper Main Frame 3",
          "2-Up Pouch Machine/Main Frame 3/Upper Main Frame 3",
          "2-Up Pouch Machine/Delivery Assy/Delivery Frame Assy",
          "2-Up Pouch Machine/ZIPPER SEAL ASSY/UPPER CENTER SIDE SEAL \nCASSETTE",
          "2-Up Pouch Machine/CROSS SEAL ASSY/UPPER CROSS SEAL CASSETTE",
          "2-Up Pouch Machine/CROSS SEAL ASSY/UPPER CROSS SEAL CASSETTE",
          "2-Up Pouch Machine/ZIPPER SEAL ASSY/UPPER A-SIDE SIDE SEAL \nCASSETTE",
          "2-Up Pouch Machine/ZIPPER SEAL ASSY/UPPER B-SIDE SIDE SEAL CASSETTE",
          "2-Up Pouch Machine/ZIPPER SEAL ASSY/UPPER A-SIDE SIDE SEAL \nCASSETTE",
          "2-Up Pouch Machine/ZIPPER SEAL ASSY/UPPER B-SIDE SIDE SEAL CASSETTE",
          "2-Up Pouch Machine/ZIPPER SEAL ASSY/UPPER CENTER SIDE SEAL \nCASSETTE",
          "2-Up Pouch Machine/Unwind Assy/Unwind Frame",
          "2-Up Pouch Machine/Unwind Assy/Unwind Roll Assembly",
          "2-Up Pouch Machine/Unwind Assy/Unwind Roll Assembly",
          "2-Up Pouch Machine/Unwind Assy/Unwind Frame",
          "2-Up Pouch Machine/Unwind Assy/Unwind Roll Assembly",
          "2-Up Pouch Machine/Unwind Assy/Unwind Frame",
          "2-Up Pouch Machine/Main Frame 3/Lower Main Frame 3",
          "2-Up Pouch Machine/Main Frame 3/Lower Main Frame 3",
          "2-Up Pouch Machine/Unwind Assy/Unwind Clear Guarding",
          "2-Up Pouch Machine/ZIPPER SEAL ASSY/SIDE SEAL FRAME",
          "2-Up Pouch Machine/Main Frame 3/Lower Main Frame 3",
          "2-Up Pouch Machine/Main Frame 3/Lower Main Frame 3",
          "2-Up Pouch Machine/Main Frame 1/Segmented Nip Assy",
          "2-Up Pouch Machine/Main Frame 2/Segmented Nip Assy",
          "2-Up Pouch Machine/Main Frame 3/Segmented Nip Assy",
          "2-Up Pouch Machine/FLYING KNIFE ASSY",
          "2-Up Pouch Machine/Air Prep Assy",
          "2-Up Pouch Machine/Air Prep Assy",
          "2-Up Pouch Machine/Air Prep Assy",
          "2-Up Pouch Machine/Main Frame 3",
          "2-Up Pouch Machine/CROSS SEAL ASSY",
          "2-Up Pouch Machine/CROSS SEAL ASSY",
          "2-Up Pouch Machine/Cuff Insert Assy",
          "2-Up Pouch Machine/Cuff Insert Assy",
          "2-Up Pouch Machine/Cuff Insert Assy",
          "2-Up Pouch Machine/Cuff Insert Assy",
          "2-Up Pouch Machine/Cuff Insert Assy",
          "2-Up Pouch Machine/Cuff Insert Assy",
          "2-Up Pouch Machine/Cuff Insert Assy",
          "2-Up Pouch Machine/Cuff Insert Assy",
          "2-Up Pouch Machine/Cuff Insert Assy",
          "2-Up Pouch Machine/Tube Insert Assy",
          "2-Up Pouch Machine/Tube Insert Assy",
          "2-Up Pouch Machine/Cuff Insert Assy",
          "2-Up Pouch Machine/FLYING KNIFE ASSY",
          "2-Up Pouch Machine/Delivery Assy",
          "2-Up Pouch Machine/Unwind Assy",
          "2-Up Pouch Machine/Unwind Assy",
          "2-Up Pouch Machine/Delivery Assy",
          "2-Up Pouch Machine/ZIPPER SEAL ASSY",
          "2-Up Pouch Machine/Unwind Assy",
          "2-Up Pouch Machine/Delivery Assy",
          "2-Up Pouch Machine/FLYING KNIFE ASSY",
          "2-Up Pouch Machine/FLYING KNIFE ASSY",
          "2-Up Pouch Machine/Main Frame 3",
          "2-Up Pouch Machine/ZIPPER SEAL ASSY",
          "2-Up Pouch Machine/ZIPPER SEAL ASSY",
          "2-Up Pouch Machine/ZIPPER SEAL ASSY",
          "2-Up Pouch Machine/CROSS SEAL ASSY",
          "2-Up Pouch Machine/Main Frame 1",
          "2-Up Pouch Machine/Main Frame 2",
          "2-Up Pouch Machine/Main Frame 3",
          "2-Up Pouch Machine/Plinth and Wireway Assy",
          "2-Up Pouch Machine/Main Frame 3",
          "2-Up Pouch Machine/Tube Insert Assy",
          "2-Up Pouch Machine/Tube Insert Assy",
          "2-Up Pouch Machine/Main Frame 3",
          "2-Up Pouch Machine/Main Frame 2",
          "2-Up Pouch Machine/Main Frame 3",
          "2-Up Pouch Machine/Main Frame 3",
          "2-Up Pouch Machine/Delivery Assy",
          "2-Up Pouch Machine/ZIPPER SEAL ASSY",
          "2-Up Pouch Machine/Main Frame 1",
          "2-Up Pouch Machine/Main Frame 2",
          "2-Up Pouch Machine/Main Frame 3",
          "2-Up Pouch Machine/Unwind Assy",
          "2-Up Pouch Machine/CROSS SEAL ASSY",
          "2-Up Pouch Machine/Tube Insert Assy",
          "2-Up Pouch Machine/Tube Insert Assy",
          "2-Up Pouch Machine/Tube Insert Assy",
          "2-Up Pouch Machine/Tube Insert Assy",
          "2-Up Pouch Machine/Tube Insert Assy",
          "2-Up Pouch Machine/Tube Insert Assy",
          "2-Up Pouch Machine/Tube Insert Assy",
          "2-Up Pouch Machine/Tube Insert Assy",
          "2-Up Pouch Machine/Tube Insert Assy",
          "2-Up Pouch Machine/ZIPPER SEAL ASSY",
          "2-Up Pouch Machine/ZIPPER SEAL ASSY",
          "2-Up Pouch Machine/ZIPPER SEAL ASSY",
          "2-Up Pouch Machine/CROSS SEAL ASSY",
          "2-Up Pouch Machine/Unwind Assy",
          "2-Up Pouch Machine/Unwind Assy",
          "2-Up Pouch Machine/Unwind Assy",
          "2-Up Pouch Machine/Unwind Assy",
          "2-Up Pouch Machine/Unwind Assy",
          "2-Up Pouch Machine/Main Frame 1",
          "2-Up Pouch Machine/Main Frame 2",
          "2-Up Pouch Machine/Main Frame 3",
          "2-Up Pouch Machine/FLYING KNIFE ASSY",
          "2-Up Pouch Machine/ZIPPER SEAL ASSY",
          "2-Up Pouch Machine",
          "2-Up Pouch Machine",
          "2-Up Pouch Machine",
          "2-Up Pouch Machine",
          "2-Up Pouch Machine",
          "2-Up Pouch Machine",
          "2-Up Pouch Machine",
          "2-Up Pouch Machine",
          "2-Up Pouch Machine",
          "2-Up Pouch Machine",
          "2-Up Pouch Machine",
          "2-Up Pouch Machine",
          ""
         ],
         "root": {
          "color": "lightgrey"
         },
         "type": "treemap",
         "values": [
          3,
          3,
          3,
          3,
          13,
          13,
          1,
          1,
          1,
          1,
          12,
          12,
          6,
          6,
          5,
          5,
          5,
          5,
          5,
          5,
          5,
          5,
          5,
          5,
          5,
          5,
          5,
          2,
          2,
          2,
          2,
          2,
          2,
          2,
          2,
          2,
          2,
          2,
          2,
          2,
          2,
          2,
          2,
          2,
          2,
          2,
          2,
          2,
          2,
          2,
          2,
          2,
          2,
          2,
          2,
          2,
          2,
          5,
          5,
          5,
          5,
          5,
          5,
          5,
          5,
          5,
          3,
          3,
          3,
          3,
          2,
          2,
          2,
          2,
          2,
          2,
          2,
          2,
          2,
          2,
          2,
          2,
          2,
          2,
          2,
          2,
          2,
          2,
          2,
          2,
          2,
          2,
          2,
          2,
          2,
          2,
          2,
          2,
          2,
          2,
          2,
          2,
          2,
          2,
          2,
          9,
          9,
          6,
          6,
          16,
          16,
          6,
          6,
          2,
          2,
          2,
          2,
          2,
          2,
          3,
          22,
          6,
          9,
          5,
          5,
          5,
          2,
          2,
          2,
          2,
          2,
          2,
          2,
          2,
          2,
          2,
          2,
          2,
          2,
          2,
          2,
          2,
          2,
          2,
          5,
          5,
          3,
          5,
          5,
          6,
          6,
          5,
          5,
          3,
          2,
          8,
          3,
          3,
          5,
          5,
          16,
          15,
          14,
          14,
          12,
          12,
          5,
          5,
          12,
          12,
          2,
          5,
          14,
          9,
          9,
          14,
          14,
          9,
          9,
          14,
          14,
          9,
          9,
          9,
          9,
          14,
          5,
          5,
          2,
          2,
          7,
          3,
          3,
          6,
          7,
          2,
          2,
          2,
          2,
          4,
          2,
          2,
          2,
          2,
          2,
          2,
          2,
          2,
          2,
          2,
          2,
          2,
          2,
          2,
          2,
          2,
          8,
          5,
          7,
          3,
          3,
          3,
          1,
          1,
          1,
          1,
          1,
          1,
          12,
          13,
          4,
          4,
          4,
          11,
          11,
          10,
          10,
          10,
          10,
          10,
          10,
          2,
          3,
          3,
          3,
          4,
          4,
          4,
          4,
          3,
          3,
          3,
          10,
          15,
          1,
          2,
          2,
          2,
          1,
          1,
          1,
          1,
          1,
          1,
          1,
          1,
          2,
          2,
          2,
          2,
          3,
          3,
          3,
          3,
          3,
          3,
          3,
          3,
          3,
          3,
          2,
          7,
          7,
          5,
          6,
          14,
          6,
          7,
          9,
          9,
          9,
          9,
          9,
          9,
          9,
          9,
          4,
          6,
          6,
          6,
          6,
          6,
          6,
          2,
          2,
          2,
          2,
          2,
          2,
          4,
          4,
          4,
          4,
          4,
          4,
          5,
          5,
          5,
          5,
          5,
          5,
          5,
          4,
          4,
          4,
          6,
          6,
          6,
          6,
          7,
          7,
          7,
          3,
          4,
          19,
          5,
          5,
          5,
          5,
          1,
          7,
          4,
          13,
          13,
          13,
          2,
          4,
          4,
          4,
          4,
          50,
          50,
          1,
          1,
          12,
          12,
          17,
          17,
          6,
          2,
          2,
          2,
          2,
          2,
          2,
          2,
          2,
          10,
          11,
          10,
          10,
          10,
          10,
          10,
          10,
          4,
          4,
          6,
          4,
          6,
          2,
          2,
          2,
          2,
          4,
          3,
          4,
          6,
          6,
          6,
          7,
          13,
          2,
          2,
          29,
          28,
          7,
          9,
          3,
          28,
          2,
          1,
          0,
          18,
          45,
          19,
          15,
          15,
          44,
          6,
          50,
          7,
          7,
          2,
          2,
          7,
          3,
          14,
          10,
          9,
          51,
          51,
          49,
          46,
          37,
          31,
          75,
          0,
          11,
          8,
          8,
          19,
          12,
          38,
          5,
          43,
          27,
          36,
          36,
          36,
          20,
          13,
          5,
          2,
          2,
          3,
          1,
          79,
          79,
          23,
          12,
          48,
          48,
          48,
          46,
          2,
          82,
          0,
          1,
          16,
          52,
          90,
          73,
          10,
          7,
          17,
          140,
          169,
          98,
          47,
          125,
          169,
          295,
          0,
          252,
          142,
          331,
          1785
         ]
        }
       ],
       "layout": {
        "height": 1200,
        "legend": {
         "tracegroupgap": 0
        },
        "margin": {
         "b": 25,
         "l": 25,
         "r": 25,
         "t": 50
        },
        "template": {
         "data": {
          "bar": [
           {
            "error_x": {
             "color": "#2a3f5f"
            },
            "error_y": {
             "color": "#2a3f5f"
            },
            "marker": {
             "line": {
              "color": "#E5ECF6",
              "width": 0.5
             },
             "pattern": {
              "fillmode": "overlay",
              "size": 10,
              "solidity": 0.2
             }
            },
            "type": "bar"
           }
          ],
          "barpolar": [
           {
            "marker": {
             "line": {
              "color": "#E5ECF6",
              "width": 0.5
             },
             "pattern": {
              "fillmode": "overlay",
              "size": 10,
              "solidity": 0.2
             }
            },
            "type": "barpolar"
           }
          ],
          "carpet": [
           {
            "aaxis": {
             "endlinecolor": "#2a3f5f",
             "gridcolor": "white",
             "linecolor": "white",
             "minorgridcolor": "white",
             "startlinecolor": "#2a3f5f"
            },
            "baxis": {
             "endlinecolor": "#2a3f5f",
             "gridcolor": "white",
             "linecolor": "white",
             "minorgridcolor": "white",
             "startlinecolor": "#2a3f5f"
            },
            "type": "carpet"
           }
          ],
          "choropleth": [
           {
            "colorbar": {
             "outlinewidth": 0,
             "ticks": ""
            },
            "type": "choropleth"
           }
          ],
          "contour": [
           {
            "colorbar": {
             "outlinewidth": 0,
             "ticks": ""
            },
            "colorscale": [
             [
              0,
              "#0d0887"
             ],
             [
              0.1111111111111111,
              "#46039f"
             ],
             [
              0.2222222222222222,
              "#7201a8"
             ],
             [
              0.3333333333333333,
              "#9c179e"
             ],
             [
              0.4444444444444444,
              "#bd3786"
             ],
             [
              0.5555555555555556,
              "#d8576b"
             ],
             [
              0.6666666666666666,
              "#ed7953"
             ],
             [
              0.7777777777777778,
              "#fb9f3a"
             ],
             [
              0.8888888888888888,
              "#fdca26"
             ],
             [
              1,
              "#f0f921"
             ]
            ],
            "type": "contour"
           }
          ],
          "contourcarpet": [
           {
            "colorbar": {
             "outlinewidth": 0,
             "ticks": ""
            },
            "type": "contourcarpet"
           }
          ],
          "heatmap": [
           {
            "colorbar": {
             "outlinewidth": 0,
             "ticks": ""
            },
            "colorscale": [
             [
              0,
              "#0d0887"
             ],
             [
              0.1111111111111111,
              "#46039f"
             ],
             [
              0.2222222222222222,
              "#7201a8"
             ],
             [
              0.3333333333333333,
              "#9c179e"
             ],
             [
              0.4444444444444444,
              "#bd3786"
             ],
             [
              0.5555555555555556,
              "#d8576b"
             ],
             [
              0.6666666666666666,
              "#ed7953"
             ],
             [
              0.7777777777777778,
              "#fb9f3a"
             ],
             [
              0.8888888888888888,
              "#fdca26"
             ],
             [
              1,
              "#f0f921"
             ]
            ],
            "type": "heatmap"
           }
          ],
          "heatmapgl": [
           {
            "colorbar": {
             "outlinewidth": 0,
             "ticks": ""
            },
            "colorscale": [
             [
              0,
              "#0d0887"
             ],
             [
              0.1111111111111111,
              "#46039f"
             ],
             [
              0.2222222222222222,
              "#7201a8"
             ],
             [
              0.3333333333333333,
              "#9c179e"
             ],
             [
              0.4444444444444444,
              "#bd3786"
             ],
             [
              0.5555555555555556,
              "#d8576b"
             ],
             [
              0.6666666666666666,
              "#ed7953"
             ],
             [
              0.7777777777777778,
              "#fb9f3a"
             ],
             [
              0.8888888888888888,
              "#fdca26"
             ],
             [
              1,
              "#f0f921"
             ]
            ],
            "type": "heatmapgl"
           }
          ],
          "histogram": [
           {
            "marker": {
             "pattern": {
              "fillmode": "overlay",
              "size": 10,
              "solidity": 0.2
             }
            },
            "type": "histogram"
           }
          ],
          "histogram2d": [
           {
            "colorbar": {
             "outlinewidth": 0,
             "ticks": ""
            },
            "colorscale": [
             [
              0,
              "#0d0887"
             ],
             [
              0.1111111111111111,
              "#46039f"
             ],
             [
              0.2222222222222222,
              "#7201a8"
             ],
             [
              0.3333333333333333,
              "#9c179e"
             ],
             [
              0.4444444444444444,
              "#bd3786"
             ],
             [
              0.5555555555555556,
              "#d8576b"
             ],
             [
              0.6666666666666666,
              "#ed7953"
             ],
             [
              0.7777777777777778,
              "#fb9f3a"
             ],
             [
              0.8888888888888888,
              "#fdca26"
             ],
             [
              1,
              "#f0f921"
             ]
            ],
            "type": "histogram2d"
           }
          ],
          "histogram2dcontour": [
           {
            "colorbar": {
             "outlinewidth": 0,
             "ticks": ""
            },
            "colorscale": [
             [
              0,
              "#0d0887"
             ],
             [
              0.1111111111111111,
              "#46039f"
             ],
             [
              0.2222222222222222,
              "#7201a8"
             ],
             [
              0.3333333333333333,
              "#9c179e"
             ],
             [
              0.4444444444444444,
              "#bd3786"
             ],
             [
              0.5555555555555556,
              "#d8576b"
             ],
             [
              0.6666666666666666,
              "#ed7953"
             ],
             [
              0.7777777777777778,
              "#fb9f3a"
             ],
             [
              0.8888888888888888,
              "#fdca26"
             ],
             [
              1,
              "#f0f921"
             ]
            ],
            "type": "histogram2dcontour"
           }
          ],
          "mesh3d": [
           {
            "colorbar": {
             "outlinewidth": 0,
             "ticks": ""
            },
            "type": "mesh3d"
           }
          ],
          "parcoords": [
           {
            "line": {
             "colorbar": {
              "outlinewidth": 0,
              "ticks": ""
             }
            },
            "type": "parcoords"
           }
          ],
          "pie": [
           {
            "automargin": true,
            "type": "pie"
           }
          ],
          "scatter": [
           {
            "fillpattern": {
             "fillmode": "overlay",
             "size": 10,
             "solidity": 0.2
            },
            "type": "scatter"
           }
          ],
          "scatter3d": [
           {
            "line": {
             "colorbar": {
              "outlinewidth": 0,
              "ticks": ""
             }
            },
            "marker": {
             "colorbar": {
              "outlinewidth": 0,
              "ticks": ""
             }
            },
            "type": "scatter3d"
           }
          ],
          "scattercarpet": [
           {
            "marker": {
             "colorbar": {
              "outlinewidth": 0,
              "ticks": ""
             }
            },
            "type": "scattercarpet"
           }
          ],
          "scattergeo": [
           {
            "marker": {
             "colorbar": {
              "outlinewidth": 0,
              "ticks": ""
             }
            },
            "type": "scattergeo"
           }
          ],
          "scattergl": [
           {
            "marker": {
             "colorbar": {
              "outlinewidth": 0,
              "ticks": ""
             }
            },
            "type": "scattergl"
           }
          ],
          "scattermapbox": [
           {
            "marker": {
             "colorbar": {
              "outlinewidth": 0,
              "ticks": ""
             }
            },
            "type": "scattermapbox"
           }
          ],
          "scatterpolar": [
           {
            "marker": {
             "colorbar": {
              "outlinewidth": 0,
              "ticks": ""
             }
            },
            "type": "scatterpolar"
           }
          ],
          "scatterpolargl": [
           {
            "marker": {
             "colorbar": {
              "outlinewidth": 0,
              "ticks": ""
             }
            },
            "type": "scatterpolargl"
           }
          ],
          "scatterternary": [
           {
            "marker": {
             "colorbar": {
              "outlinewidth": 0,
              "ticks": ""
             }
            },
            "type": "scatterternary"
           }
          ],
          "surface": [
           {
            "colorbar": {
             "outlinewidth": 0,
             "ticks": ""
            },
            "colorscale": [
             [
              0,
              "#0d0887"
             ],
             [
              0.1111111111111111,
              "#46039f"
             ],
             [
              0.2222222222222222,
              "#7201a8"
             ],
             [
              0.3333333333333333,
              "#9c179e"
             ],
             [
              0.4444444444444444,
              "#bd3786"
             ],
             [
              0.5555555555555556,
              "#d8576b"
             ],
             [
              0.6666666666666666,
              "#ed7953"
             ],
             [
              0.7777777777777778,
              "#fb9f3a"
             ],
             [
              0.8888888888888888,
              "#fdca26"
             ],
             [
              1,
              "#f0f921"
             ]
            ],
            "type": "surface"
           }
          ],
          "table": [
           {
            "cells": {
             "fill": {
              "color": "#EBF0F8"
             },
             "line": {
              "color": "white"
             }
            },
            "header": {
             "fill": {
              "color": "#C8D4E3"
             },
             "line": {
              "color": "white"
             }
            },
            "type": "table"
           }
          ]
         },
         "layout": {
          "annotationdefaults": {
           "arrowcolor": "#2a3f5f",
           "arrowhead": 0,
           "arrowwidth": 1
          },
          "autotypenumbers": "strict",
          "coloraxis": {
           "colorbar": {
            "outlinewidth": 0,
            "ticks": ""
           }
          },
          "colorscale": {
           "diverging": [
            [
             0,
             "#8e0152"
            ],
            [
             0.1,
             "#c51b7d"
            ],
            [
             0.2,
             "#de77ae"
            ],
            [
             0.3,
             "#f1b6da"
            ],
            [
             0.4,
             "#fde0ef"
            ],
            [
             0.5,
             "#f7f7f7"
            ],
            [
             0.6,
             "#e6f5d0"
            ],
            [
             0.7,
             "#b8e186"
            ],
            [
             0.8,
             "#7fbc41"
            ],
            [
             0.9,
             "#4d9221"
            ],
            [
             1,
             "#276419"
            ]
           ],
           "sequential": [
            [
             0,
             "#0d0887"
            ],
            [
             0.1111111111111111,
             "#46039f"
            ],
            [
             0.2222222222222222,
             "#7201a8"
            ],
            [
             0.3333333333333333,
             "#9c179e"
            ],
            [
             0.4444444444444444,
             "#bd3786"
            ],
            [
             0.5555555555555556,
             "#d8576b"
            ],
            [
             0.6666666666666666,
             "#ed7953"
            ],
            [
             0.7777777777777778,
             "#fb9f3a"
            ],
            [
             0.8888888888888888,
             "#fdca26"
            ],
            [
             1,
             "#f0f921"
            ]
           ],
           "sequentialminus": [
            [
             0,
             "#0d0887"
            ],
            [
             0.1111111111111111,
             "#46039f"
            ],
            [
             0.2222222222222222,
             "#7201a8"
            ],
            [
             0.3333333333333333,
             "#9c179e"
            ],
            [
             0.4444444444444444,
             "#bd3786"
            ],
            [
             0.5555555555555556,
             "#d8576b"
            ],
            [
             0.6666666666666666,
             "#ed7953"
            ],
            [
             0.7777777777777778,
             "#fb9f3a"
            ],
            [
             0.8888888888888888,
             "#fdca26"
            ],
            [
             1,
             "#f0f921"
            ]
           ]
          },
          "colorway": [
           "#636efa",
           "#EF553B",
           "#00cc96",
           "#ab63fa",
           "#FFA15A",
           "#19d3f3",
           "#FF6692",
           "#B6E880",
           "#FF97FF",
           "#FECB52"
          ],
          "font": {
           "color": "#2a3f5f"
          },
          "geo": {
           "bgcolor": "white",
           "lakecolor": "white",
           "landcolor": "#E5ECF6",
           "showlakes": true,
           "showland": true,
           "subunitcolor": "white"
          },
          "hoverlabel": {
           "align": "left"
          },
          "hovermode": "closest",
          "mapbox": {
           "style": "light"
          },
          "paper_bgcolor": "white",
          "plot_bgcolor": "#E5ECF6",
          "polar": {
           "angularaxis": {
            "gridcolor": "white",
            "linecolor": "white",
            "ticks": ""
           },
           "bgcolor": "#E5ECF6",
           "radialaxis": {
            "gridcolor": "white",
            "linecolor": "white",
            "ticks": ""
           }
          },
          "scene": {
           "xaxis": {
            "backgroundcolor": "#E5ECF6",
            "gridcolor": "white",
            "gridwidth": 2,
            "linecolor": "white",
            "showbackground": true,
            "ticks": "",
            "zerolinecolor": "white"
           },
           "yaxis": {
            "backgroundcolor": "#E5ECF6",
            "gridcolor": "white",
            "gridwidth": 2,
            "linecolor": "white",
            "showbackground": true,
            "ticks": "",
            "zerolinecolor": "white"
           },
           "zaxis": {
            "backgroundcolor": "#E5ECF6",
            "gridcolor": "white",
            "gridwidth": 2,
            "linecolor": "white",
            "showbackground": true,
            "ticks": "",
            "zerolinecolor": "white"
           }
          },
          "shapedefaults": {
           "line": {
            "color": "#2a3f5f"
           }
          },
          "ternary": {
           "aaxis": {
            "gridcolor": "white",
            "linecolor": "white",
            "ticks": ""
           },
           "baxis": {
            "gridcolor": "white",
            "linecolor": "white",
            "ticks": ""
           },
           "bgcolor": "#E5ECF6",
           "caxis": {
            "gridcolor": "white",
            "linecolor": "white",
            "ticks": ""
           }
          },
          "title": {
           "x": 0.05
          },
          "xaxis": {
           "automargin": true,
           "gridcolor": "white",
           "linecolor": "white",
           "ticks": "",
           "title": {
            "standoff": 15
           },
           "zerolinecolor": "white",
           "zerolinewidth": 2
          },
          "yaxis": {
           "automargin": true,
           "gridcolor": "white",
           "linecolor": "white",
           "ticks": "",
           "title": {
            "standoff": 15
           },
           "zerolinecolor": "white",
           "zerolinewidth": 2
          }
         }
        },
        "width": 2400
       }
      }
     },
     "metadata": {},
     "output_type": "display_data"
    }
   ],
   "source": [
    "import plotly.express as px\n",
    "import numpy as np\n",
    "\n",
    "# Replace NaN values with 0 in 'Total Unique Parts' column\n",
    "filtered_df['Total Unique Parts'] = filtered_df['Total Unique Parts'].fillna(0)\n",
    "\n",
    "# Ensure 'Total Unique Parts' has at least some non-zero values\n",
    "if filtered_df['Total Unique Parts'].sum() == 0:\n",
    "    print(\"Warning: All values in 'Total Unique Parts' are zero. Adding a small value to avoid division by zero.\")\n",
    "    filtered_df['Total Unique Parts'] = filtered_df['Total Unique Parts'] + 1\n",
    "\n",
    "# Replace NaN values with 0 in 'Composite Received %' column\n",
    "filtered_df['Composite Received %'] = filtered_df['Composite Received %'].fillna(0)\n",
    "\n",
    "# Create the treemap\n",
    "fig = px.treemap(filtered_df, \n",
    "                 path=['Top', 'First', 'Second', 'Third', 'Fourth'], \n",
    "                 values='Total Unique Parts',\n",
    "                 #color='Composite Received %', \n",
    "                 hover_data=['Composite Not Received'],\n",
    "                 width=2400, \n",
    "                 height=1200\n",
    ")\n",
    "fig.update_traces(root_color=\"lightgrey\")\n",
    "fig.update_layout(\n",
    "    margin=dict(t=50, l=25, r=25, b=25)\n",
    "    #uniformtext=dict(minsize=6, mode='show')\n",
    "    )\n",
    "\n",
    "fig.show()"
   ]
  }
 ],
 "metadata": {
  "kernelspec": {
   "display_name": "base",
   "language": "python",
   "name": "python3"
  },
  "language_info": {
   "codemirror_mode": {
    "name": "ipython",
    "version": 3
   },
   "file_extension": ".py",
   "mimetype": "text/x-python",
   "name": "python",
   "nbconvert_exporter": "python",
   "pygments_lexer": "ipython3",
   "version": "3.12.7"
  }
 },
 "nbformat": 4,
 "nbformat_minor": 2
}
